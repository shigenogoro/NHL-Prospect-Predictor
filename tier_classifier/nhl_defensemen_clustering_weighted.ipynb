{
 "cells": [
  {
   "metadata": {},
   "cell_type": "markdown",
   "source": [
    "# NHL Defensemen Clustering (Weighted)\n",
    "\n",
    "This file is used to cluster the NHL Defensemen into tiers.\n",
    "\n",
    "- Weighted attributes based on importance\n",
    "\n",
    "- Since there are some young players are already dominating the league, but their cumulative stats are low. We need to give more weight to their per-game stats, and consider their potential by their age."
   ],
   "id": "e44b84d08cfc3e58"
  },
  {
   "metadata": {},
   "cell_type": "markdown",
   "source": "## Import Libraries",
   "id": "662448a6910811c6"
  },
  {
   "metadata": {
    "ExecuteTime": {
     "end_time": "2025-08-23T00:53:06.756756Z",
     "start_time": "2025-08-23T00:53:06.115317Z"
    }
   },
   "cell_type": "code",
   "source": [
    "# Import Libraries\n",
    "import pandas as pd\n",
    "import numpy as np"
   ],
   "id": "3077a360256be5e7",
   "outputs": [],
   "execution_count": 1
  },
  {
   "metadata": {},
   "cell_type": "markdown",
   "source": "## Defensemen Clustering",
   "id": "ddf8a5ab996c15d2"
  },
  {
   "metadata": {
    "ExecuteTime": {
     "end_time": "2025-08-23T00:55:28.942499Z",
     "start_time": "2025-08-23T00:55:28.910528Z"
    }
   },
   "cell_type": "code",
   "source": [
    "# Load Defensemen\n",
    "nhl_defensemen = pd.read_csv('../dataset/preprocess/nhl_defensemen.csv')\n",
    "nhl_defensemen.shape"
   ],
   "id": "30612550f5ae9357",
   "outputs": [
    {
     "data": {
      "text/plain": [
       "(834, 69)"
      ]
     },
     "execution_count": 8,
     "metadata": {},
     "output_type": "execute_result"
    }
   ],
   "execution_count": 8
  },
  {
   "metadata": {},
   "cell_type": "markdown",
   "source": [
    "### Processing Stats Attributes (numeric)\n",
    "\n",
    "- Select numeric columns\n",
    "\n",
    "- Apply weights to the stats\n",
    "\n",
    "- Standardize them"
   ],
   "id": "9ac52cd4cd181993"
  },
  {
   "metadata": {},
   "cell_type": "code",
   "outputs": [],
   "execution_count": null,
   "source": "",
   "id": "f3405923d299bc32"
  }
 ],
 "metadata": {
  "kernelspec": {
   "display_name": "Python 3",
   "language": "python",
   "name": "python3"
  },
  "language_info": {
   "codemirror_mode": {
    "name": "ipython",
    "version": 2
   },
   "file_extension": ".py",
   "mimetype": "text/x-python",
   "name": "python",
   "nbconvert_exporter": "python",
   "pygments_lexer": "ipython2",
   "version": "2.7.6"
  }
 },
 "nbformat": 4,
 "nbformat_minor": 5
}
