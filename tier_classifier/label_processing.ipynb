{
 "cells": [
  {
   "metadata": {},
   "cell_type": "markdown",
   "source": [
    "# Label Processing\n",
    "\n",
    "This file merges the Forwards, Defensemen, and Fringe players into a single dataset.\n",
    "\n",
    "- It will only keep the `player_id`, `player_name_official`, `player_pos_official`, and `tier` columns."
   ],
   "id": "b3401d2e846a0988"
  },
  {
   "metadata": {},
   "cell_type": "markdown",
   "source": "## Import Libraries",
   "id": "234b74ed48ba474e"
  },
  {
   "metadata": {
    "ExecuteTime": {
     "end_time": "2025-08-22T23:47:47.929160Z",
     "start_time": "2025-08-22T23:47:47.918582Z"
    }
   },
   "cell_type": "code",
   "source": "import pandas as pd",
   "id": "799a1d638d2cfb2c",
   "outputs": [],
   "execution_count": 1
  },
  {
   "metadata": {},
   "cell_type": "markdown",
   "source": "## Load Data",
   "id": "ee0979d0a1936669"
  },
  {
   "metadata": {
    "ExecuteTime": {
     "end_time": "2025-08-23T00:11:38.678264Z",
     "start_time": "2025-08-23T00:11:38.609530Z"
    }
   },
   "cell_type": "code",
   "source": [
    "# Load Forwards\n",
    "nhl_forwards = pd.read_csv('../dataset/preprocess/nhl_forwards_with_tiers.csv')\n",
    "\n",
    "# Load Defensemen\n",
    "nhl_defensemen = pd.read_csv('../dataset/preprocess/nhl_defensemen_with_tiers.csv')\n",
    "\n",
    "# Load Fringe Players\n",
    "nhl_fringe_players = pd.read_csv('../dataset/preprocess/nhl_fringe_players.csv')"
   ],
   "id": "a2ce686f032ac3a",
   "outputs": [],
   "execution_count": 2
  },
  {
   "metadata": {
    "ExecuteTime": {
     "end_time": "2025-08-23T00:12:06.772720Z",
     "start_time": "2025-08-23T00:12:06.766773Z"
    }
   },
   "cell_type": "code",
   "source": [
    "# Assign Tiers to fringe players by 5\n",
    "nhl_fringe_players['tier'] = 5"
   ],
   "id": "8a8b183e038e3da9",
   "outputs": [],
   "execution_count": 3
  },
  {
   "metadata": {},
   "cell_type": "markdown",
   "source": "## Combine Data",
   "id": "207109ec5a005c0a"
  },
  {
   "metadata": {
    "ExecuteTime": {
     "end_time": "2025-08-23T00:12:32.651268Z",
     "start_time": "2025-08-23T00:12:32.632692Z"
    }
   },
   "cell_type": "code",
   "source": [
    "# Combine Forwards, Defensemen, and Fringe Players\n",
    "nhl_players_with_tiers = pd.concat([nhl_forwards, nhl_defensemen, nhl_fringe_players]).reset_index(drop=True)"
   ],
   "id": "cb68540e45eb39b1",
   "outputs": [],
   "execution_count": 4
  },
  {
   "metadata": {
    "ExecuteTime": {
     "end_time": "2025-08-23T00:12:44.141701Z",
     "start_time": "2025-08-23T00:12:44.131103Z"
    }
   },
   "cell_type": "code",
   "source": "nhl_players_with_tiers.shape",
   "id": "a333defac1332b6b",
   "outputs": [
    {
     "data": {
      "text/plain": [
       "(3742, 135)"
      ]
     },
     "execution_count": 5,
     "metadata": {},
     "output_type": "execute_result"
    }
   ],
   "execution_count": 5
  },
  {
   "metadata": {
    "ExecuteTime": {
     "end_time": "2025-08-23T00:13:00.436723Z",
     "start_time": "2025-08-23T00:13:00.430717Z"
    }
   },
   "cell_type": "code",
   "source": [
    "# Keep only player_id, player_name_official, player_pos_official, and tier\n",
    "nhl_players_with_tiers = nhl_players_with_tiers[['player_id', 'player_name_official', 'player_pos_official', 'tier']]"
   ],
   "id": "8e950edc15a11f5c",
   "outputs": [],
   "execution_count": 6
  },
  {
   "metadata": {
    "ExecuteTime": {
     "end_time": "2025-08-23T00:13:09.565673Z",
     "start_time": "2025-08-23T00:13:09.555837Z"
    }
   },
   "cell_type": "code",
   "source": "nhl_players_with_tiers.shape",
   "id": "426c780945eb14d2",
   "outputs": [
    {
     "data": {
      "text/plain": [
       "(3742, 4)"
      ]
     },
     "execution_count": 7,
     "metadata": {},
     "output_type": "execute_result"
    }
   ],
   "execution_count": 7
  },
  {
   "metadata": {},
   "cell_type": "markdown",
   "source": "## Write to CSV",
   "id": "74b8cc78ac11035"
  },
  {
   "metadata": {
    "ExecuteTime": {
     "end_time": "2025-08-23T00:13:24.403413Z",
     "start_time": "2025-08-23T00:13:24.390767Z"
    }
   },
   "cell_type": "code",
   "source": "nhl_players_with_tiers.to_csv('../dataset/nhl_players_with_tiers.csv', index=False, encoding='utf-8-sig')",
   "id": "fd418ed4ebf25300",
   "outputs": [],
   "execution_count": 8
  }
 ],
 "metadata": {
  "kernelspec": {
   "display_name": "Python 3",
   "language": "python",
   "name": "python3"
  },
  "language_info": {
   "codemirror_mode": {
    "name": "ipython",
    "version": 2
   },
   "file_extension": ".py",
   "mimetype": "text/x-python",
   "name": "python",
   "nbconvert_exporter": "python",
   "pygments_lexer": "ipython2",
   "version": "2.7.6"
  }
 },
 "nbformat": 4,
 "nbformat_minor": 5
}
