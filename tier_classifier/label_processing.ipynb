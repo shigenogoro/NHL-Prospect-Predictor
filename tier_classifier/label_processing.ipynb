{
 "cells": [
  {
   "cell_type": "code",
   "id": "initial_id",
   "metadata": {
    "collapsed": true,
    "ExecuteTime": {
     "end_time": "2025-08-22T17:26:25.494178Z",
     "start_time": "2025-08-22T17:26:25.420178Z"
    }
   },
   "source": [
    "import ast\n",
    "import re\n",
    "import pandas as pd\n",
    "\n",
    "# Load your Excel file\n",
    "df_awards = pd.read_csv(\"../dataset/nhl_players_metadata_facts_merged_final.csv\")\n",
    "\n",
    "# Convert stringified lists into actual lists\n",
    "df_awards[\"highlights\"] = df_awards[\"highlights\"].apply(\n",
    "    lambda x: ast.literal_eval(x) if isinstance(x, str) else x\n",
    ")\n",
    "\n",
    "# Flatten all highlights into a single list\n",
    "all_highlights = [item for sublist in df_awards[\"highlights\"] for item in sublist]\n",
    "\n",
    "# Regex pattern: matches \"1-time \" or \"2-time \" etc. at the start\n",
    "pattern = re.compile(r\"^\\d+-time\\s+\")\n",
    "\n",
    "# Extract NHL related awards\n",
    "all_highlights = [h for h in all_highlights if \"NHL\" in h]\n",
    "\n",
    "# Normalize award names\n",
    "normalized_awards = [pattern.sub(\"\", h).strip() for h in all_highlights]\n",
    "\n",
    "# Extract unique award names\n",
    "unique_awards = sorted(set(normalized_awards))\n",
    "\n",
    "# Show them\n",
    "for award in unique_awards:\n",
    "    print(award)\n"
   ],
   "outputs": [
    {
     "name": "stdout",
     "output_type": "stream",
     "text": [
      "NHL 4 Nations Champion\n",
      "NHL 4 Nations MVP\n",
      "NHL 4 Nations Most Points\n",
      "NHL All-Rookie Team\n",
      "NHL Best Defenseman (Norris Trophy)\n",
      "NHL Contribution to U.S. Hockey (Lester Patrick Trophy)\n",
      "NHL First All-Star Team\n",
      "NHL Foundation Player Award\n",
      "NHL Gentleman Conduct (Lady Byng Trophy)\n",
      "NHL Leadership-Humanitarian Award (King Clancy Trophy)\n",
      "NHL MVP Selected by NHLPA (Ted Lindsay Award)\n",
      "NHL Mark Messier Leadership Award\n",
      "NHL Most Assists\n",
      "NHL Most Goals (Maurice Richard Trophy)\n",
      "NHL Most Points (Art Ross Trophy)\n",
      "NHL Most Valuable Player (Hart Trophy)\n",
      "NHL Rookie of the Year (Calder Trophy)\n",
      "NHL Second All-Star Team\n",
      "NHL Sportsmanship Award (Bill Masterton Trophy)\n",
      "NHL Stanley Cup Champion\n",
      "NHL Stanley Cup MVP (Conn Smythe Trophy)\n",
      "NHL Top Defensive Forward (Frank J. Selke Trophy)\n"
     ]
    }
   ],
   "execution_count": 3
  },
  {
   "metadata": {},
   "cell_type": "code",
   "outputs": [],
   "execution_count": null,
   "source": "",
   "id": "77df16045c5970fa"
  }
 ],
 "metadata": {
  "kernelspec": {
   "display_name": "Python 3",
   "language": "python",
   "name": "python3"
  },
  "language_info": {
   "codemirror_mode": {
    "name": "ipython",
    "version": 2
   },
   "file_extension": ".py",
   "mimetype": "text/x-python",
   "name": "python",
   "nbconvert_exporter": "python",
   "pygments_lexer": "ipython2",
   "version": "2.7.6"
  }
 },
 "nbformat": 4,
 "nbformat_minor": 5
}
