{
 "cells": [
  {
   "metadata": {},
   "cell_type": "markdown",
   "source": [
    "# NHL Stats Preparation\n",
    "## Collecting NHL Players' Stats from EliteProspects\n",
    "This step gathers player performance data across leagues and seasons for downstream NHL prediction.\n",
    "\n",
    "- Collect league-wide player stats for a given season from\n",
    "https://eliteprospects.com/league/{league}/stats/{season}?page={n}\n",
    "\n",
    "- Extract metadata, including individual player profile links.\n",
    "\n",
    "- Build a unique player list from seasons 2000–2025 by storing profile links in a set.\n",
    "\n",
    "- Scrape each player’s page to retrieve their first 5 years of NHL stats, filtered by seasons where they played more than 30 games.\n",
    "\n",
    "- Gather pre-NHL stats for each player (junior, college, international, etc.)."
   ],
   "id": "61eed713b68d6202"
  },
  {
   "metadata": {},
   "cell_type": "markdown",
   "source": "### Import Libraries",
   "id": "ff38163b29e8198d"
  },
  {
   "metadata": {
    "ExecuteTime": {
     "end_time": "2025-07-16T19:13:25.603087Z",
     "start_time": "2025-07-16T19:13:21.495743Z"
    }
   },
   "cell_type": "code",
   "source": [
    "import eliteprospects_scraper_api as ep\n",
    "import pandas as pd\n",
    "import os\n",
    "import time"
   ],
   "id": "1670e1470bfca24c",
   "outputs": [],
   "execution_count": 1
  },
  {
   "metadata": {},
   "cell_type": "markdown",
   "source": "### Collecting NHL Players' Stats from EliteProspects\n",
   "id": "1a95a8349f6370e8"
  },
  {
   "metadata": {
    "ExecuteTime": {
     "end_time": "2025-07-16T19:13:25.663048Z",
     "start_time": "2025-07-16T19:13:25.652747Z"
    }
   },
   "cell_type": "code",
   "source": [
    "if not os.path.exists('./data/nhl/nhl_players_metadata.csv'):\n",
    "    # Collect players from 2000-2025 season\n",
    "    for i in range(0, 25):\n",
    "        season = f'20{str(i).zfill(2)}-20{str(i + 1).zfill(2)}'\n",
    "        print(f'Scraping {season}')\n",
    "        nhl_players = ep.get_season_roster(\"nhl\", season)\n",
    "        nhl_players.to_csv(f'./data/nhl/players/nhl_players_{season}.csv', index=False, encoding='utf-8-sig')\n",
    "        print(f'Finished scraping {season}')\n",
    "else:\n",
    "    print('NHL players metadata already exists. Skipping scraping.')"
   ],
   "id": "103ad94c73c9cfb5",
   "outputs": [
    {
     "name": "stdout",
     "output_type": "stream",
     "text": [
      "NHL players metadata already exists. Skipping scraping.\n"
     ]
    }
   ],
   "execution_count": 2
  },
  {
   "metadata": {
    "ExecuteTime": {
     "end_time": "2025-07-16T19:13:26.535070Z",
     "start_time": "2025-07-16T19:13:26.494863Z"
    }
   },
   "cell_type": "code",
   "source": [
    "if not os.path.exists('./data/nhl/nhl_players_metadata.csv'):\n",
    "    # Collect players' metadata from 2000-2025 season\n",
    "    nhl_players_metadata = pd.DataFrame()\n",
    "    for i in range(0, 25):\n",
    "        season = f'20{str(i).zfill(2)}-20{str(i + 1).zfill(2)}'\n",
    "        nhl_players = pd.read_csv(f'./data/nhl/players/nhl_players_{season}.csv')\n",
    "        nhl_players_metadata = pd.concat([nhl_players_metadata, ep.get_players_metadata(nhl_players)]).reset_index(drop=True)\n",
    "        # Remove duplicates\n",
    "        nhl_players_metadata = nhl_players_metadata.drop_duplicates(subset=['playername']).reset_index(drop=True)\n",
    "        print(f'Finished Merging Metadata for {season}')\n",
    "else:\n",
    "    print('NHL players metadata already exists. Skipping merging.')\n",
    "    nhl_players_metadata = pd.read_csv('./data/nhl/nhl_players_metadata.csv')\n"
   ],
   "id": "c42101a4c478a8b2",
   "outputs": [
    {
     "name": "stdout",
     "output_type": "stream",
     "text": [
      "NHL players metadata already exists. Skipping merging.\n"
     ]
    }
   ],
   "execution_count": 3
  },
  {
   "metadata": {
    "ExecuteTime": {
     "end_time": "2025-07-16T19:13:26.779506Z",
     "start_time": "2025-07-16T19:13:26.756894Z"
    }
   },
   "cell_type": "code",
   "source": "nhl_players_metadata",
   "id": "17f07bfdc6935dad",
   "outputs": [
    {
     "data": {
      "text/plain": [
       "              playername fw_def  \\\n",
       "0           Jaromír Jágr     FW   \n",
       "1              Joe Sakic     FW   \n",
       "2           Patrik Elias     FW   \n",
       "3         Alexei Kovalev     FW   \n",
       "4          Jason Allison     FW   \n",
       "...                  ...    ...   \n",
       "3923   Nikita Grebyonkin     FW   \n",
       "3924        Noah Östlund     FW   \n",
       "3925      Matt Stienburg     FW   \n",
       "3926  Nikita Prishchepov     FW   \n",
       "3927         Jere Innala     FW   \n",
       "\n",
       "                                                   link  \n",
       "0     https://www.eliteprospects.com/player/8627/jar...  \n",
       "1     https://www.eliteprospects.com/player/8862/joe...  \n",
       "2     https://www.eliteprospects.com/player/8698/pat...  \n",
       "3     https://www.eliteprospects.com/player/8670/ale...  \n",
       "4     https://www.eliteprospects.com/player/9064/jas...  \n",
       "...                                                 ...  \n",
       "3923  https://www.eliteprospects.com/player/652832/n...  \n",
       "3924  https://www.eliteprospects.com/player/535699/n...  \n",
       "3925  https://www.eliteprospects.com/player/267112/m...  \n",
       "3926  https://www.eliteprospects.com/player/691679/n...  \n",
       "3927  https://www.eliteprospects.com/player/277079/j...  \n",
       "\n",
       "[3928 rows x 3 columns]"
      ],
      "text/html": [
       "<div>\n",
       "<style scoped>\n",
       "    .dataframe tbody tr th:only-of-type {\n",
       "        vertical-align: middle;\n",
       "    }\n",
       "\n",
       "    .dataframe tbody tr th {\n",
       "        vertical-align: top;\n",
       "    }\n",
       "\n",
       "    .dataframe thead th {\n",
       "        text-align: right;\n",
       "    }\n",
       "</style>\n",
       "<table border=\"1\" class=\"dataframe\">\n",
       "  <thead>\n",
       "    <tr style=\"text-align: right;\">\n",
       "      <th></th>\n",
       "      <th>playername</th>\n",
       "      <th>fw_def</th>\n",
       "      <th>link</th>\n",
       "    </tr>\n",
       "  </thead>\n",
       "  <tbody>\n",
       "    <tr>\n",
       "      <th>0</th>\n",
       "      <td>Jaromír Jágr</td>\n",
       "      <td>FW</td>\n",
       "      <td>https://www.eliteprospects.com/player/8627/jar...</td>\n",
       "    </tr>\n",
       "    <tr>\n",
       "      <th>1</th>\n",
       "      <td>Joe Sakic</td>\n",
       "      <td>FW</td>\n",
       "      <td>https://www.eliteprospects.com/player/8862/joe...</td>\n",
       "    </tr>\n",
       "    <tr>\n",
       "      <th>2</th>\n",
       "      <td>Patrik Elias</td>\n",
       "      <td>FW</td>\n",
       "      <td>https://www.eliteprospects.com/player/8698/pat...</td>\n",
       "    </tr>\n",
       "    <tr>\n",
       "      <th>3</th>\n",
       "      <td>Alexei Kovalev</td>\n",
       "      <td>FW</td>\n",
       "      <td>https://www.eliteprospects.com/player/8670/ale...</td>\n",
       "    </tr>\n",
       "    <tr>\n",
       "      <th>4</th>\n",
       "      <td>Jason Allison</td>\n",
       "      <td>FW</td>\n",
       "      <td>https://www.eliteprospects.com/player/9064/jas...</td>\n",
       "    </tr>\n",
       "    <tr>\n",
       "      <th>...</th>\n",
       "      <td>...</td>\n",
       "      <td>...</td>\n",
       "      <td>...</td>\n",
       "    </tr>\n",
       "    <tr>\n",
       "      <th>3923</th>\n",
       "      <td>Nikita Grebyonkin</td>\n",
       "      <td>FW</td>\n",
       "      <td>https://www.eliteprospects.com/player/652832/n...</td>\n",
       "    </tr>\n",
       "    <tr>\n",
       "      <th>3924</th>\n",
       "      <td>Noah Östlund</td>\n",
       "      <td>FW</td>\n",
       "      <td>https://www.eliteprospects.com/player/535699/n...</td>\n",
       "    </tr>\n",
       "    <tr>\n",
       "      <th>3925</th>\n",
       "      <td>Matt Stienburg</td>\n",
       "      <td>FW</td>\n",
       "      <td>https://www.eliteprospects.com/player/267112/m...</td>\n",
       "    </tr>\n",
       "    <tr>\n",
       "      <th>3926</th>\n",
       "      <td>Nikita Prishchepov</td>\n",
       "      <td>FW</td>\n",
       "      <td>https://www.eliteprospects.com/player/691679/n...</td>\n",
       "    </tr>\n",
       "    <tr>\n",
       "      <th>3927</th>\n",
       "      <td>Jere Innala</td>\n",
       "      <td>FW</td>\n",
       "      <td>https://www.eliteprospects.com/player/277079/j...</td>\n",
       "    </tr>\n",
       "  </tbody>\n",
       "</table>\n",
       "<p>3928 rows × 3 columns</p>\n",
       "</div>"
      ]
     },
     "execution_count": 4,
     "metadata": {},
     "output_type": "execute_result"
    }
   ],
   "execution_count": 4
  },
  {
   "metadata": {},
   "cell_type": "markdown",
   "source": "### Collect Stats for Each Player from 2000-2025 CSV file",
   "id": "65ed007417c4be3b"
  },
  {
   "metadata": {
    "ExecuteTime": {
     "end_time": "2025-07-16T19:13:32.124437Z",
     "start_time": "2025-07-16T19:13:32.111726Z"
    }
   },
   "cell_type": "code",
   "source": [
    "# Define output file\n",
    "output_path = './data/nhl/stats/nhl_players_stats.csv'\n",
    "failed_path = './data/nhl/stats/failed_players.csv'"
   ],
   "id": "7478da7bf967764e",
   "outputs": [],
   "execution_count": 5
  },
  {
   "metadata": {
    "ExecuteTime": {
     "end_time": "2025-07-16T19:14:41.595979Z",
     "start_time": "2025-07-16T19:14:41.577172Z"
    }
   },
   "cell_type": "code",
   "source": [
    "# Define function to get player stats with retries and start, end\n",
    "# Use ep.get_single_player_stats()\n",
    "\n",
    "def get_player_stats_with_retries(start = 0, end = len(nhl_players_metadata), retries = 3):\n",
    "    if end > len(nhl_players_metadata):\n",
    "        end = len(nhl_players_metadata)\n",
    "    print(f'Collecting stats for players {start} to {end}')\n",
    "\n",
    "    # Delete files if it's the first player\n",
    "    if start == 0:\n",
    "        if os.path.exists(output_path):\n",
    "            os.remove(output_path)\n",
    "            print(f'Deleted {output_path} to start fresh')\n",
    "        if os.path.exists(failed_path):\n",
    "            os.remove(failed_path)\n",
    "            print(f'Deleted {failed_path} to start fresh')\n",
    "\n",
    "    for i in range(start, end):\n",
    "        # Print divider for every 10 players\n",
    "        if i % 10 == 0:\n",
    "            print('----------------------------------------------------------------')\n",
    "\n",
    "        # Get player metadata\n",
    "        player_metadata = nhl_players_metadata.iloc[i]\n",
    "        player_name = player_metadata['playername']\n",
    "        player_url = player_metadata['link']\n",
    "\n",
    "        for attempt in range(retries):\n",
    "            try:\n",
    "                print(f\"Collecting stats for {player_name} at {player_url} (Attempt {attempt + 1})\")\n",
    "                player_stats = ep.get_single_player_stats(player_metadata)\n",
    "\n",
    "                # Write player_stats to CSV\n",
    "                if os.path.exists(output_path):\n",
    "                    player_stats.to_csv(output_path, mode='a', header=False, index=False, encoding='utf-8-sig')\n",
    "                else:\n",
    "                    player_stats.to_csv(output_path, index=False, encoding='utf-8-sig')\n",
    "                print(f'Successfully scraped stats for {player_name}')\n",
    "                break\n",
    "            except Exception as e:\n",
    "                print(f\"Attempt {attempt + 1} failed for {player_metadata['playername']}: {e}\")\n",
    "                if attempt < retries - 1:\n",
    "                    time.sleep(2)  # Wait before retrying\n",
    "                else:\n",
    "                    # Log failed players to a separate CSV file\n",
    "                    if os.path.exists(failed_path):\n",
    "                        player_metadata.to_csv(failed_path, mode='a', header=False, index=False, encoding='utf-8-sig')\n",
    "                    else:\n",
    "                        player_metadata.to_csv(failed_path, index=False, encoding='utf-8-sig')\n",
    "                    print(f'Failed to scrape stats for {player_name} after {retries} attempts')\n"
   ],
   "id": "faa564250b2208ca",
   "outputs": [],
   "execution_count": 8
  },
  {
   "metadata": {
    "jupyter": {
     "is_executing": true
    },
    "ExecuteTime": {
     "start_time": "2025-07-16T19:14:45.959545Z"
    }
   },
   "cell_type": "code",
   "source": [
    "# Get 0-100 players' stats\n",
    "get_player_stats_with_retries(0, 100)"
   ],
   "id": "20fa99e3718ac19a",
   "outputs": [
    {
     "name": "stdout",
     "output_type": "stream",
     "text": [
      "Collecting stats for players 0 to 100\n",
      "----------------------------------------------------------------\n",
      "Collecting stats for Jaromír Jágr at https://www.eliteprospects.com/player/8627/jaromir-jagr (Attempt 1)\n",
      "Collecting regular season stats from https://www.eliteprospects.com/player/8627/jaromir-jagr\n"
     ]
    },
    {
     "ename": "KeyboardInterrupt",
     "evalue": "",
     "output_type": "error",
     "traceback": [
      "\u001B[31m---------------------------------------------------------------------------\u001B[39m",
      "\u001B[31mKeyboardInterrupt\u001B[39m                         Traceback (most recent call last)",
      "\u001B[36mCell\u001B[39m\u001B[36m \u001B[39m\u001B[32mIn[9]\u001B[39m\u001B[32m, line 2\u001B[39m\n\u001B[32m      1\u001B[39m \u001B[38;5;66;03m# Get 0-100 players' stats\u001B[39;00m\n\u001B[32m----> \u001B[39m\u001B[32m2\u001B[39m \u001B[43mget_player_stats_with_retries\u001B[49m\u001B[43m(\u001B[49m\u001B[32;43m0\u001B[39;49m\u001B[43m,\u001B[49m\u001B[43m \u001B[49m\u001B[32;43m100\u001B[39;49m\u001B[43m)\u001B[49m\n",
      "\u001B[36mCell\u001B[39m\u001B[36m \u001B[39m\u001B[32mIn[8]\u001B[39m\u001B[32m, line 31\u001B[39m, in \u001B[36mget_player_stats_with_retries\u001B[39m\u001B[34m(start, end, retries)\u001B[39m\n\u001B[32m     29\u001B[39m \u001B[38;5;28;01mtry\u001B[39;00m:\n\u001B[32m     30\u001B[39m     \u001B[38;5;28mprint\u001B[39m(\u001B[33mf\u001B[39m\u001B[33m\"\u001B[39m\u001B[33mCollecting stats for \u001B[39m\u001B[38;5;132;01m{\u001B[39;00mplayer_name\u001B[38;5;132;01m}\u001B[39;00m\u001B[33m at \u001B[39m\u001B[38;5;132;01m{\u001B[39;00mplayer_url\u001B[38;5;132;01m}\u001B[39;00m\u001B[33m (Attempt \u001B[39m\u001B[38;5;132;01m{\u001B[39;00mattempt\u001B[38;5;250m \u001B[39m+\u001B[38;5;250m \u001B[39m\u001B[32m1\u001B[39m\u001B[38;5;132;01m}\u001B[39;00m\u001B[33m)\u001B[39m\u001B[33m\"\u001B[39m)\n\u001B[32m---> \u001B[39m\u001B[32m31\u001B[39m     player_stats = \u001B[43mep\u001B[49m\u001B[43m.\u001B[49m\u001B[43mget_single_player_stats\u001B[49m\u001B[43m(\u001B[49m\u001B[43mplayer_metadata\u001B[49m\u001B[43m)\u001B[49m\n\u001B[32m     33\u001B[39m     \u001B[38;5;66;03m# Write player_stats to CSV\u001B[39;00m\n\u001B[32m     34\u001B[39m     \u001B[38;5;28;01mif\u001B[39;00m os.path.exists(output_path):\n",
      "\u001B[36mFile \u001B[39m\u001B[32mD:\\CS_Knowledge\\NHL-Prospect-Predictor\\eliteprospects_scraper\\eliteprospects_scraper_api.py:297\u001B[39m, in \u001B[36mget_single_player_stats\u001B[39m\u001B[34m(player_metadata)\u001B[39m\n\u001B[32m    295\u001B[39m \u001B[38;5;66;03m# Get regular season stats\u001B[39;00m\n\u001B[32m    296\u001B[39m \u001B[38;5;28mprint\u001B[39m(\u001B[33mf\u001B[39m\u001B[33m\"\u001B[39m\u001B[33mCollecting regular season stats from \u001B[39m\u001B[38;5;132;01m{\u001B[39;00mplayer_url\u001B[38;5;132;01m}\u001B[39;00m\u001B[33m\"\u001B[39m)\n\u001B[32m--> \u001B[39m\u001B[32m297\u001B[39m df_regular = \u001B[43mget_single_player_stats_by_type\u001B[49m\u001B[43m(\u001B[49m\u001B[43mplayer_url\u001B[49m\u001B[43m,\u001B[49m\u001B[43m \u001B[49m\u001B[33;43m'\u001B[39;49m\u001B[33;43mRegular Season\u001B[39;49m\u001B[33;43m'\u001B[39;49m\u001B[43m)\u001B[49m\n\u001B[32m    299\u001B[39m \u001B[38;5;66;03m# Get postseason stats\u001B[39;00m\n\u001B[32m    300\u001B[39m \u001B[38;5;28mprint\u001B[39m(\u001B[33mf\u001B[39m\u001B[33m\"\u001B[39m\u001B[33mCollecting postseason stats from \u001B[39m\u001B[38;5;132;01m{\u001B[39;00mplayer_url\u001B[38;5;132;01m}\u001B[39;00m\u001B[33m\"\u001B[39m)\n",
      "\u001B[36mFile \u001B[39m\u001B[32mD:\\CS_Knowledge\\NHL-Prospect-Predictor\\eliteprospects_scraper\\eliteprospects_scraper_api.py:258\u001B[39m, in \u001B[36mget_single_player_stats_by_type\u001B[39m\u001B[34m(player_url, stat_type)\u001B[39m\n\u001B[32m    256\u001B[39m \u001B[38;5;66;03m# Step 2: Find the hidden input inside the dropdown and type the desired option\u001B[39;00m\n\u001B[32m    257\u001B[39m input_box = driver.find_element(By.ID, \u001B[33m\"\u001B[39m\u001B[33mreact-select-player-statistics-default-season-selector-league-input\u001B[39m\u001B[33m\"\u001B[39m)\n\u001B[32m--> \u001B[39m\u001B[32m258\u001B[39m \u001B[43minput_box\u001B[49m\u001B[43m.\u001B[49m\u001B[43msend_keys\u001B[49m\u001B[43m(\u001B[49m\u001B[43mstat_type\u001B[49m\u001B[43m)\u001B[49m\n\u001B[32m    259\u001B[39m input_box.send_keys(Keys.ENTER)\n\u001B[32m    261\u001B[39m \u001B[38;5;66;03m# Wait for the table to update\u001B[39;00m\n",
      "\u001B[36mFile \u001B[39m\u001B[32m~\\AppData\\Local\\Programs\\Python\\Python312\\Lib\\site-packages\\selenium\\webdriver\\remote\\webelement.py:304\u001B[39m, in \u001B[36mWebElement.send_keys\u001B[39m\u001B[34m(self, *value)\u001B[39m\n\u001B[32m    301\u001B[39m             remote_files.append(\u001B[38;5;28mself\u001B[39m._upload(file))\n\u001B[32m    302\u001B[39m         value = \u001B[38;5;28mtuple\u001B[39m(\u001B[33m\"\u001B[39m\u001B[38;5;130;01m\\n\u001B[39;00m\u001B[33m\"\u001B[39m.join(remote_files))\n\u001B[32m--> \u001B[39m\u001B[32m304\u001B[39m \u001B[38;5;28;43mself\u001B[39;49m\u001B[43m.\u001B[49m\u001B[43m_execute\u001B[49m\u001B[43m(\u001B[49m\n\u001B[32m    305\u001B[39m \u001B[43m    \u001B[49m\u001B[43mCommand\u001B[49m\u001B[43m.\u001B[49m\u001B[43mSEND_KEYS_TO_ELEMENT\u001B[49m\u001B[43m,\u001B[49m\u001B[43m \u001B[49m\u001B[43m{\u001B[49m\u001B[33;43m\"\u001B[39;49m\u001B[33;43mtext\u001B[39;49m\u001B[33;43m\"\u001B[39;49m\u001B[43m:\u001B[49m\u001B[43m \u001B[49m\u001B[33;43m\"\u001B[39;49m\u001B[33;43m\"\u001B[39;49m\u001B[43m.\u001B[49m\u001B[43mjoin\u001B[49m\u001B[43m(\u001B[49m\u001B[43mkeys_to_typing\u001B[49m\u001B[43m(\u001B[49m\u001B[43mvalue\u001B[49m\u001B[43m)\u001B[49m\u001B[43m)\u001B[49m\u001B[43m,\u001B[49m\u001B[43m \u001B[49m\u001B[33;43m\"\u001B[39;49m\u001B[33;43mvalue\u001B[39;49m\u001B[33;43m\"\u001B[39;49m\u001B[43m:\u001B[49m\u001B[43m \u001B[49m\u001B[43mkeys_to_typing\u001B[49m\u001B[43m(\u001B[49m\u001B[43mvalue\u001B[49m\u001B[43m)\u001B[49m\u001B[43m}\u001B[49m\n\u001B[32m    306\u001B[39m \u001B[43m\u001B[49m\u001B[43m)\u001B[49m\n",
      "\u001B[36mFile \u001B[39m\u001B[32m~\\AppData\\Local\\Programs\\Python\\Python312\\Lib\\site-packages\\selenium\\webdriver\\remote\\webelement.py:573\u001B[39m, in \u001B[36mWebElement._execute\u001B[39m\u001B[34m(self, command, params)\u001B[39m\n\u001B[32m    571\u001B[39m     params = {}\n\u001B[32m    572\u001B[39m params[\u001B[33m\"\u001B[39m\u001B[33mid\u001B[39m\u001B[33m\"\u001B[39m] = \u001B[38;5;28mself\u001B[39m._id\n\u001B[32m--> \u001B[39m\u001B[32m573\u001B[39m \u001B[38;5;28;01mreturn\u001B[39;00m \u001B[38;5;28;43mself\u001B[39;49m\u001B[43m.\u001B[49m\u001B[43m_parent\u001B[49m\u001B[43m.\u001B[49m\u001B[43mexecute\u001B[49m\u001B[43m(\u001B[49m\u001B[43mcommand\u001B[49m\u001B[43m,\u001B[49m\u001B[43m \u001B[49m\u001B[43mparams\u001B[49m\u001B[43m)\u001B[49m\n",
      "\u001B[36mFile \u001B[39m\u001B[32m~\\AppData\\Local\\Programs\\Python\\Python312\\Lib\\site-packages\\selenium\\webdriver\\remote\\webdriver.py:451\u001B[39m, in \u001B[36mWebDriver.execute\u001B[39m\u001B[34m(self, driver_command, params)\u001B[39m\n\u001B[32m    448\u001B[39m     \u001B[38;5;28;01melif\u001B[39;00m \u001B[33m\"\u001B[39m\u001B[33msessionId\u001B[39m\u001B[33m\"\u001B[39m \u001B[38;5;129;01mnot\u001B[39;00m \u001B[38;5;129;01min\u001B[39;00m params:\n\u001B[32m    449\u001B[39m         params[\u001B[33m\"\u001B[39m\u001B[33msessionId\u001B[39m\u001B[33m\"\u001B[39m] = \u001B[38;5;28mself\u001B[39m.session_id\n\u001B[32m--> \u001B[39m\u001B[32m451\u001B[39m response = \u001B[43mcast\u001B[49m\u001B[43m(\u001B[49m\u001B[43mRemoteConnection\u001B[49m\u001B[43m,\u001B[49m\u001B[43m \u001B[49m\u001B[38;5;28;43mself\u001B[39;49m\u001B[43m.\u001B[49m\u001B[43mcommand_executor\u001B[49m\u001B[43m)\u001B[49m\u001B[43m.\u001B[49m\u001B[43mexecute\u001B[49m\u001B[43m(\u001B[49m\u001B[43mdriver_command\u001B[49m\u001B[43m,\u001B[49m\u001B[43m \u001B[49m\u001B[43mparams\u001B[49m\u001B[43m)\u001B[49m\n\u001B[32m    453\u001B[39m \u001B[38;5;28;01mif\u001B[39;00m response:\n\u001B[32m    454\u001B[39m     \u001B[38;5;28mself\u001B[39m.error_handler.check_response(response)\n",
      "\u001B[36mFile \u001B[39m\u001B[32m~\\AppData\\Local\\Programs\\Python\\Python312\\Lib\\site-packages\\selenium\\webdriver\\remote\\remote_connection.py:404\u001B[39m, in \u001B[36mRemoteConnection.execute\u001B[39m\u001B[34m(self, command, params)\u001B[39m\n\u001B[32m    402\u001B[39m trimmed = \u001B[38;5;28mself\u001B[39m._trim_large_entries(params)\n\u001B[32m    403\u001B[39m LOGGER.debug(\u001B[33m\"\u001B[39m\u001B[38;5;132;01m%s\u001B[39;00m\u001B[33m \u001B[39m\u001B[38;5;132;01m%s\u001B[39;00m\u001B[33m \u001B[39m\u001B[38;5;132;01m%s\u001B[39;00m\u001B[33m\"\u001B[39m, command_info[\u001B[32m0\u001B[39m], url, \u001B[38;5;28mstr\u001B[39m(trimmed))\n\u001B[32m--> \u001B[39m\u001B[32m404\u001B[39m \u001B[38;5;28;01mreturn\u001B[39;00m \u001B[38;5;28;43mself\u001B[39;49m\u001B[43m.\u001B[49m\u001B[43m_request\u001B[49m\u001B[43m(\u001B[49m\u001B[43mcommand_info\u001B[49m\u001B[43m[\u001B[49m\u001B[32;43m0\u001B[39;49m\u001B[43m]\u001B[49m\u001B[43m,\u001B[49m\u001B[43m \u001B[49m\u001B[43murl\u001B[49m\u001B[43m,\u001B[49m\u001B[43m \u001B[49m\u001B[43mbody\u001B[49m\u001B[43m=\u001B[49m\u001B[43mdata\u001B[49m\u001B[43m)\u001B[49m\n",
      "\u001B[36mFile \u001B[39m\u001B[32m~\\AppData\\Local\\Programs\\Python\\Python312\\Lib\\site-packages\\selenium\\webdriver\\remote\\remote_connection.py:428\u001B[39m, in \u001B[36mRemoteConnection._request\u001B[39m\u001B[34m(self, method, url, body)\u001B[39m\n\u001B[32m    425\u001B[39m     body = \u001B[38;5;28;01mNone\u001B[39;00m\n\u001B[32m    427\u001B[39m \u001B[38;5;28;01mif\u001B[39;00m \u001B[38;5;28mself\u001B[39m._client_config.keep_alive:\n\u001B[32m--> \u001B[39m\u001B[32m428\u001B[39m     response = \u001B[38;5;28;43mself\u001B[39;49m\u001B[43m.\u001B[49m\u001B[43m_conn\u001B[49m\u001B[43m.\u001B[49m\u001B[43mrequest\u001B[49m\u001B[43m(\u001B[49m\u001B[43mmethod\u001B[49m\u001B[43m,\u001B[49m\u001B[43m \u001B[49m\u001B[43murl\u001B[49m\u001B[43m,\u001B[49m\u001B[43m \u001B[49m\u001B[43mbody\u001B[49m\u001B[43m=\u001B[49m\u001B[43mbody\u001B[49m\u001B[43m,\u001B[49m\u001B[43m \u001B[49m\u001B[43mheaders\u001B[49m\u001B[43m=\u001B[49m\u001B[43mheaders\u001B[49m\u001B[43m,\u001B[49m\u001B[43m \u001B[49m\u001B[43mtimeout\u001B[49m\u001B[43m=\u001B[49m\u001B[38;5;28;43mself\u001B[39;49m\u001B[43m.\u001B[49m\u001B[43m_client_config\u001B[49m\u001B[43m.\u001B[49m\u001B[43mtimeout\u001B[49m\u001B[43m)\u001B[49m\n\u001B[32m    429\u001B[39m     statuscode = response.status\n\u001B[32m    430\u001B[39m \u001B[38;5;28;01melse\u001B[39;00m:\n",
      "\u001B[36mFile \u001B[39m\u001B[32m~\\AppData\\Local\\Programs\\Python\\Python312\\Lib\\site-packages\\urllib3\\_request_methods.py:143\u001B[39m, in \u001B[36mRequestMethods.request\u001B[39m\u001B[34m(self, method, url, body, fields, headers, json, **urlopen_kw)\u001B[39m\n\u001B[32m    135\u001B[39m     \u001B[38;5;28;01mreturn\u001B[39;00m \u001B[38;5;28mself\u001B[39m.request_encode_url(\n\u001B[32m    136\u001B[39m         method,\n\u001B[32m    137\u001B[39m         url,\n\u001B[32m   (...)\u001B[39m\u001B[32m    140\u001B[39m         **urlopen_kw,\n\u001B[32m    141\u001B[39m     )\n\u001B[32m    142\u001B[39m \u001B[38;5;28;01melse\u001B[39;00m:\n\u001B[32m--> \u001B[39m\u001B[32m143\u001B[39m     \u001B[38;5;28;01mreturn\u001B[39;00m \u001B[38;5;28;43mself\u001B[39;49m\u001B[43m.\u001B[49m\u001B[43mrequest_encode_body\u001B[49m\u001B[43m(\u001B[49m\n\u001B[32m    144\u001B[39m \u001B[43m        \u001B[49m\u001B[43mmethod\u001B[49m\u001B[43m,\u001B[49m\u001B[43m \u001B[49m\u001B[43murl\u001B[49m\u001B[43m,\u001B[49m\u001B[43m \u001B[49m\u001B[43mfields\u001B[49m\u001B[43m=\u001B[49m\u001B[43mfields\u001B[49m\u001B[43m,\u001B[49m\u001B[43m \u001B[49m\u001B[43mheaders\u001B[49m\u001B[43m=\u001B[49m\u001B[43mheaders\u001B[49m\u001B[43m,\u001B[49m\u001B[43m \u001B[49m\u001B[43m*\u001B[49m\u001B[43m*\u001B[49m\u001B[43murlopen_kw\u001B[49m\n\u001B[32m    145\u001B[39m \u001B[43m    \u001B[49m\u001B[43m)\u001B[49m\n",
      "\u001B[36mFile \u001B[39m\u001B[32m~\\AppData\\Local\\Programs\\Python\\Python312\\Lib\\site-packages\\urllib3\\_request_methods.py:278\u001B[39m, in \u001B[36mRequestMethods.request_encode_body\u001B[39m\u001B[34m(self, method, url, fields, headers, encode_multipart, multipart_boundary, **urlopen_kw)\u001B[39m\n\u001B[32m    274\u001B[39m     extra_kw[\u001B[33m\"\u001B[39m\u001B[33mheaders\u001B[39m\u001B[33m\"\u001B[39m].setdefault(\u001B[33m\"\u001B[39m\u001B[33mContent-Type\u001B[39m\u001B[33m\"\u001B[39m, content_type)\n\u001B[32m    276\u001B[39m extra_kw.update(urlopen_kw)\n\u001B[32m--> \u001B[39m\u001B[32m278\u001B[39m \u001B[38;5;28;01mreturn\u001B[39;00m \u001B[38;5;28;43mself\u001B[39;49m\u001B[43m.\u001B[49m\u001B[43murlopen\u001B[49m\u001B[43m(\u001B[49m\u001B[43mmethod\u001B[49m\u001B[43m,\u001B[49m\u001B[43m \u001B[49m\u001B[43murl\u001B[49m\u001B[43m,\u001B[49m\u001B[43m \u001B[49m\u001B[43m*\u001B[49m\u001B[43m*\u001B[49m\u001B[43mextra_kw\u001B[49m\u001B[43m)\u001B[49m\n",
      "\u001B[36mFile \u001B[39m\u001B[32m~\\AppData\\Local\\Programs\\Python\\Python312\\Lib\\site-packages\\urllib3\\poolmanager.py:443\u001B[39m, in \u001B[36mPoolManager.urlopen\u001B[39m\u001B[34m(self, method, url, redirect, **kw)\u001B[39m\n\u001B[32m    441\u001B[39m     response = conn.urlopen(method, url, **kw)\n\u001B[32m    442\u001B[39m \u001B[38;5;28;01melse\u001B[39;00m:\n\u001B[32m--> \u001B[39m\u001B[32m443\u001B[39m     response = \u001B[43mconn\u001B[49m\u001B[43m.\u001B[49m\u001B[43murlopen\u001B[49m\u001B[43m(\u001B[49m\u001B[43mmethod\u001B[49m\u001B[43m,\u001B[49m\u001B[43m \u001B[49m\u001B[43mu\u001B[49m\u001B[43m.\u001B[49m\u001B[43mrequest_uri\u001B[49m\u001B[43m,\u001B[49m\u001B[43m \u001B[49m\u001B[43m*\u001B[49m\u001B[43m*\u001B[49m\u001B[43mkw\u001B[49m\u001B[43m)\u001B[49m\n\u001B[32m    445\u001B[39m redirect_location = redirect \u001B[38;5;129;01mand\u001B[39;00m response.get_redirect_location()\n\u001B[32m    446\u001B[39m \u001B[38;5;28;01mif\u001B[39;00m \u001B[38;5;129;01mnot\u001B[39;00m redirect_location:\n",
      "\u001B[36mFile \u001B[39m\u001B[32m~\\AppData\\Local\\Programs\\Python\\Python312\\Lib\\site-packages\\urllib3\\connectionpool.py:787\u001B[39m, in \u001B[36mHTTPConnectionPool.urlopen\u001B[39m\u001B[34m(self, method, url, body, headers, retries, redirect, assert_same_host, timeout, pool_timeout, release_conn, chunked, body_pos, preload_content, decode_content, **response_kw)\u001B[39m\n\u001B[32m    784\u001B[39m response_conn = conn \u001B[38;5;28;01mif\u001B[39;00m \u001B[38;5;129;01mnot\u001B[39;00m release_conn \u001B[38;5;28;01melse\u001B[39;00m \u001B[38;5;28;01mNone\u001B[39;00m\n\u001B[32m    786\u001B[39m \u001B[38;5;66;03m# Make the request on the HTTPConnection object\u001B[39;00m\n\u001B[32m--> \u001B[39m\u001B[32m787\u001B[39m response = \u001B[38;5;28;43mself\u001B[39;49m\u001B[43m.\u001B[49m\u001B[43m_make_request\u001B[49m\u001B[43m(\u001B[49m\n\u001B[32m    788\u001B[39m \u001B[43m    \u001B[49m\u001B[43mconn\u001B[49m\u001B[43m,\u001B[49m\n\u001B[32m    789\u001B[39m \u001B[43m    \u001B[49m\u001B[43mmethod\u001B[49m\u001B[43m,\u001B[49m\n\u001B[32m    790\u001B[39m \u001B[43m    \u001B[49m\u001B[43murl\u001B[49m\u001B[43m,\u001B[49m\n\u001B[32m    791\u001B[39m \u001B[43m    \u001B[49m\u001B[43mtimeout\u001B[49m\u001B[43m=\u001B[49m\u001B[43mtimeout_obj\u001B[49m\u001B[43m,\u001B[49m\n\u001B[32m    792\u001B[39m \u001B[43m    \u001B[49m\u001B[43mbody\u001B[49m\u001B[43m=\u001B[49m\u001B[43mbody\u001B[49m\u001B[43m,\u001B[49m\n\u001B[32m    793\u001B[39m \u001B[43m    \u001B[49m\u001B[43mheaders\u001B[49m\u001B[43m=\u001B[49m\u001B[43mheaders\u001B[49m\u001B[43m,\u001B[49m\n\u001B[32m    794\u001B[39m \u001B[43m    \u001B[49m\u001B[43mchunked\u001B[49m\u001B[43m=\u001B[49m\u001B[43mchunked\u001B[49m\u001B[43m,\u001B[49m\n\u001B[32m    795\u001B[39m \u001B[43m    \u001B[49m\u001B[43mretries\u001B[49m\u001B[43m=\u001B[49m\u001B[43mretries\u001B[49m\u001B[43m,\u001B[49m\n\u001B[32m    796\u001B[39m \u001B[43m    \u001B[49m\u001B[43mresponse_conn\u001B[49m\u001B[43m=\u001B[49m\u001B[43mresponse_conn\u001B[49m\u001B[43m,\u001B[49m\n\u001B[32m    797\u001B[39m \u001B[43m    \u001B[49m\u001B[43mpreload_content\u001B[49m\u001B[43m=\u001B[49m\u001B[43mpreload_content\u001B[49m\u001B[43m,\u001B[49m\n\u001B[32m    798\u001B[39m \u001B[43m    \u001B[49m\u001B[43mdecode_content\u001B[49m\u001B[43m=\u001B[49m\u001B[43mdecode_content\u001B[49m\u001B[43m,\u001B[49m\n\u001B[32m    799\u001B[39m \u001B[43m    \u001B[49m\u001B[43m*\u001B[49m\u001B[43m*\u001B[49m\u001B[43mresponse_kw\u001B[49m\u001B[43m,\u001B[49m\n\u001B[32m    800\u001B[39m \u001B[43m\u001B[49m\u001B[43m)\u001B[49m\n\u001B[32m    802\u001B[39m \u001B[38;5;66;03m# Everything went great!\u001B[39;00m\n\u001B[32m    803\u001B[39m clean_exit = \u001B[38;5;28;01mTrue\u001B[39;00m\n",
      "\u001B[36mFile \u001B[39m\u001B[32m~\\AppData\\Local\\Programs\\Python\\Python312\\Lib\\site-packages\\urllib3\\connectionpool.py:534\u001B[39m, in \u001B[36mHTTPConnectionPool._make_request\u001B[39m\u001B[34m(self, conn, method, url, body, headers, retries, timeout, chunked, response_conn, preload_content, decode_content, enforce_content_length)\u001B[39m\n\u001B[32m    532\u001B[39m \u001B[38;5;66;03m# Receive the response from the server\u001B[39;00m\n\u001B[32m    533\u001B[39m \u001B[38;5;28;01mtry\u001B[39;00m:\n\u001B[32m--> \u001B[39m\u001B[32m534\u001B[39m     response = \u001B[43mconn\u001B[49m\u001B[43m.\u001B[49m\u001B[43mgetresponse\u001B[49m\u001B[43m(\u001B[49m\u001B[43m)\u001B[49m\n\u001B[32m    535\u001B[39m \u001B[38;5;28;01mexcept\u001B[39;00m (BaseSSLError, \u001B[38;5;167;01mOSError\u001B[39;00m) \u001B[38;5;28;01mas\u001B[39;00m e:\n\u001B[32m    536\u001B[39m     \u001B[38;5;28mself\u001B[39m._raise_timeout(err=e, url=url, timeout_value=read_timeout)\n",
      "\u001B[36mFile \u001B[39m\u001B[32m~\\AppData\\Local\\Programs\\Python\\Python312\\Lib\\site-packages\\urllib3\\connection.py:516\u001B[39m, in \u001B[36mHTTPConnection.getresponse\u001B[39m\u001B[34m(self)\u001B[39m\n\u001B[32m    513\u001B[39m _shutdown = \u001B[38;5;28mgetattr\u001B[39m(\u001B[38;5;28mself\u001B[39m.sock, \u001B[33m\"\u001B[39m\u001B[33mshutdown\u001B[39m\u001B[33m\"\u001B[39m, \u001B[38;5;28;01mNone\u001B[39;00m)\n\u001B[32m    515\u001B[39m \u001B[38;5;66;03m# Get the response from http.client.HTTPConnection\u001B[39;00m\n\u001B[32m--> \u001B[39m\u001B[32m516\u001B[39m httplib_response = \u001B[38;5;28;43msuper\u001B[39;49m\u001B[43m(\u001B[49m\u001B[43m)\u001B[49m\u001B[43m.\u001B[49m\u001B[43mgetresponse\u001B[49m\u001B[43m(\u001B[49m\u001B[43m)\u001B[49m\n\u001B[32m    518\u001B[39m \u001B[38;5;28;01mtry\u001B[39;00m:\n\u001B[32m    519\u001B[39m     assert_header_parsing(httplib_response.msg)\n",
      "\u001B[36mFile \u001B[39m\u001B[32m~\\AppData\\Local\\Programs\\Python\\Python312\\Lib\\http\\client.py:1428\u001B[39m, in \u001B[36mHTTPConnection.getresponse\u001B[39m\u001B[34m(self)\u001B[39m\n\u001B[32m   1426\u001B[39m \u001B[38;5;28;01mtry\u001B[39;00m:\n\u001B[32m   1427\u001B[39m     \u001B[38;5;28;01mtry\u001B[39;00m:\n\u001B[32m-> \u001B[39m\u001B[32m1428\u001B[39m         \u001B[43mresponse\u001B[49m\u001B[43m.\u001B[49m\u001B[43mbegin\u001B[49m\u001B[43m(\u001B[49m\u001B[43m)\u001B[49m\n\u001B[32m   1429\u001B[39m     \u001B[38;5;28;01mexcept\u001B[39;00m \u001B[38;5;167;01mConnectionError\u001B[39;00m:\n\u001B[32m   1430\u001B[39m         \u001B[38;5;28mself\u001B[39m.close()\n",
      "\u001B[36mFile \u001B[39m\u001B[32m~\\AppData\\Local\\Programs\\Python\\Python312\\Lib\\http\\client.py:331\u001B[39m, in \u001B[36mHTTPResponse.begin\u001B[39m\u001B[34m(self)\u001B[39m\n\u001B[32m    329\u001B[39m \u001B[38;5;66;03m# read until we get a non-100 response\u001B[39;00m\n\u001B[32m    330\u001B[39m \u001B[38;5;28;01mwhile\u001B[39;00m \u001B[38;5;28;01mTrue\u001B[39;00m:\n\u001B[32m--> \u001B[39m\u001B[32m331\u001B[39m     version, status, reason = \u001B[38;5;28;43mself\u001B[39;49m\u001B[43m.\u001B[49m\u001B[43m_read_status\u001B[49m\u001B[43m(\u001B[49m\u001B[43m)\u001B[49m\n\u001B[32m    332\u001B[39m     \u001B[38;5;28;01mif\u001B[39;00m status != CONTINUE:\n\u001B[32m    333\u001B[39m         \u001B[38;5;28;01mbreak\u001B[39;00m\n",
      "\u001B[36mFile \u001B[39m\u001B[32m~\\AppData\\Local\\Programs\\Python\\Python312\\Lib\\http\\client.py:292\u001B[39m, in \u001B[36mHTTPResponse._read_status\u001B[39m\u001B[34m(self)\u001B[39m\n\u001B[32m    291\u001B[39m \u001B[38;5;28;01mdef\u001B[39;00m\u001B[38;5;250m \u001B[39m\u001B[34m_read_status\u001B[39m(\u001B[38;5;28mself\u001B[39m):\n\u001B[32m--> \u001B[39m\u001B[32m292\u001B[39m     line = \u001B[38;5;28mstr\u001B[39m(\u001B[38;5;28;43mself\u001B[39;49m\u001B[43m.\u001B[49m\u001B[43mfp\u001B[49m\u001B[43m.\u001B[49m\u001B[43mreadline\u001B[49m\u001B[43m(\u001B[49m\u001B[43m_MAXLINE\u001B[49m\u001B[43m \u001B[49m\u001B[43m+\u001B[49m\u001B[43m \u001B[49m\u001B[32;43m1\u001B[39;49m\u001B[43m)\u001B[49m, \u001B[33m\"\u001B[39m\u001B[33miso-8859-1\u001B[39m\u001B[33m\"\u001B[39m)\n\u001B[32m    293\u001B[39m     \u001B[38;5;28;01mif\u001B[39;00m \u001B[38;5;28mlen\u001B[39m(line) > _MAXLINE:\n\u001B[32m    294\u001B[39m         \u001B[38;5;28;01mraise\u001B[39;00m LineTooLong(\u001B[33m\"\u001B[39m\u001B[33mstatus line\u001B[39m\u001B[33m\"\u001B[39m)\n",
      "\u001B[36mFile \u001B[39m\u001B[32m~\\AppData\\Local\\Programs\\Python\\Python312\\Lib\\socket.py:720\u001B[39m, in \u001B[36mSocketIO.readinto\u001B[39m\u001B[34m(self, b)\u001B[39m\n\u001B[32m    718\u001B[39m \u001B[38;5;28;01mwhile\u001B[39;00m \u001B[38;5;28;01mTrue\u001B[39;00m:\n\u001B[32m    719\u001B[39m     \u001B[38;5;28;01mtry\u001B[39;00m:\n\u001B[32m--> \u001B[39m\u001B[32m720\u001B[39m         \u001B[38;5;28;01mreturn\u001B[39;00m \u001B[38;5;28;43mself\u001B[39;49m\u001B[43m.\u001B[49m\u001B[43m_sock\u001B[49m\u001B[43m.\u001B[49m\u001B[43mrecv_into\u001B[49m\u001B[43m(\u001B[49m\u001B[43mb\u001B[49m\u001B[43m)\u001B[49m\n\u001B[32m    721\u001B[39m     \u001B[38;5;28;01mexcept\u001B[39;00m timeout:\n\u001B[32m    722\u001B[39m         \u001B[38;5;28mself\u001B[39m._timeout_occurred = \u001B[38;5;28;01mTrue\u001B[39;00m\n",
      "\u001B[31mKeyboardInterrupt\u001B[39m: "
     ]
    }
   ],
   "execution_count": null
  },
  {
   "metadata": {},
   "cell_type": "code",
   "source": [
    "# Get 100-200 players' stats\n",
    "get_player_stats_with_retries(100, 200)"
   ],
   "id": "1b8301aedf5a8915",
   "outputs": [],
   "execution_count": null
  },
  {
   "metadata": {},
   "cell_type": "code",
   "source": [
    "# Get 200-300 players' stats\n",
    "get_player_stats_with_retries(200, 300)"
   ],
   "id": "a7ed5f4c9634bce1",
   "outputs": [],
   "execution_count": null
  },
  {
   "metadata": {},
   "cell_type": "code",
   "source": [
    "# Get 300-400 players' stats\n",
    "get_player_stats_with_retries(300, 400)"
   ],
   "id": "4d16f6826a8e72ff",
   "outputs": [],
   "execution_count": null
  },
  {
   "metadata": {},
   "cell_type": "code",
   "source": [
    "# Get 400-500 players' stats\n",
    "get_player_stats_with_retries(400, 500)"
   ],
   "id": "5e56c28765c4e585",
   "outputs": [],
   "execution_count": null
  },
  {
   "metadata": {},
   "cell_type": "code",
   "source": [
    "# Get 500-600 players' stats\n",
    "get_player_stats_with_retries(500, 600)"
   ],
   "id": "80f472af2ec0a183",
   "outputs": [],
   "execution_count": null
  },
  {
   "metadata": {},
   "cell_type": "code",
   "source": "",
   "id": "a8fbe6a0f40b8be7",
   "outputs": [],
   "execution_count": null
  }
 ],
 "metadata": {
  "kernelspec": {
   "display_name": "Python 3",
   "language": "python",
   "name": "python3"
  },
  "language_info": {
   "codemirror_mode": {
    "name": "ipython",
    "version": 2
   },
   "file_extension": ".py",
   "mimetype": "text/x-python",
   "name": "python",
   "nbconvert_exporter": "python",
   "pygments_lexer": "ipython2",
   "version": "2.7.6"
  }
 },
 "nbformat": 4,
 "nbformat_minor": 5
}
