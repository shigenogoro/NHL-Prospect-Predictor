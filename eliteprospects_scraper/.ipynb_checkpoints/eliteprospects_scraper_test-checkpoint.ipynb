{
 "cells": [
  {
   "cell_type": "code",
   "id": "initial_id",
   "metadata": {
    "collapsed": true,
    "ExecuteTime": {
     "end_time": "2025-07-03T19:06:31.554159Z",
     "start_time": "2025-07-03T19:06:30.806828Z"
    }
   },
   "source": "import eliteprospects_scraper_api as ep",
   "outputs": [
    {
     "name": "stderr",
     "output_type": "stream",
     "text": [
      "D:\\CS_Knowledge\\NHL-Prospect-Predictor\\eliteprospects_scraper\\eliteprospects_scraper_api.py:124: SyntaxWarning: invalid escape sequence '\\('\n",
      "  df_players['position'] = df_players['player'].str.extract('.*\\((.*)\\).*')\n"
     ]
    }
   ],
   "execution_count": 1
  },
  {
   "metadata": {
    "ExecuteTime": {
     "end_time": "2025-07-03T19:06:37.065287Z",
     "start_time": "2025-07-03T19:06:31.565032Z"
    }
   },
   "cell_type": "code",
   "source": "ncaa_players_2425 = ep.getSeasonRoster(\"ncaa\", \"2024-2025\")",
   "id": "fb4a4c587241fe7c",
   "outputs": [
    {
     "name": "stdout",
     "output_type": "stream",
     "text": [
      "Collecting data from https://www.eliteprospects.com/league/ncaa/stats/2024-2025?page=1\n"
     ]
    },
    {
     "name": "stderr",
     "output_type": "stream",
     "text": [
      "D:\\CS_Knowledge\\NHL-Prospect-Predictor\\eliteprospects_scraper\\eliteprospects_scraper_api.py:124: SyntaxWarning: invalid escape sequence '\\('\n",
      "  df_players['position'] = df_players['player'].str.extract('.*\\((.*)\\).*')\n"
     ]
    },
    {
     "ename": "ValueError",
     "evalue": "Cannot mask with non-boolean array containing NA / NaN values",
     "output_type": "error",
     "traceback": [
      "\u001B[31m---------------------------------------------------------------------------\u001B[39m",
      "\u001B[31mValueError\u001B[39m                                Traceback (most recent call last)",
      "\u001B[36mCell\u001B[39m\u001B[36m \u001B[39m\u001B[32mIn[2]\u001B[39m\u001B[32m, line 1\u001B[39m\n\u001B[32m----> \u001B[39m\u001B[32m1\u001B[39m ncaa_players_2425 = \u001B[43mep\u001B[49m\u001B[43m.\u001B[49m\u001B[43mgetSeasonRoster\u001B[49m\u001B[43m(\u001B[49m\u001B[33;43m\"\u001B[39;49m\u001B[33;43mncaa\u001B[39;49m\u001B[33;43m\"\u001B[39;49m\u001B[43m,\u001B[49m\u001B[43m \u001B[49m\u001B[33;43m\"\u001B[39;49m\u001B[33;43m2024-2025\u001B[39;49m\u001B[33;43m\"\u001B[39;49m\u001B[43m)\u001B[49m\n",
      "\u001B[36mFile \u001B[39m\u001B[32mD:\\CS_Knowledge\\NHL-Prospect-Predictor\\eliteprospects_scraper\\eliteprospects_scraper_api.py:128\u001B[39m, in \u001B[36mgetSeasonRoster\u001B[39m\u001B[34m(league, season)\u001B[39m\n\u001B[32m    126\u001B[39m \u001B[38;5;66;03m# Tag Forward or Defenseman as F or D\u001B[39;00m\n\u001B[32m    127\u001B[39m df_players[\u001B[33m'\u001B[39m\u001B[33mfw_def\u001B[39m\u001B[33m'\u001B[39m] = df_players[\u001B[33m'\u001B[39m\u001B[33mposition\u001B[39m\u001B[33m'\u001B[39m].str.contains(\u001B[33m'\u001B[39m\u001B[33mLW|RW|C\u001B[39m\u001B[33m'\u001B[39m)\n\u001B[32m--> \u001B[39m\u001B[32m128\u001B[39m \u001B[43mdf_players\u001B[49m\u001B[43m.\u001B[49m\u001B[43mloc\u001B[49m\u001B[43m[\u001B[49m\u001B[43mdf_players\u001B[49m\u001B[43m[\u001B[49m\u001B[33;43m'\u001B[39;49m\u001B[33;43mposition\u001B[39;49m\u001B[33;43m'\u001B[39;49m\u001B[43m]\u001B[49m\u001B[43m.\u001B[49m\u001B[43mstr\u001B[49m\u001B[43m.\u001B[49m\u001B[43mcontains\u001B[49m\u001B[43m(\u001B[49m\u001B[33;43m'\u001B[39;49m\u001B[33;43mLW|RW|C\u001B[39;49m\u001B[33;43m'\u001B[39;49m\u001B[43m)\u001B[49m\u001B[43m,\u001B[49m\u001B[43m \u001B[49m\u001B[33;43m'\u001B[39;49m\u001B[33;43mfw_def\u001B[39;49m\u001B[33;43m'\u001B[39;49m\u001B[43m]\u001B[49m = \u001B[33m'\u001B[39m\u001B[33mFW\u001B[39m\u001B[33m'\u001B[39m\n\u001B[32m    129\u001B[39m df_players.loc[df_players[\u001B[33m'\u001B[39m\u001B[33mposition\u001B[39m\u001B[33m'\u001B[39m].str.contains(\u001B[33m'\u001B[39m\u001B[33mD\u001B[39m\u001B[33m'\u001B[39m), \u001B[33m'\u001B[39m\u001B[33mfw_def\u001B[39m\u001B[33m'\u001B[39m] = \u001B[33m'\u001B[39m\u001B[33mDEF\u001B[39m\u001B[33m'\u001B[39m\n\u001B[32m    131\u001B[39m \u001B[38;5;66;03m# Clean Team Column - Remove Unwanted Special Characters\u001B[39;00m\n",
      "\u001B[36mFile \u001B[39m\u001B[32m~\\AppData\\Local\\Programs\\Python\\Python312\\Lib\\site-packages\\pandas\\core\\indexing.py:907\u001B[39m, in \u001B[36m_LocationIndexer.__setitem__\u001B[39m\u001B[34m(self, key, value)\u001B[39m\n\u001B[32m    905\u001B[39m     maybe_callable = com.apply_if_callable(key, \u001B[38;5;28mself\u001B[39m.obj)\n\u001B[32m    906\u001B[39m     key = \u001B[38;5;28mself\u001B[39m._check_deprecated_callable_usage(key, maybe_callable)\n\u001B[32m--> \u001B[39m\u001B[32m907\u001B[39m indexer = \u001B[38;5;28;43mself\u001B[39;49m\u001B[43m.\u001B[49m\u001B[43m_get_setitem_indexer\u001B[49m\u001B[43m(\u001B[49m\u001B[43mkey\u001B[49m\u001B[43m)\u001B[49m\n\u001B[32m    908\u001B[39m \u001B[38;5;28mself\u001B[39m._has_valid_setitem_indexer(key)\n\u001B[32m    910\u001B[39m iloc = \u001B[38;5;28mself\u001B[39m \u001B[38;5;28;01mif\u001B[39;00m \u001B[38;5;28mself\u001B[39m.name == \u001B[33m\"\u001B[39m\u001B[33miloc\u001B[39m\u001B[33m\"\u001B[39m \u001B[38;5;28;01melse\u001B[39;00m \u001B[38;5;28mself\u001B[39m.obj.iloc\n",
      "\u001B[36mFile \u001B[39m\u001B[32m~\\AppData\\Local\\Programs\\Python\\Python312\\Lib\\site-packages\\pandas\\core\\indexing.py:774\u001B[39m, in \u001B[36m_LocationIndexer._get_setitem_indexer\u001B[39m\u001B[34m(self, key)\u001B[39m\n\u001B[32m    771\u001B[39m \u001B[38;5;28;01mif\u001B[39;00m \u001B[38;5;28misinstance\u001B[39m(key, \u001B[38;5;28mtuple\u001B[39m):\n\u001B[32m    772\u001B[39m     \u001B[38;5;28;01mwith\u001B[39;00m suppress(IndexingError):\n\u001B[32m    773\u001B[39m         \u001B[38;5;66;03m# suppress \"Too many indexers\"\u001B[39;00m\n\u001B[32m--> \u001B[39m\u001B[32m774\u001B[39m         \u001B[38;5;28;01mreturn\u001B[39;00m \u001B[38;5;28;43mself\u001B[39;49m\u001B[43m.\u001B[49m\u001B[43m_convert_tuple\u001B[49m\u001B[43m(\u001B[49m\u001B[43mkey\u001B[49m\u001B[43m)\u001B[49m\n\u001B[32m    776\u001B[39m \u001B[38;5;28;01mif\u001B[39;00m \u001B[38;5;28misinstance\u001B[39m(key, \u001B[38;5;28mrange\u001B[39m):\n\u001B[32m    777\u001B[39m     \u001B[38;5;66;03m# GH#45479 test_loc_setitem_range_key\u001B[39;00m\n\u001B[32m    778\u001B[39m     key = \u001B[38;5;28mlist\u001B[39m(key)\n",
      "\u001B[36mFile \u001B[39m\u001B[32m~\\AppData\\Local\\Programs\\Python\\Python312\\Lib\\site-packages\\pandas\\core\\indexing.py:989\u001B[39m, in \u001B[36m_LocationIndexer._convert_tuple\u001B[39m\u001B[34m(self, key)\u001B[39m\n\u001B[32m    985\u001B[39m \u001B[38;5;129m@final\u001B[39m\n\u001B[32m    986\u001B[39m \u001B[38;5;28;01mdef\u001B[39;00m\u001B[38;5;250m \u001B[39m\u001B[34m_convert_tuple\u001B[39m(\u001B[38;5;28mself\u001B[39m, key: \u001B[38;5;28mtuple\u001B[39m) -> \u001B[38;5;28mtuple\u001B[39m:\n\u001B[32m    987\u001B[39m     \u001B[38;5;66;03m# Note: we assume _tupleize_axis_indexer has been called, if necessary.\u001B[39;00m\n\u001B[32m    988\u001B[39m     \u001B[38;5;28mself\u001B[39m._validate_key_length(key)\n\u001B[32m--> \u001B[39m\u001B[32m989\u001B[39m     keyidx = [\u001B[38;5;28;43mself\u001B[39;49m\u001B[43m.\u001B[49m\u001B[43m_convert_to_indexer\u001B[49m\u001B[43m(\u001B[49m\u001B[43mk\u001B[49m\u001B[43m,\u001B[49m\u001B[43m \u001B[49m\u001B[43maxis\u001B[49m\u001B[43m=\u001B[49m\u001B[43mi\u001B[49m\u001B[43m)\u001B[49m \u001B[38;5;28;01mfor\u001B[39;00m i, k \u001B[38;5;129;01min\u001B[39;00m \u001B[38;5;28menumerate\u001B[39m(key)]\n\u001B[32m    990\u001B[39m     \u001B[38;5;28;01mreturn\u001B[39;00m \u001B[38;5;28mtuple\u001B[39m(keyidx)\n",
      "\u001B[36mFile \u001B[39m\u001B[32m~\\AppData\\Local\\Programs\\Python\\Python312\\Lib\\site-packages\\pandas\\core\\indexing.py:1518\u001B[39m, in \u001B[36m_LocIndexer._convert_to_indexer\u001B[39m\u001B[34m(self, key, axis)\u001B[39m\n\u001B[32m   1515\u001B[39m \u001B[38;5;28;01mif\u001B[39;00m is_iterator(key):\n\u001B[32m   1516\u001B[39m     key = \u001B[38;5;28mlist\u001B[39m(key)\n\u001B[32m-> \u001B[39m\u001B[32m1518\u001B[39m \u001B[38;5;28;01mif\u001B[39;00m \u001B[43mcom\u001B[49m\u001B[43m.\u001B[49m\u001B[43mis_bool_indexer\u001B[49m\u001B[43m(\u001B[49m\u001B[43mkey\u001B[49m\u001B[43m)\u001B[49m:\n\u001B[32m   1519\u001B[39m     key = check_bool_indexer(labels, key)\n\u001B[32m   1520\u001B[39m     \u001B[38;5;28;01mreturn\u001B[39;00m key\n",
      "\u001B[36mFile \u001B[39m\u001B[32m~\\AppData\\Local\\Programs\\Python\\Python312\\Lib\\site-packages\\pandas\\core\\common.py:136\u001B[39m, in \u001B[36mis_bool_indexer\u001B[39m\u001B[34m(key)\u001B[39m\n\u001B[32m    132\u001B[39m     na_msg = \u001B[33m\"\u001B[39m\u001B[33mCannot mask with non-boolean array containing NA / NaN values\u001B[39m\u001B[33m\"\u001B[39m\n\u001B[32m    133\u001B[39m     \u001B[38;5;28;01mif\u001B[39;00m lib.is_bool_array(key_array, skipna=\u001B[38;5;28;01mTrue\u001B[39;00m):\n\u001B[32m    134\u001B[39m         \u001B[38;5;66;03m# Don't raise on e.g. [\"A\", \"B\", np.nan], see\u001B[39;00m\n\u001B[32m    135\u001B[39m         \u001B[38;5;66;03m#  test_loc_getitem_list_of_labels_categoricalindex_with_na\u001B[39;00m\n\u001B[32m--> \u001B[39m\u001B[32m136\u001B[39m         \u001B[38;5;28;01mraise\u001B[39;00m \u001B[38;5;167;01mValueError\u001B[39;00m(na_msg)\n\u001B[32m    137\u001B[39m     \u001B[38;5;28;01mreturn\u001B[39;00m \u001B[38;5;28;01mFalse\u001B[39;00m\n\u001B[32m    138\u001B[39m \u001B[38;5;28;01mreturn\u001B[39;00m \u001B[38;5;28;01mTrue\u001B[39;00m\n",
      "\u001B[31mValueError\u001B[39m: Cannot mask with non-boolean array containing NA / NaN values"
     ]
    }
   ],
   "execution_count": 2
  },
  {
   "metadata": {
    "ExecuteTime": {
     "end_time": "2025-07-03T19:06:37.128474Z",
     "start_time": "2025-07-03T18:58:11.462607Z"
    }
   },
   "cell_type": "code",
   "source": "",
   "id": "e9ecb26ac414c1d1",
   "outputs": [],
   "execution_count": null
  }
 ],
 "metadata": {
  "kernelspec": {
   "display_name": "Python 3",
   "language": "python",
   "name": "python3"
  },
  "language_info": {
   "codemirror_mode": {
    "name": "ipython",
    "version": 2
   },
   "file_extension": ".py",
   "mimetype": "text/x-python",
   "name": "python",
   "nbconvert_exporter": "python",
   "pygments_lexer": "ipython2",
   "version": "2.7.6"
  }
 },
 "nbformat": 4,
 "nbformat_minor": 5
}
