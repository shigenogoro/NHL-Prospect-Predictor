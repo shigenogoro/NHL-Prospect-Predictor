{
 "cells": [
  {
   "cell_type": "markdown",
   "id": "61eed713b68d6202",
   "metadata": {},
   "source": [
    "# NHL Stats Preparation\n",
    "## Collecting NHL Players' Stats from EliteProspects\n",
    "This step gathers player performance data across leagues and seasons for downstream NHL prediction.\n",
    "\n",
    "- Collect league-wide player stats for a given season from\n",
    "https://eliteprospects.com/league/{league}/stats/{season}?page={n}\n",
    "\n",
    "- Extract metadata, including individual player profile links.\n",
    "\n",
    "- Build a unique player list from seasons 2000–2025 by storing profile links in a set.\n",
    "\n",
    "- Scrape each player’s page to retrieve their first 5 years of NHL stats, filtered by seasons where they played more than 30 games.\n",
    "\n",
    "- Gather pre-NHL stats for each player (junior, college, international, etc.)."
   ]
  },
  {
   "cell_type": "markdown",
   "id": "ff38163b29e8198d",
   "metadata": {},
   "source": [
    "### Import Libraries"
   ]
  },
  {
   "cell_type": "code",
   "execution_count": 1,
   "id": "1670e1470bfca24c",
   "metadata": {
    "ExecuteTime": {
     "end_time": "2025-07-17T15:20:50.096598Z",
     "start_time": "2025-07-17T15:20:47.611316Z"
    }
   },
   "outputs": [],
   "source": [
    "import eliteprospects_scraper_api as ep\n",
    "import pandas as pd\n",
    "import os\n",
    "import time\n",
    "import random"
   ]
  },
  {
   "cell_type": "markdown",
   "id": "1a95a8349f6370e8",
   "metadata": {},
   "source": [
    "### Collecting NHL Players' Stats from EliteProspects\n"
   ]
  },
  {
   "cell_type": "code",
   "execution_count": 2,
   "id": "103ad94c73c9cfb5",
   "metadata": {
    "ExecuteTime": {
     "end_time": "2025-07-17T15:20:50.149541Z",
     "start_time": "2025-07-17T15:20:50.141586Z"
    }
   },
   "outputs": [
    {
     "name": "stdout",
     "output_type": "stream",
     "text": [
      "NHL players metadata already exists. Skipping scraping.\n"
     ]
    }
   ],
   "source": [
    "if not os.path.exists('./data/nhl/nhl_players_metadata.csv'):\n",
    "    # Collect players from 2000-2025 season\n",
    "    for i in range(0, 25):\n",
    "        season = f'20{str(i).zfill(2)}-20{str(i + 1).zfill(2)}'\n",
    "        print(f'Scraping {season}')\n",
    "        nhl_players = ep.get_season_roster(\"nhl\", season)\n",
    "        nhl_players.to_csv(f'./data/nhl/players/nhl_players_{season}.csv', index=False, encoding='utf-8-sig')\n",
    "        print(f'Finished scraping {season}')\n",
    "else:\n",
    "    print('NHL players metadata already exists. Skipping scraping.')"
   ]
  },
  {
   "cell_type": "code",
   "execution_count": 3,
   "id": "c42101a4c478a8b2",
   "metadata": {
    "ExecuteTime": {
     "end_time": "2025-07-17T15:20:50.637717Z",
     "start_time": "2025-07-17T15:20:50.602255Z"
    }
   },
   "outputs": [
    {
     "name": "stdout",
     "output_type": "stream",
     "text": [
      "NHL players metadata already exists. Skipping merging.\n"
     ]
    }
   ],
   "source": [
    "if not os.path.exists('./data/nhl/nhl_players_metadata.csv'):\n",
    "    # Collect players' metadata from 2000-2025 season\n",
    "    nhl_players_metadata = pd.DataFrame()\n",
    "    for i in range(0, 25):\n",
    "        season = f'20{str(i).zfill(2)}-20{str(i + 1).zfill(2)}'\n",
    "        nhl_players = pd.read_csv(f'./data/nhl/players/nhl_players_{season}.csv')\n",
    "        nhl_players_metadata = pd.concat([nhl_players_metadata, ep.get_players_metadata(nhl_players)]).reset_index(drop=True)\n",
    "        # Remove duplicates\n",
    "        nhl_players_metadata = nhl_players_metadata.drop_duplicates(subset=['playername']).reset_index(drop=True)\n",
    "        print(f'Finished Merging Metadata for {season}')\n",
    "else:\n",
    "    print('NHL players metadata already exists. Skipping merging.')\n",
    "    nhl_players_metadata = pd.read_csv('./data/nhl/nhl_players_metadata.csv')\n"
   ]
  },
  {
   "cell_type": "code",
   "execution_count": 4,
   "id": "17f07bfdc6935dad",
   "metadata": {
    "ExecuteTime": {
     "end_time": "2025-07-17T15:20:50.719421Z",
     "start_time": "2025-07-17T15:20:50.692086Z"
    }
   },
   "outputs": [
    {
     "data": {
      "text/html": [
       "<div>\n",
       "<style scoped>\n",
       "    .dataframe tbody tr th:only-of-type {\n",
       "        vertical-align: middle;\n",
       "    }\n",
       "\n",
       "    .dataframe tbody tr th {\n",
       "        vertical-align: top;\n",
       "    }\n",
       "\n",
       "    .dataframe thead th {\n",
       "        text-align: right;\n",
       "    }\n",
       "</style>\n",
       "<table border=\"1\" class=\"dataframe\">\n",
       "  <thead>\n",
       "    <tr style=\"text-align: right;\">\n",
       "      <th></th>\n",
       "      <th>playername</th>\n",
       "      <th>fw_def</th>\n",
       "      <th>link</th>\n",
       "    </tr>\n",
       "  </thead>\n",
       "  <tbody>\n",
       "    <tr>\n",
       "      <th>0</th>\n",
       "      <td>Jaromír Jágr</td>\n",
       "      <td>FW</td>\n",
       "      <td>https://www.eliteprospects.com/player/8627/jar...</td>\n",
       "    </tr>\n",
       "    <tr>\n",
       "      <th>1</th>\n",
       "      <td>Joe Sakic</td>\n",
       "      <td>FW</td>\n",
       "      <td>https://www.eliteprospects.com/player/8862/joe...</td>\n",
       "    </tr>\n",
       "    <tr>\n",
       "      <th>2</th>\n",
       "      <td>Patrik Elias</td>\n",
       "      <td>FW</td>\n",
       "      <td>https://www.eliteprospects.com/player/8698/pat...</td>\n",
       "    </tr>\n",
       "    <tr>\n",
       "      <th>3</th>\n",
       "      <td>Alexei Kovalev</td>\n",
       "      <td>FW</td>\n",
       "      <td>https://www.eliteprospects.com/player/8670/ale...</td>\n",
       "    </tr>\n",
       "    <tr>\n",
       "      <th>4</th>\n",
       "      <td>Jason Allison</td>\n",
       "      <td>FW</td>\n",
       "      <td>https://www.eliteprospects.com/player/9064/jas...</td>\n",
       "    </tr>\n",
       "    <tr>\n",
       "      <th>...</th>\n",
       "      <td>...</td>\n",
       "      <td>...</td>\n",
       "      <td>...</td>\n",
       "    </tr>\n",
       "    <tr>\n",
       "      <th>3923</th>\n",
       "      <td>Nikita Grebyonkin</td>\n",
       "      <td>FW</td>\n",
       "      <td>https://www.eliteprospects.com/player/652832/n...</td>\n",
       "    </tr>\n",
       "    <tr>\n",
       "      <th>3924</th>\n",
       "      <td>Noah Östlund</td>\n",
       "      <td>FW</td>\n",
       "      <td>https://www.eliteprospects.com/player/535699/n...</td>\n",
       "    </tr>\n",
       "    <tr>\n",
       "      <th>3925</th>\n",
       "      <td>Matt Stienburg</td>\n",
       "      <td>FW</td>\n",
       "      <td>https://www.eliteprospects.com/player/267112/m...</td>\n",
       "    </tr>\n",
       "    <tr>\n",
       "      <th>3926</th>\n",
       "      <td>Nikita Prishchepov</td>\n",
       "      <td>FW</td>\n",
       "      <td>https://www.eliteprospects.com/player/691679/n...</td>\n",
       "    </tr>\n",
       "    <tr>\n",
       "      <th>3927</th>\n",
       "      <td>Jere Innala</td>\n",
       "      <td>FW</td>\n",
       "      <td>https://www.eliteprospects.com/player/277079/j...</td>\n",
       "    </tr>\n",
       "  </tbody>\n",
       "</table>\n",
       "<p>3928 rows × 3 columns</p>\n",
       "</div>"
      ],
      "text/plain": [
       "              playername fw_def  \\\n",
       "0           Jaromír Jágr     FW   \n",
       "1              Joe Sakic     FW   \n",
       "2           Patrik Elias     FW   \n",
       "3         Alexei Kovalev     FW   \n",
       "4          Jason Allison     FW   \n",
       "...                  ...    ...   \n",
       "3923   Nikita Grebyonkin     FW   \n",
       "3924        Noah Östlund     FW   \n",
       "3925      Matt Stienburg     FW   \n",
       "3926  Nikita Prishchepov     FW   \n",
       "3927         Jere Innala     FW   \n",
       "\n",
       "                                                   link  \n",
       "0     https://www.eliteprospects.com/player/8627/jar...  \n",
       "1     https://www.eliteprospects.com/player/8862/joe...  \n",
       "2     https://www.eliteprospects.com/player/8698/pat...  \n",
       "3     https://www.eliteprospects.com/player/8670/ale...  \n",
       "4     https://www.eliteprospects.com/player/9064/jas...  \n",
       "...                                                 ...  \n",
       "3923  https://www.eliteprospects.com/player/652832/n...  \n",
       "3924  https://www.eliteprospects.com/player/535699/n...  \n",
       "3925  https://www.eliteprospects.com/player/267112/m...  \n",
       "3926  https://www.eliteprospects.com/player/691679/n...  \n",
       "3927  https://www.eliteprospects.com/player/277079/j...  \n",
       "\n",
       "[3928 rows x 3 columns]"
      ]
     },
     "execution_count": 4,
     "metadata": {},
     "output_type": "execute_result"
    }
   ],
   "source": [
    "nhl_players_metadata"
   ]
  },
  {
   "cell_type": "markdown",
   "id": "65ed007417c4be3b",
   "metadata": {},
   "source": [
    "### Collect Stats for Each Player from 2000-2025 CSV file"
   ]
  },
  {
   "cell_type": "code",
   "execution_count": 5,
   "id": "7478da7bf967764e",
   "metadata": {
    "ExecuteTime": {
     "end_time": "2025-07-17T15:20:51.064548Z",
     "start_time": "2025-07-17T15:20:51.058708Z"
    }
   },
   "outputs": [],
   "source": [
    "# Define output file\n",
    "output_path = './data/nhl/stats/nhl_players_stats.csv'\n",
    "failed_path = './data/nhl/stats/failed_players.csv'"
   ]
  },
  {
   "cell_type": "code",
   "execution_count": 6,
   "id": "eef4818ffa667b6f",
   "metadata": {
    "ExecuteTime": {
     "end_time": "2025-07-17T15:21:25.826860Z",
     "start_time": "2025-07-17T15:20:51.397941Z"
    }
   },
   "outputs": [
    {
     "name": "stdout",
     "output_type": "stream",
     "text": [
      "\n",
      "Collecting Regular Season stats for Jaromír Jágr at https://www.eliteprospects.com/player/8627/jaromir-jagr\n"
     ]
    },
    {
     "data": {
      "text/html": [
       "<div>\n",
       "<style scoped>\n",
       "    .dataframe tbody tr th:only-of-type {\n",
       "        vertical-align: middle;\n",
       "    }\n",
       "\n",
       "    .dataframe tbody tr th {\n",
       "        vertical-align: top;\n",
       "    }\n",
       "\n",
       "    .dataframe thead th {\n",
       "        text-align: right;\n",
       "    }\n",
       "</style>\n",
       "<table border=\"1\" class=\"dataframe\">\n",
       "  <thead>\n",
       "    <tr style=\"text-align: right;\">\n",
       "      <th></th>\n",
       "      <th>playername</th>\n",
       "      <th>season</th>\n",
       "      <th>team</th>\n",
       "      <th>league</th>\n",
       "      <th>gp</th>\n",
       "      <th>g</th>\n",
       "      <th>a</th>\n",
       "      <th>tp</th>\n",
       "      <th>pim</th>\n",
       "      <th>+/-</th>\n",
       "    </tr>\n",
       "  </thead>\n",
       "  <tbody>\n",
       "    <tr>\n",
       "      <th>0</th>\n",
       "      <td>Jaromír Jágr</td>\n",
       "      <td>84-85</td>\n",
       "      <td>Rytiri Kladno U18</td>\n",
       "      <td>Czechoslovakia U18</td>\n",
       "      <td>34</td>\n",
       "      <td>24</td>\n",
       "      <td>17</td>\n",
       "      <td>41</td>\n",
       "      <td>-</td>\n",
       "      <td>-</td>\n",
       "    </tr>\n",
       "    <tr>\n",
       "      <th>1</th>\n",
       "      <td>Jaromír Jágr</td>\n",
       "      <td>85-86</td>\n",
       "      <td>Rytiri Kladno U18</td>\n",
       "      <td>Czechoslovakia U18</td>\n",
       "      <td>36</td>\n",
       "      <td>41</td>\n",
       "      <td>29</td>\n",
       "      <td>70</td>\n",
       "      <td>-</td>\n",
       "      <td>-</td>\n",
       "    </tr>\n",
       "    <tr>\n",
       "      <th>2</th>\n",
       "      <td>Jaromír Jágr</td>\n",
       "      <td>86-87</td>\n",
       "      <td>Rytiri Kladno U20</td>\n",
       "      <td>Czechoslovakia U20</td>\n",
       "      <td>30</td>\n",
       "      <td>35</td>\n",
       "      <td>35</td>\n",
       "      <td>70</td>\n",
       "      <td>-</td>\n",
       "      <td>-</td>\n",
       "    </tr>\n",
       "    <tr>\n",
       "      <th>3</th>\n",
       "      <td>Jaromír Jágr</td>\n",
       "      <td>87-88</td>\n",
       "      <td>Rytiri Kladno U20</td>\n",
       "      <td>Czechoslovakia U20</td>\n",
       "      <td>35</td>\n",
       "      <td>57</td>\n",
       "      <td>27</td>\n",
       "      <td>84</td>\n",
       "      <td>-</td>\n",
       "      <td>-</td>\n",
       "    </tr>\n",
       "    <tr>\n",
       "      <th>4</th>\n",
       "      <td>Jaromír Jágr</td>\n",
       "      <td>88-89</td>\n",
       "      <td>TJ Kladno</td>\n",
       "      <td>Czechoslovakia</td>\n",
       "      <td>29</td>\n",
       "      <td>3</td>\n",
       "      <td>3</td>\n",
       "      <td>6</td>\n",
       "      <td>4</td>\n",
       "      <td>5</td>\n",
       "    </tr>\n",
       "    <tr>\n",
       "      <th>...</th>\n",
       "      <td>...</td>\n",
       "      <td>...</td>\n",
       "      <td>...</td>\n",
       "      <td>...</td>\n",
       "      <td>...</td>\n",
       "      <td>...</td>\n",
       "      <td>...</td>\n",
       "      <td>...</td>\n",
       "      <td>...</td>\n",
       "      <td>...</td>\n",
       "    </tr>\n",
       "    <tr>\n",
       "      <th>83</th>\n",
       "      <td>Jaromír Jágr</td>\n",
       "      <td>22-23</td>\n",
       "      <td>Rytíři Kladno</td>\n",
       "      <td>Czechia</td>\n",
       "      <td>26</td>\n",
       "      <td>5</td>\n",
       "      <td>9</td>\n",
       "      <td>14</td>\n",
       "      <td>16</td>\n",
       "      <td>0</td>\n",
       "    </tr>\n",
       "    <tr>\n",
       "      <th>84</th>\n",
       "      <td>Jaromír Jágr</td>\n",
       "      <td></td>\n",
       "      <td>Rytíři Kladno</td>\n",
       "      <td>Czechia Q</td>\n",
       "      <td>-</td>\n",
       "      <td>-</td>\n",
       "      <td>-</td>\n",
       "      <td>-</td>\n",
       "      <td>-</td>\n",
       "      <td>-</td>\n",
       "    </tr>\n",
       "    <tr>\n",
       "      <th>85</th>\n",
       "      <td>Jaromír Jágr</td>\n",
       "      <td>23-24</td>\n",
       "      <td>Rytíři Kladno</td>\n",
       "      <td>Czechia</td>\n",
       "      <td>15</td>\n",
       "      <td>0</td>\n",
       "      <td>4</td>\n",
       "      <td>4</td>\n",
       "      <td>10</td>\n",
       "      <td>-4</td>\n",
       "    </tr>\n",
       "    <tr>\n",
       "      <th>86</th>\n",
       "      <td>Jaromír Jágr</td>\n",
       "      <td></td>\n",
       "      <td>Rytíři Kladno</td>\n",
       "      <td>Czechia Q</td>\n",
       "      <td>-</td>\n",
       "      <td>-</td>\n",
       "      <td>-</td>\n",
       "      <td>-</td>\n",
       "      <td>-</td>\n",
       "      <td>-</td>\n",
       "    </tr>\n",
       "    <tr>\n",
       "      <th>87</th>\n",
       "      <td>Jaromír Jágr</td>\n",
       "      <td>24-25</td>\n",
       "      <td>Rytíři Kladno</td>\n",
       "      <td>Czechia</td>\n",
       "      <td>39</td>\n",
       "      <td>5</td>\n",
       "      <td>11</td>\n",
       "      <td>16</td>\n",
       "      <td>16</td>\n",
       "      <td>-2</td>\n",
       "    </tr>\n",
       "  </tbody>\n",
       "</table>\n",
       "<p>88 rows × 10 columns</p>\n",
       "</div>"
      ],
      "text/plain": [
       "      playername season               team              league  gp   g   a  \\\n",
       "0   Jaromír Jágr  84-85  Rytiri Kladno U18  Czechoslovakia U18  34  24  17   \n",
       "1   Jaromír Jágr  85-86  Rytiri Kladno U18  Czechoslovakia U18  36  41  29   \n",
       "2   Jaromír Jágr  86-87  Rytiri Kladno U20  Czechoslovakia U20  30  35  35   \n",
       "3   Jaromír Jágr  87-88  Rytiri Kladno U20  Czechoslovakia U20  35  57  27   \n",
       "4   Jaromír Jágr  88-89          TJ Kladno      Czechoslovakia  29   3   3   \n",
       "..           ...    ...                ...                 ...  ..  ..  ..   \n",
       "83  Jaromír Jágr  22-23      Rytíři Kladno             Czechia  26   5   9   \n",
       "84  Jaromír Jágr             Rytíři Kladno           Czechia Q   -   -   -   \n",
       "85  Jaromír Jágr  23-24      Rytíři Kladno             Czechia  15   0   4   \n",
       "86  Jaromír Jágr             Rytíři Kladno           Czechia Q   -   -   -   \n",
       "87  Jaromír Jágr  24-25      Rytíři Kladno             Czechia  39   5  11   \n",
       "\n",
       "    tp pim +/-  \n",
       "0   41   -   -  \n",
       "1   70   -   -  \n",
       "2   70   -   -  \n",
       "3   84   -   -  \n",
       "4    6   4   5  \n",
       "..  ..  ..  ..  \n",
       "83  14  16   0  \n",
       "84   -   -   -  \n",
       "85   4  10  -4  \n",
       "86   -   -   -  \n",
       "87  16  16  -2  \n",
       "\n",
       "[88 rows x 10 columns]"
      ]
     },
     "execution_count": 6,
     "metadata": {},
     "output_type": "execute_result"
    }
   ],
   "source": [
    "player_regular_stats = ep.get_player_stats(nhl_players_metadata.iloc[0], 'Regular Season')\n",
    "player_regular_stats"
   ]
  },
  {
   "cell_type": "code",
   "execution_count": null,
   "id": "7ca89777c0e701df",
   "metadata": {},
   "outputs": [],
   "source": [
    "player_postseason_stats = ep.get_player_stats(nhl_players_metadata.iloc[0], 'Postseason')\n",
    "player_postseason_stats"
   ]
  },
  {
   "cell_type": "code",
   "execution_count": null,
   "id": "6eaf300194577bf2",
   "metadata": {
    "ExecuteTime": {
     "end_time": "2025-07-17T15:16:04.758100Z",
     "start_time": "2025-07-17T15:15:51.576862Z"
    }
   },
   "outputs": [
    {
     "name": "stdout",
     "output_type": "stream",
     "text": [
      "\n",
      "Collecting Regular Season + Postseason stats for Jaromír Jágr at https://www.eliteprospects.com/player/8627/jaromir-jagr\n"
     ]
    }
   ],
   "source": [
    "player_stats = ep.get_player_stats(nhl_players_metadata.iloc[0])\n",
    "player_stats"
   ]
  },
  {
   "cell_type": "code",
   "execution_count": null,
   "id": "c0b73f76-de6a-4aff-83fb-853d0b2e0053",
   "metadata": {},
   "outputs": [],
   "source": []
  }
 ],
 "metadata": {
  "kernelspec": {
   "display_name": "Python 3 (ipykernel)",
   "language": "python",
   "name": "python3"
  },
  "language_info": {
   "codemirror_mode": {
    "name": "ipython",
    "version": 3
   },
   "file_extension": ".py",
   "mimetype": "text/x-python",
   "name": "python",
   "nbconvert_exporter": "python",
   "pygments_lexer": "ipython3",
   "version": "3.12.6"
  }
 },
 "nbformat": 4,
 "nbformat_minor": 5
}
