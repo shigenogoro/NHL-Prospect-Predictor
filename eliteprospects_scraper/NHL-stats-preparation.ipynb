{
 "cells": [
  {
   "cell_type": "markdown",
   "id": "61eed713b68d6202",
   "metadata": {},
   "source": [
    "# NHL Stats Preparation\n",
    "## Collecting NHL Players' Stats from EliteProspects\n",
    "This step gathers player performance data across leagues and seasons for downstream NHL prediction.\n",
    "\n",
    "- Collect league-wide player stats for a given season from\n",
    "https://eliteprospects.com/league/{league}/stats/{season}?page={n}\n",
    "\n",
    "- Extract metadata, including individual player profile links.\n",
    "\n",
    "- Build a unique player list from seasons 2000–2025 by storing profile links in a set.\n",
    "\n",
    "- Scrape each player’s page to retrieve their first 5 years of NHL stats, filtered by seasons where they played more than 30 games.\n",
    "\n",
    "- Gather pre-NHL stats for each player (junior, college, international, etc.)."
   ]
  },
  {
   "cell_type": "markdown",
   "id": "ff38163b29e8198d",
   "metadata": {},
   "source": [
    "### Import Libraries"
   ]
  },
  {
   "cell_type": "code",
   "id": "1670e1470bfca24c",
   "metadata": {},
   "source": [
    "import eliteprospects_scraper_api as ep\n",
    "import pandas as pd\n",
    "import os\n",
    "import time\n",
    "import random"
   ],
   "outputs": [],
   "execution_count": null
  },
  {
   "cell_type": "markdown",
   "id": "1a95a8349f6370e8",
   "metadata": {},
   "source": [
    "### Collecting NHL Players' Stats from EliteProspects\n"
   ]
  },
  {
   "cell_type": "code",
   "id": "103ad94c73c9cfb5",
   "metadata": {},
   "source": [
    "if not os.path.exists('./data/nhl/nhl_players_metadata.csv'):\n",
    "    # Collect players from 2000-2025 season\n",
    "    for i in range(0, 25):\n",
    "        season = f'20{str(i).zfill(2)}-20{str(i + 1).zfill(2)}'\n",
    "        print(f'Scraping {season}')\n",
    "        nhl_players = ep.get_season_roster(\"nhl\", season)\n",
    "        nhl_players.to_csv(f'./data/nhl/players/nhl_players_{season}.csv', index=False, encoding='utf-8-sig')\n",
    "        print(f'Finished scraping {season}')\n",
    "else:\n",
    "    print('NHL players metadata already exists. Skipping scraping.')"
   ],
   "outputs": [],
   "execution_count": null
  },
  {
   "cell_type": "code",
   "id": "c42101a4c478a8b2",
   "metadata": {},
   "source": [
    "if not os.path.exists('./data/nhl/nhl_players_metadata.csv'):\n",
    "    # Collect players' metadata from 2000-2025 season\n",
    "    nhl_players_metadata = pd.DataFrame()\n",
    "    for i in range(0, 25):\n",
    "        season = f'20{str(i).zfill(2)}-20{str(i + 1).zfill(2)}'\n",
    "        nhl_players = pd.read_csv(f'./data/nhl/players/nhl_players_{season}.csv')\n",
    "        nhl_players_metadata = pd.concat([nhl_players_metadata, ep.get_players_metadata(nhl_players)]).reset_index(drop=True)\n",
    "        # Remove duplicates\n",
    "        nhl_players_metadata = nhl_players_metadata.drop_duplicates(subset=['playername']).reset_index(drop=True)\n",
    "        print(f'Finished Merging Metadata for {season}')\n",
    "else:\n",
    "    print('NHL players metadata already exists. Skipping merging.')\n",
    "    nhl_players_metadata = pd.read_csv('./data/nhl/nhl_players_metadata.csv')\n"
   ],
   "outputs": [],
   "execution_count": null
  },
  {
   "cell_type": "code",
   "id": "17f07bfdc6935dad",
   "metadata": {},
   "source": [
    "nhl_players_metadata"
   ],
   "outputs": [],
   "execution_count": null
  },
  {
   "cell_type": "markdown",
   "id": "65ed007417c4be3b",
   "metadata": {},
   "source": [
    "### Collect Stats for Each Player from 2000-2025 CSV file"
   ]
  },
  {
   "cell_type": "code",
   "id": "7478da7bf967764e",
   "metadata": {},
   "source": [
    "# Define output file\n",
    "output_path = './data/nhl/stats/nhl_players_stats.csv'\n",
    "failed_path = './data/nhl/stats/failed_players.csv'"
   ],
   "outputs": [],
   "execution_count": null
  },
  {
   "cell_type": "code",
   "id": "faa564250b2208ca",
   "metadata": {},
   "source": [
    "# Define function to get player stats with retries and start, end\n",
    "# Use ep.get_single_player_stats()\n",
    "\n",
    "def get_player_stats_with_retries(start = 0, end = len(nhl_players_metadata), retries = 3):\n",
    "    if end > len(nhl_players_metadata):\n",
    "        end = len(nhl_players_metadata)\n",
    "    print(f'Collecting stats for players {start} to {end}')\n",
    "\n",
    "    # Delete files if it's the first player\n",
    "    if start == 0:\n",
    "        if os.path.exists(output_path):\n",
    "            os.remove(output_path)\n",
    "            print(f'Deleted {output_path} to start fresh')\n",
    "        if os.path.exists(failed_path):\n",
    "            os.remove(failed_path)\n",
    "            print(f'Deleted {failed_path} to start fresh')\n",
    "\n",
    "    for i in range(start, end):\n",
    "        # Print divider for every 10 players\n",
    "        if i % 10 == 0:\n",
    "            print('----------------------------------------------------------------')\n",
    "\n",
    "        # Get player metadata\n",
    "        player_metadata_row = nhl_players_metadata.loc[i]\n",
    "        player_name = player_metadata_row['playername']\n",
    "        player_url = player_metadata_row['link']\n",
    "\n",
    "        for attempt in range(retries):\n",
    "            try:\n",
    "                print(f\"Collecting stats for {player_name} at {player_url} (Attempt {attempt + 1})\")\n",
    "                player_stats = ep.get_single_player_stats(player_metadata_row)\n",
    "\n",
    "                # Write player_stats to CSV\n",
    "                if os.path.exists(output_path):\n",
    "                    player_stats.to_csv(output_path, mode='a', header=False, index=False, encoding='utf-8-sig')\n",
    "                else:\n",
    "                    player_stats.to_csv(output_path, index=False, encoding='utf-8-sig')\n",
    "                print(f'Successfully scraped stats for {player_name}')\n",
    "                break\n",
    "            except Exception as e:\n",
    "                print(f\"Attempt {attempt + 1} failed for {player_metadata_row['playername']}: {e}\")\n",
    "                if attempt < retries - 1:\n",
    "                    kill_zombie_chrome()\n",
    "                    time.sleep(random.uniform(1, 3))  # Wait before retrying\n",
    "                else:\n",
    "                    # Log failed players to a separate CSV file\n",
    "                    if os.path.exists(failed_path):\n",
    "                        player_metadata_row.to_csv(failed_path, mode='a', header=False, index=False, encoding='utf-8-sig')\n",
    "                    else:\n",
    "                        player_metadata_row.to_csv(failed_path, index=False, encoding='utf-8-sig')\n",
    "                    print(f'Failed to scrape stats for {player_name} after {retries} attempts')\n",
    "\n",
    "        # Sleep for 1-10 seconds before scraping the next player\n",
    "        time.sleep(random.uniform(1, 5))\n"
   ],
   "outputs": [],
   "execution_count": null
  },
  {
   "cell_type": "code",
   "id": "e06b7ced",
   "metadata": {},
   "source": [
    "def kill_zombie_chrome():\n",
    "    os.system(\"taskkill /F /IM chrome.exe /T\")\n",
    "    os.system(\"taskkill /F /IM chromedriver.exe /T\")"
   ],
   "outputs": [],
   "execution_count": null
  },
  {
   "cell_type": "code",
   "id": "8f2362bf4a0cc62",
   "metadata": {},
   "source": [
    "def get_player_stats_with_batch_size(start, end, batch_size=10):\n",
    "    for batch_start in range(start, end, batch_size):\n",
    "        get_player_stats_with_retries(batch_start, end)\n",
    "        print(f'Finished scraping stats for players {batch_start} to {end}')\n",
    "        time_sleep = random.uniform(60, 180)\n",
    "        time_sleep_in_minutes = time_sleep / 60\n",
    "        kill_zombie_chrome()\n",
    "        print(f\"Sleeping for {time_sleep_in_minutes:.2f} minutes before next batch...\")\n",
    "        time.sleep(time_sleep)"
   ],
   "outputs": [],
   "execution_count": null
  },
  {
   "cell_type": "code",
   "id": "903b9420367b5f9f",
   "metadata": {},
   "source": [
    "# Scrape in batches of 0-100 players\n",
    "get_player_stats_with_batch_size(0, 100, 10)"
   ],
   "outputs": [],
   "execution_count": null
  },
  {
   "metadata": {},
   "cell_type": "code",
   "source": "nhl_players_metadata.loc[180]",
   "id": "6ba040667fdb3ffd",
   "outputs": [],
   "execution_count": null
  },
  {
   "cell_type": "code",
   "id": "e07434e6da26950e",
   "metadata": {},
   "source": [
    "# Scrape in batches of 100-200 players\n",
    "get_player_stats_with_batch_size(126, 130, 4)"
   ],
   "outputs": [],
   "execution_count": null
  },
  {
   "metadata": {},
   "cell_type": "code",
   "source": "get_player_stats_with_batch_size(130, 200, 10)",
   "id": "9e6a18a2a2f66da8",
   "outputs": [],
   "execution_count": null
  },
  {
   "cell_type": "code",
   "id": "d2394315f12eca26",
   "metadata": {},
   "source": [
    "# Scrape in batches of 200-300 players\n",
    "get_player_stats_with_batch_size(200, 300, 10)"
   ],
   "outputs": [],
   "execution_count": null
  },
  {
   "cell_type": "code",
   "id": "1993eb0ef8f04740",
   "metadata": {},
   "source": [
    "# Scrape in batches of 300-400 players\n",
    "get_player_stats_with_batch_size(300, 400, 10)"
   ],
   "outputs": [],
   "execution_count": null
  },
  {
   "cell_type": "code",
   "id": "13d76ca7cce2f70e",
   "metadata": {},
   "source": [
    "# Scrape in batches of 400-500 players\n",
    "get_player_stats_with_batch_size(400, 500, 10)"
   ],
   "outputs": [],
   "execution_count": null
  },
  {
   "cell_type": "code",
   "id": "3927a9cb716a1c27",
   "metadata": {},
   "source": [
    "# Scrape in batches of 500-600 players\n",
    "get_player_stats_with_batch_size(500, 600, 10)"
   ],
   "outputs": [],
   "execution_count": null
  },
  {
   "cell_type": "code",
   "id": "f83b54f7b873fa",
   "metadata": {},
   "source": [
    "# Scrape in batches of 600-700 players\n",
    "get_player_stats_with_batch_size(600, 700, 10)"
   ],
   "outputs": [],
   "execution_count": null
  },
  {
   "cell_type": "code",
   "id": "316dffede13765d1",
   "metadata": {},
   "source": [
    "# Scrape in batches of 700-800 players\n",
    "get_player_stats_with_batch_size(700, 800, 10)"
   ],
   "outputs": [],
   "execution_count": null
  },
  {
   "cell_type": "code",
   "id": "f1e5ea3a57d0690d",
   "metadata": {},
   "source": [
    "# Scrape in batches of 800-900 players\n",
    "get_player_stats_with_batch_size(800, 900, 10)"
   ],
   "outputs": [],
   "execution_count": null
  },
  {
   "cell_type": "code",
   "id": "e923d69267a8169e",
   "metadata": {},
   "source": [
    "# Scrape in batches of 900-1000 players\n",
    "get_player_stats_with_batch_size(900, 1000, 10)"
   ],
   "outputs": [],
   "execution_count": null
  },
  {
   "cell_type": "code",
   "id": "eac41970de5a21a",
   "metadata": {},
   "source": [
    "# Scrape in batches of 1000-1100 players\n",
    "get_player_stats_with_batch_size(1000, 1100, 10)"
   ],
   "outputs": [],
   "execution_count": null
  },
  {
   "cell_type": "code",
   "id": "1e22ca38be639b06",
   "metadata": {},
   "source": [
    "# Scrape in batches of 1100-1200 players\n",
    "get_player_stats_with_batch_size(1100, 1200, 10)"
   ],
   "outputs": [],
   "execution_count": null
  },
  {
   "cell_type": "code",
   "id": "2ffaeb41f1664594",
   "metadata": {},
   "source": [
    "# Scrape in batches of 1200-1300 players\n",
    "get_player_stats_with_batch_size(1200, 1300, 10)"
   ],
   "outputs": [],
   "execution_count": null
  },
  {
   "cell_type": "code",
   "id": "5930aee5cfa4e394",
   "metadata": {},
   "source": [
    "# Scrape in batches of 1300-1400 players\n",
    "get_player_stats_with_batch_size(1300, 1400, 10)"
   ],
   "outputs": [],
   "execution_count": null
  },
  {
   "cell_type": "code",
   "id": "71c5c6f79b4a9394",
   "metadata": {},
   "source": [
    "# Scrape in batches of 1400-1500 players\n",
    "get_player_stats_with_batch_size(1400, 1500, 10)"
   ],
   "outputs": [],
   "execution_count": null
  },
  {
   "cell_type": "code",
   "id": "d69ec3423a1dcc07",
   "metadata": {},
   "source": [
    "# Scrape in batches of 1500-1600 players\n",
    "get_player_stats_with_batch_size(1500, 1600, 10)"
   ],
   "outputs": [],
   "execution_count": null
  },
  {
   "cell_type": "code",
   "id": "a555e102174f5ab9",
   "metadata": {},
   "source": [
    "# Scrape in batches of 1600-1700 players\n",
    "get_player_stats_with_batch_size(1600, 1700, 10)"
   ],
   "outputs": [],
   "execution_count": null
  },
  {
   "cell_type": "code",
   "id": "c8d2634e34786b11",
   "metadata": {},
   "source": [
    "# Scrape in batches of 1700-1800 players\n",
    "get_player_stats_with_batch_size(1700, 1800, 10)"
   ],
   "outputs": [],
   "execution_count": null
  },
  {
   "cell_type": "code",
   "id": "2e8e7d74d7f73240",
   "metadata": {},
   "source": [
    "# Scrape in batches of 1800-1900 players\n",
    "get_player_stats_with_batch_size(1800, 1900, 10)"
   ],
   "outputs": [],
   "execution_count": null
  },
  {
   "cell_type": "code",
   "id": "8ab93f5a24e4b82c",
   "metadata": {},
   "source": [
    "# Scrape in batches of 1900-2000 players\n",
    "get_player_stats_with_batch_size(1900, 2000, 10)"
   ],
   "outputs": [],
   "execution_count": null
  },
  {
   "cell_type": "code",
   "id": "338b0fcc8f179574",
   "metadata": {},
   "source": [
    "# Scrape in batches of 2000-2100 players\n",
    "get_player_stats_with_batch_size(2000, 2100, 10)"
   ],
   "outputs": [],
   "execution_count": null
  },
  {
   "cell_type": "code",
   "id": "c0d59c7984750a8e",
   "metadata": {},
   "source": [
    "# Scrape in batches of 2100-2200 players\n",
    "get_player_stats_with_batch_size(2100, 2200, 10)"
   ],
   "outputs": [],
   "execution_count": null
  },
  {
   "cell_type": "code",
   "id": "286e0d991140dbb8",
   "metadata": {},
   "source": [
    "# Scrape in batches of 2200-2300 players\n",
    "get_player_stats_with_batch_size(2200, 2300, 10)"
   ],
   "outputs": [],
   "execution_count": null
  },
  {
   "cell_type": "code",
   "id": "af700075ae85e677",
   "metadata": {},
   "source": [
    "# Scrape in batches of 2300-2400 players\n",
    "get_player_stats_with_batch_size(2300, 2400, 10)"
   ],
   "outputs": [],
   "execution_count": null
  },
  {
   "cell_type": "code",
   "id": "75aaffb5eb21307a",
   "metadata": {},
   "source": [
    "# Scrape in batches of 2400-2500 players\n",
    "get_player_stats_with_batch_size(2400, 2500, 10)"
   ],
   "outputs": [],
   "execution_count": null
  },
  {
   "cell_type": "code",
   "id": "8e0ea42157c2e179",
   "metadata": {},
   "source": [
    "# Scrape in batches of 2500-2600 players\n",
    "get_player_stats_with_batch_size(2500, 2600, 10)"
   ],
   "outputs": [],
   "execution_count": null
  },
  {
   "cell_type": "code",
   "id": "21e5e459d2ef880c",
   "metadata": {},
   "source": [
    "# Scrape in batches of 2600-2700 players\n",
    "get_player_stats_with_batch_size(2600, 2700, 10)"
   ],
   "outputs": [],
   "execution_count": null
  },
  {
   "cell_type": "code",
   "id": "3025bc1067d948c2",
   "metadata": {},
   "source": [
    "# Scrape in batches of 2700-2800 players\n",
    "get_player_stats_with_batch_size(2700, 2800, 10)"
   ],
   "outputs": [],
   "execution_count": null
  },
  {
   "cell_type": "code",
   "id": "b6f5c2cb1e438973",
   "metadata": {},
   "source": [
    "# Scrape in batches of 2800-2900 players\n",
    "get_player_stats_with_batch_size(2800, 2900, 10)"
   ],
   "outputs": [],
   "execution_count": null
  },
  {
   "cell_type": "code",
   "id": "af9a6221fc8d8322",
   "metadata": {},
   "source": [
    "# Scrape in batches of 2900-3000 players\n",
    "get_player_stats_with_batch_size(2900, 3000, 10)"
   ],
   "outputs": [],
   "execution_count": null
  },
  {
   "cell_type": "code",
   "id": "ef2cf0635e9c8d31",
   "metadata": {},
   "source": [
    "# Scrape in batches of 3000-3100 players\n",
    "get_player_stats_with_batch_size(3000, 3100, 10)"
   ],
   "outputs": [],
   "execution_count": null
  },
  {
   "cell_type": "code",
   "id": "d09609e5f9ec0f68",
   "metadata": {},
   "source": [
    "# Scrape in batches of 3100-3200 players\n",
    "get_player_stats_with_batch_size(3100, 3200, 10)"
   ],
   "outputs": [],
   "execution_count": null
  },
  {
   "cell_type": "code",
   "id": "ec42fea13df1e28e",
   "metadata": {},
   "source": [
    "# Scrape in batches of 3200-3300 players\n",
    "get_player_stats_with_batch_size(3200, 3300, 10)"
   ],
   "outputs": [],
   "execution_count": null
  },
  {
   "cell_type": "code",
   "id": "4d1454073a69be06",
   "metadata": {},
   "source": [
    "# Scrape in batches of 3300-3400 players\n",
    "get_player_stats_with_batch_size(3300, 3400, 10)"
   ],
   "outputs": [],
   "execution_count": null
  },
  {
   "cell_type": "code",
   "id": "eb48191693ecd520",
   "metadata": {},
   "source": [
    "# Scrape in batches of 3400-3500 players\n",
    "get_player_stats_with_batch_size(3400, 3500, 10)"
   ],
   "outputs": [],
   "execution_count": null
  },
  {
   "cell_type": "code",
   "id": "66df6e5ea30b5d3b",
   "metadata": {},
   "source": [
    "# Scrape in batches of 3500-3600 players\n",
    "get_player_stats_with_batch_size(3500, 3600, 10)"
   ],
   "outputs": [],
   "execution_count": null
  },
  {
   "cell_type": "code",
   "id": "5e67969fc0f56199",
   "metadata": {},
   "source": [
    "# Scrape in batches of 3600-3700 players\n",
    "get_player_stats_with_batch_size(3600, 3700, 10)"
   ],
   "outputs": [],
   "execution_count": null
  },
  {
   "cell_type": "code",
   "id": "54c190f32f6a253b",
   "metadata": {},
   "source": [
    "# Scrape in batches of 3700-3800 players\n",
    "get_player_stats_with_batch_size(3700, 3800, 10)"
   ],
   "outputs": [],
   "execution_count": null
  },
  {
   "cell_type": "code",
   "id": "770b66f026d7c59a",
   "metadata": {},
   "source": [
    "# Scrape in batches of 3800-3900 players\n",
    "get_player_stats_with_batch_size(3800, 3900, 10)"
   ],
   "outputs": [],
   "execution_count": null
  },
  {
   "cell_type": "code",
   "id": "e0601a55a22b5b23",
   "metadata": {},
   "source": [
    "# Scrape in batches of 3900-len(nhl_players_metadata) players\n",
    "get_player_stats_with_batch_size(3900, len(nhl_players_metadata), 10)"
   ],
   "outputs": [],
   "execution_count": null
  }
 ],
 "metadata": {
  "kernelspec": {
   "display_name": "Python 3 (ipykernel)",
   "language": "python",
   "name": "python3"
  },
  "language_info": {
   "codemirror_mode": {
    "name": "ipython",
    "version": 3
   },
   "file_extension": ".py",
   "mimetype": "text/x-python",
   "name": "python",
   "nbconvert_exporter": "python",
   "pygments_lexer": "ipython3",
   "version": "3.12.6"
  }
 },
 "nbformat": 4,
 "nbformat_minor": 5
}
