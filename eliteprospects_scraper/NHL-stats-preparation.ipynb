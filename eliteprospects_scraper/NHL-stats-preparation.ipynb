{
 "cells": [
  {
   "metadata": {},
   "cell_type": "markdown",
   "source": [
    "# NHL Stats Preparation\n",
    "## Collecting NHL Players' Stats from EliteProspects\n",
    "This step gathers player performance data across leagues and seasons for downstream NHL prediction.\n",
    "\n",
    "- Collect league-wide player stats for a given season from\n",
    "https://eliteprospects.com/league/{league}/stats/{season}?page={n}\n",
    "\n",
    "- Extract metadata, including individual player profile links.\n",
    "\n",
    "- Build a unique player list from seasons 2000–2025 by storing profile links in a set.\n",
    "\n",
    "- Scrape each player’s page to retrieve their first 5 years of NHL stats, filtered by seasons where they played more than 30 games.\n",
    "\n",
    "- Gather pre-NHL stats for each player (junior, college, international, etc.)."
   ],
   "id": "61eed713b68d6202"
  },
  {
   "metadata": {},
   "cell_type": "markdown",
   "source": "### Import Libraries",
   "id": "ff38163b29e8198d"
  },
  {
   "metadata": {
    "ExecuteTime": {
     "end_time": "2025-07-15T21:41:04.141561Z",
     "start_time": "2025-07-15T21:41:03.303889Z"
    }
   },
   "cell_type": "code",
   "source": [
    "import eliteprospects_scraper_api as ep\n",
    "import pandas as pd\n",
    "import time"
   ],
   "id": "1670e1470bfca24c",
   "outputs": [],
   "execution_count": 1
  },
  {
   "metadata": {},
   "cell_type": "markdown",
   "source": "### Collecting NHL Players' Stats from EliteProspects\n",
   "id": "1a95a8349f6370e8"
  },
  {
   "metadata": {},
   "cell_type": "code",
   "source": [
    "# Collect players from 2000-2025 season\n",
    "for i in range(0, 25):\n",
    "    season = f'20{str(i).zfill(2)}-20{str(i + 1).zfill(2)}'\n",
    "    print(f'Scraping {season}')\n",
    "    nhl_players = ep.get_season_roster(\"nhl\", season)\n",
    "    nhl_players.to_csv(f'./data/nhl/players/nhl_players_{season}.csv', index=False, encoding='utf-8-sig')\n",
    "    print(f'Finished scraping {season}')"
   ],
   "id": "103ad94c73c9cfb5",
   "outputs": [],
   "execution_count": null
  },
  {
   "metadata": {},
   "cell_type": "code",
   "source": [
    "# Collect players' metadata from 2000-2025 season\n",
    "nhl_players_metadata = pd.DataFrame()\n",
    "for i in range(0, 25):\n",
    "    season = f'20{str(i).zfill(2)}-20{str(i + 1).zfill(2)}'\n",
    "    nhl_players = pd.read_csv(f'./data/nhl/players/nhl_players_{season}.csv')\n",
    "    nhl_players_metadata = pd.concat([nhl_players_metadata, ep.get_players_metadata(nhl_players)]).reset_index(drop=True)\n",
    "    # Remove duplicates\n",
    "    nhl_players_metadata = nhl_players_metadata.drop_duplicates(subset=['playername']).reset_index(drop=True)\n",
    "    print(f'Finished Merging Metadata for {season}')\n"
   ],
   "id": "c42101a4c478a8b2",
   "outputs": [],
   "execution_count": null
  },
  {
   "metadata": {},
   "cell_type": "code",
   "source": "nhl_players_metadata.to_csv('./data/nhl/nhl_players_metadata.csv', index=False, encoding='utf-8-sig')",
   "id": "fcaede0f5edfd081",
   "outputs": [],
   "execution_count": null
  },
  {
   "metadata": {
    "ExecuteTime": {
     "end_time": "2025-07-15T21:41:11.515181Z",
     "start_time": "2025-07-15T21:41:11.484534Z"
    }
   },
   "cell_type": "code",
   "source": [
    "nhl_players_metadata = pd.read_csv('./data/nhl/nhl_players_metadata.csv')\n",
    "nhl_players_metadata"
   ],
   "id": "dd1defee55efdc6b",
   "outputs": [
    {
     "data": {
      "text/plain": [
       "              playername fw_def  \\\n",
       "0           Jaromír Jágr     FW   \n",
       "1              Joe Sakic     FW   \n",
       "2           Patrik Elias     FW   \n",
       "3         Alexei Kovalev     FW   \n",
       "4          Jason Allison     FW   \n",
       "...                  ...    ...   \n",
       "3923   Nikita Grebyonkin     FW   \n",
       "3924        Noah Östlund     FW   \n",
       "3925      Matt Stienburg     FW   \n",
       "3926  Nikita Prishchepov     FW   \n",
       "3927         Jere Innala     FW   \n",
       "\n",
       "                                                   link  \n",
       "0     https://www.eliteprospects.com/player/8627/jar...  \n",
       "1     https://www.eliteprospects.com/player/8862/joe...  \n",
       "2     https://www.eliteprospects.com/player/8698/pat...  \n",
       "3     https://www.eliteprospects.com/player/8670/ale...  \n",
       "4     https://www.eliteprospects.com/player/9064/jas...  \n",
       "...                                                 ...  \n",
       "3923  https://www.eliteprospects.com/player/652832/n...  \n",
       "3924  https://www.eliteprospects.com/player/535699/n...  \n",
       "3925  https://www.eliteprospects.com/player/267112/m...  \n",
       "3926  https://www.eliteprospects.com/player/691679/n...  \n",
       "3927  https://www.eliteprospects.com/player/277079/j...  \n",
       "\n",
       "[3928 rows x 3 columns]"
      ],
      "text/html": [
       "<div>\n",
       "<style scoped>\n",
       "    .dataframe tbody tr th:only-of-type {\n",
       "        vertical-align: middle;\n",
       "    }\n",
       "\n",
       "    .dataframe tbody tr th {\n",
       "        vertical-align: top;\n",
       "    }\n",
       "\n",
       "    .dataframe thead th {\n",
       "        text-align: right;\n",
       "    }\n",
       "</style>\n",
       "<table border=\"1\" class=\"dataframe\">\n",
       "  <thead>\n",
       "    <tr style=\"text-align: right;\">\n",
       "      <th></th>\n",
       "      <th>playername</th>\n",
       "      <th>fw_def</th>\n",
       "      <th>link</th>\n",
       "    </tr>\n",
       "  </thead>\n",
       "  <tbody>\n",
       "    <tr>\n",
       "      <th>0</th>\n",
       "      <td>Jaromír Jágr</td>\n",
       "      <td>FW</td>\n",
       "      <td>https://www.eliteprospects.com/player/8627/jar...</td>\n",
       "    </tr>\n",
       "    <tr>\n",
       "      <th>1</th>\n",
       "      <td>Joe Sakic</td>\n",
       "      <td>FW</td>\n",
       "      <td>https://www.eliteprospects.com/player/8862/joe...</td>\n",
       "    </tr>\n",
       "    <tr>\n",
       "      <th>2</th>\n",
       "      <td>Patrik Elias</td>\n",
       "      <td>FW</td>\n",
       "      <td>https://www.eliteprospects.com/player/8698/pat...</td>\n",
       "    </tr>\n",
       "    <tr>\n",
       "      <th>3</th>\n",
       "      <td>Alexei Kovalev</td>\n",
       "      <td>FW</td>\n",
       "      <td>https://www.eliteprospects.com/player/8670/ale...</td>\n",
       "    </tr>\n",
       "    <tr>\n",
       "      <th>4</th>\n",
       "      <td>Jason Allison</td>\n",
       "      <td>FW</td>\n",
       "      <td>https://www.eliteprospects.com/player/9064/jas...</td>\n",
       "    </tr>\n",
       "    <tr>\n",
       "      <th>...</th>\n",
       "      <td>...</td>\n",
       "      <td>...</td>\n",
       "      <td>...</td>\n",
       "    </tr>\n",
       "    <tr>\n",
       "      <th>3923</th>\n",
       "      <td>Nikita Grebyonkin</td>\n",
       "      <td>FW</td>\n",
       "      <td>https://www.eliteprospects.com/player/652832/n...</td>\n",
       "    </tr>\n",
       "    <tr>\n",
       "      <th>3924</th>\n",
       "      <td>Noah Östlund</td>\n",
       "      <td>FW</td>\n",
       "      <td>https://www.eliteprospects.com/player/535699/n...</td>\n",
       "    </tr>\n",
       "    <tr>\n",
       "      <th>3925</th>\n",
       "      <td>Matt Stienburg</td>\n",
       "      <td>FW</td>\n",
       "      <td>https://www.eliteprospects.com/player/267112/m...</td>\n",
       "    </tr>\n",
       "    <tr>\n",
       "      <th>3926</th>\n",
       "      <td>Nikita Prishchepov</td>\n",
       "      <td>FW</td>\n",
       "      <td>https://www.eliteprospects.com/player/691679/n...</td>\n",
       "    </tr>\n",
       "    <tr>\n",
       "      <th>3927</th>\n",
       "      <td>Jere Innala</td>\n",
       "      <td>FW</td>\n",
       "      <td>https://www.eliteprospects.com/player/277079/j...</td>\n",
       "    </tr>\n",
       "  </tbody>\n",
       "</table>\n",
       "<p>3928 rows × 3 columns</p>\n",
       "</div>"
      ]
     },
     "execution_count": 2,
     "metadata": {},
     "output_type": "execute_result"
    }
   ],
   "execution_count": 2
  },
  {
   "metadata": {},
   "cell_type": "markdown",
   "source": "### Collect Stats for Each Player from 2000-2025 CSV file",
   "id": "65ed007417c4be3b"
  },
  {
   "metadata": {},
   "cell_type": "code",
   "outputs": [],
   "execution_count": null,
   "source": "",
   "id": "a71638ad254bfa6d"
  }
 ],
 "metadata": {
  "kernelspec": {
   "display_name": "Python 3",
   "language": "python",
   "name": "python3"
  },
  "language_info": {
   "codemirror_mode": {
    "name": "ipython",
    "version": 2
   },
   "file_extension": ".py",
   "mimetype": "text/x-python",
   "name": "python",
   "nbconvert_exporter": "python",
   "pygments_lexer": "ipython2",
   "version": "2.7.6"
  }
 },
 "nbformat": 4,
 "nbformat_minor": 5
}
