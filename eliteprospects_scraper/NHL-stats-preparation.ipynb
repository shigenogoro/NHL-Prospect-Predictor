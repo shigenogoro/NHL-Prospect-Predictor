{
 "cells": [
  {
   "metadata": {},
   "cell_type": "markdown",
   "source": [
    "# NHL Stats Preparation\n",
    "## Collecting NHL Players' Stats from EliteProspects\n",
    "This step gathers player performance data across leagues and seasons for downstream NHL prediction.\n",
    "\n",
    "- Collect league-wide player stats for a given season from\n",
    "https://eliteprospects.com/league/{league}/stats/{season}?page={n}\n",
    "\n",
    "- Extract metadata, including individual player profile links.\n",
    "\n",
    "- Build a unique player list from seasons 2000–2025 by storing profile links in a set.\n",
    "\n",
    "- Scrape each player’s page to retrieve their first 5 years of NHL stats, filtered by seasons where they played more than 30 games.\n",
    "\n",
    "- Gather pre-NHL stats for each player (junior, college, international, etc.)."
   ],
   "id": "61eed713b68d6202"
  },
  {
   "metadata": {},
   "cell_type": "markdown",
   "source": "### Import Libraries",
   "id": "ff38163b29e8198d"
  },
  {
   "metadata": {},
   "cell_type": "code",
   "source": [
    "import eliteprospects_scraper_api as ep\n",
    "import pandas as pd\n",
    "import time"
   ],
   "id": "1670e1470bfca24c",
   "outputs": [],
   "execution_count": null
  },
  {
   "metadata": {},
   "cell_type": "markdown",
   "source": "### Collecting NHL Players' Stats from EliteProspects\n",
   "id": "1a95a8349f6370e8"
  },
  {
   "metadata": {},
   "cell_type": "code",
   "source": [
    "# Collect players from 2000-2025 season\n",
    "for i in range(0, 25):\n",
    "    season = f'20{str(i).zfill(2)}-20{str(i + 1).zfill(2)}'\n",
    "    print(f'Scraping {season}')\n",
    "    nhl_players = ep.getSeasonRoster(\"nhl\", season)\n",
    "    nhl_players.to_csv(f'./data/nhl/players/nhl_players_{season}.csv', index=False, encoding='utf-8-sig')\n",
    "    print(f'Finished scraping {season}')"
   ],
   "id": "103ad94c73c9cfb5",
   "outputs": [],
   "execution_count": null
  },
  {
   "metadata": {},
   "cell_type": "code",
   "source": [
    "# Collect players' metadata from 2000-2025 season\n",
    "nhl_players_metadata = pd.DataFrame()\n",
    "for i in range(0, 25):\n",
    "    season = f'20{str(i).zfill(2)}-20{str(i + 1).zfill(2)}'\n",
    "    nhl_players = pd.read_csv(f'./data/nhl/players/nhl_players_{season}.csv')\n",
    "    nhl_players_metadata = pd.concat([nhl_players_metadata, ep.getPlayersMetadata(nhl_players)]).reset_index(drop=True)\n",
    "    # Remove duplicates\n",
    "    nhl_players_metadata = nhl_players_metadata.drop_duplicates(subset=['playername']).reset_index(drop=True)\n",
    "    print(f'Finished Merging Metadata for {season}')\n"
   ],
   "id": "c42101a4c478a8b2",
   "outputs": [],
   "execution_count": null
  },
  {
   "metadata": {},
   "cell_type": "code",
   "source": "nhl_players_metadata.to_csv('./data/nhl/nhl_players_metadata.csv', index=False, encoding='utf-8-sig')",
   "id": "fcaede0f5edfd081",
   "outputs": [],
   "execution_count": null
  },
  {
   "metadata": {},
   "cell_type": "code",
   "source": "nhl_players_metadata",
   "id": "dd1defee55efdc6b",
   "outputs": [],
   "execution_count": null
  },
  {
   "metadata": {},
   "cell_type": "markdown",
   "source": "### Collect Stats for Each Player from 2000-2025 CSV file",
   "id": "65ed007417c4be3b"
  },
  {
   "metadata": {},
   "cell_type": "code",
   "source": [
    "# Define output file\n",
    "output_path = './data/nhl/stats/nhl_players_stats.csv'\n",
    "\n",
    "# Get stats for each batch\n",
    "# Define batch size\n",
    "batch_size = 5\n",
    "\n",
    "# Define the start of the batch\n",
    "curr_batch_start = 0"
   ],
   "id": "ebc890059331746f",
   "outputs": [],
   "execution_count": null
  },
  {
   "metadata": {},
   "cell_type": "code",
   "source": [
    "# Define get stats function by the given batch size\n",
    "def getStatsByBatch(start, batch_size, metadata_df, first_batch=False):\n",
    "    # Check if end of the batch is beyond the length of the dataframe\n",
    "    if start + batch_size > len(metadata_df):\n",
    "        end = len(metadata_df)\n",
    "    else:\n",
    "        end = start + batch_size\n",
    "    batch = metadata_df.iloc[start : end]\n",
    "    print(f'Getting stats for batch {start} to {end - 1}')\n",
    "\n",
    "    # Define a list to store failed batches\n",
    "    failed_players = []\n",
    "\n",
    "    try:\n",
    "        # Attempt to get player stats for this batch\n",
    "        nhl_players_stats = ep.getPlayersStats(batch)\n",
    "\n",
    "        # Save to CSV\n",
    "        if first_batch:\n",
    "            nhl_players_stats.to_csv(output_path, index = False, encoding = 'utf-8-sig')\n",
    "        else:\n",
    "            nhl_players_stats.to_csv(output_path, mode = 'a', header = False, index = False, encoding = 'utf-8-sig')\n",
    "\n",
    "    except Exception as e:\n",
    "        print(f\"Error processing batch {start}-{end}: {e}\")\n",
    "        failed_players.append(batch)  # Store failed batch metadata\n",
    "\n",
    "        # Save failed batches (if any)\n",
    "        if failed_players:\n",
    "            failed_df = pd.concat(failed_players).reset_index(drop=True)\n",
    "            # Append to failed batches file\n",
    "            failed_df.to_csv(\"./data/nhl/stats/failed_batches.csv\", mode = 'a', index=False, encoding='utf-8-sig')\n",
    "            print(f\"\\nSaved rows for batch {start} to {end} failed player metadata rows to 'failed_batches.csv'\")\n",
    "\n",
    "    return"
   ],
   "id": "a07f2d0c7c51784d",
   "outputs": [],
   "execution_count": null
  },
  {
   "metadata": {},
   "cell_type": "code",
   "source": [
    "# Get the batch start from 0 to 100\n",
    "while curr_batch_start < 100:\n",
    "    getStatsByBatch(curr_batch_start, batch_size)\n",
    "    curr_batch_start += batch_size\n",
    "    time.sleep(20)"
   ],
   "id": "6854627446e9566d",
   "outputs": [],
   "execution_count": null
  },
  {
   "metadata": {},
   "cell_type": "code",
   "source": [
    "# Get the batch start from 100 to 200\n",
    "while curr_batch_start < 200:\n",
    "    getStatsByBatch(curr_batch_start, batch_size)\n",
    "    curr_batch_start += batch_size\n",
    "    time.sleep(20)"
   ],
   "id": "813b3b3d7118341a",
   "outputs": [],
   "execution_count": null
  },
  {
   "metadata": {},
   "cell_type": "code",
   "source": [
    "# Get the batch start from 200 to 500\n",
    "while curr_batch_start < 500:\n",
    "    getStatsByBatch(curr_batch_start, batch_size)\n",
    "    curr_batch_start += batch_size\n",
    "    time.sleep(10)"
   ],
   "id": "c14c5ae629d0a76a",
   "outputs": [],
   "execution_count": null
  },
  {
   "metadata": {},
   "cell_type": "code",
   "source": [
    "# Get the batch start from 500 to 1000\n",
    "while curr_batch_start < 1000:\n",
    "    getStatsByBatch(curr_batch_start, batch_size)\n",
    "    curr_batch_start += batch_size\n",
    "    time.sleep(10)"
   ],
   "id": "81bb567574dbee90",
   "outputs": [],
   "execution_count": null
  },
  {
   "metadata": {},
   "cell_type": "code",
   "source": [
    "# Get the batch start from 1000 to 1500\n",
    "while curr_batch_start < 1500:\n",
    "    getStatsByBatch(curr_batch_start, batch_size)\n",
    "    curr_batch_start += batch_size\n",
    "    time.sleep(10)"
   ],
   "id": "318a350465a461ac",
   "outputs": [],
   "execution_count": null
  },
  {
   "metadata": {
    "jupyter": {
     "is_executing": true
    }
   },
   "cell_type": "code",
   "source": [
    "# Get the batch start from 1500 to 2000\n",
    "while curr_batch_start < 2000:\n",
    "    getStatsByBatch(curr_batch_start, batch_size)\n",
    "    curr_batch_start += batch_size\n",
    "    time.sleep(10)"
   ],
   "id": "47f5af43ff41930c",
   "outputs": [],
   "execution_count": null
  },
  {
   "metadata": {},
   "cell_type": "code",
   "source": [
    "# Get the batch start from 2000 to 2500\n",
    "while curr_batch_start < 2500:\n",
    "    getStatsByBatch(curr_batch_start, batch_size)\n",
    "    curr_batch_start += batch_size\n",
    "    time.sleep(10)"
   ],
   "id": "ee22e545f1614945",
   "outputs": [],
   "execution_count": null
  },
  {
   "metadata": {},
   "cell_type": "code",
   "source": [
    "# Get the batch start from 2500 to 3000\n",
    "while curr_batch_start < 3000:\n",
    "    getStatsByBatch(curr_batch_start, batch_size)\n",
    "    curr_batch_start += batch_size\n",
    "    time.sleep(10)"
   ],
   "id": "c16478861030d9ca",
   "outputs": [],
   "execution_count": null
  },
  {
   "metadata": {},
   "cell_type": "code",
   "source": [
    "# Get the batch start from 3000 to 3500\n",
    "while curr_batch_start < 3500:\n",
    "    getStatsByBatch(curr_batch_start, batch_size)\n",
    "    curr_batch_start += batch_size\n",
    "    time.sleep(10)"
   ],
   "id": "bd79da718ad35641",
   "outputs": [],
   "execution_count": null
  },
  {
   "metadata": {},
   "cell_type": "code",
   "source": [
    "# Get the batch start from 3500 to len(nhl_players_metadata)\n",
    "while curr_batch_start < len(nhl_players_metadata):\n",
    "    getStatsByBatch(curr_batch_start, batch_size)\n",
    "    curr_batch_start += batch_size\n",
    "    time.sleep(10)"
   ],
   "id": "42dc603d424a89ec",
   "outputs": [],
   "execution_count": null
  },
  {
   "metadata": {},
   "cell_type": "code",
   "source": [
    "# Fetch those failed batches\n",
    "failed_batches = pd.read_csv('./data/nhl/stats/failed_batches.csv')\n",
    "failed_batches"
   ],
   "id": "d484afdeb5cb9b1a",
   "outputs": [],
   "execution_count": null
  },
  {
   "metadata": {},
   "cell_type": "code",
   "source": [
    "# Remove data with playername = playername\n",
    "failed_batches = failed_batches[failed_batches['playername'] != 'playername'].reset_index(drop=True)\n",
    "failed_batches"
   ],
   "id": "6dc671a8b059de98",
   "outputs": [],
   "execution_count": null
  },
  {
   "metadata": {},
   "cell_type": "code",
   "source": [
    "# Get stats for each batch\n",
    "# Define batch size\n",
    "batch_size = 5\n",
    "\n",
    "# Define the start of the batch\n",
    "curr_batch_start = 0"
   ],
   "id": "3ff4736db65a813e",
   "outputs": [],
   "execution_count": null
  },
  {
   "metadata": {},
   "cell_type": "code",
   "source": [
    "# Get the batch start from 0 to 100\n",
    "while curr_batch_start < len(failed_batches):\n",
    "    getStatsByBatch(curr_batch_start, batch_size, failed_batches)\n",
    "    curr_batch_start += batch_size\n",
    "    time.sleep(10)"
   ],
   "id": "f87cdd78ef168760",
   "outputs": [],
   "execution_count": null
  },
  {
   "metadata": {},
   "cell_type": "code",
   "source": [
    "# Check if every player in the nhl_players_metadata is in the nhl_players_stats\n",
    "nhl_players_metadata = pd.read_csv('./data/nhl/nhl_players_metadata.csv')\n",
    "nhl_players_stats = pd.read_csv('./data/nhl/stats/nhl_players_stats.csv', dtype={'playername': str}, low_memory=False)"
   ],
   "id": "5933ec511971c81",
   "outputs": [],
   "execution_count": null
  },
  {
   "metadata": {},
   "cell_type": "code",
   "source": [
    "# Check if every player in the nhl_players_metadata is in the nhl_players_stats\n",
    "nhl_players_metadata[~nhl_players_metadata['playername'].isin(nhl_players_stats['playername'])]"
   ],
   "id": "ae82c9638c137a00",
   "outputs": [],
   "execution_count": null
  },
  {
   "metadata": {},
   "cell_type": "code",
   "source": [
    "# Fetch those players not in the nhl_players_stats\n",
    "failed_players = nhl_players_metadata[~nhl_players_metadata['playername'].isin(nhl_players_stats['playername'])]\n",
    "failed_players"
   ],
   "id": "83d3d68f6d2bfc79",
   "outputs": [],
   "execution_count": null
  },
  {
   "metadata": {},
   "cell_type": "code",
   "source": [
    "# Get stats for each batch\n",
    "# Define batch size\n",
    "batch_size = 5\n",
    "\n",
    "# Define the start of the batch\n",
    "curr_batch_start = 0"
   ],
   "id": "371548a71a3c0344",
   "outputs": [],
   "execution_count": null
  },
  {
   "metadata": {},
   "cell_type": "code",
   "source": [
    "# Get the batch start from 0 to 100\n",
    "while curr_batch_start < len(failed_players):\n",
    "    getStatsByBatch(curr_batch_start, batch_size, failed_players)\n",
    "    curr_batch_start += batch_size\n",
    "    time.sleep(10)"
   ],
   "id": "ad480466113d2b0",
   "outputs": [],
   "execution_count": null
  },
  {
   "metadata": {},
   "cell_type": "code",
   "source": [
    "# Check if every player in the nhl_players_metadata is in the nhl_players_stats\n",
    "nhl_players_metadata = pd.read_csv('./data/nhl/nhl_players_metadata.csv')"
   ],
   "id": "4a676220263b39f5",
   "outputs": [],
   "execution_count": null
  },
  {
   "metadata": {},
   "cell_type": "code",
   "source": [
    "# Check if every player in the nhl_players_metadata is in the nhl_players_stats\n",
    "nhl_players_stats = pd.read_csv('./data/nhl/stats/nhl_players_stats.csv', dtype={'playername': str}, low_memory=False)\n",
    "nhl_players_stats['playername'] = nhl_players_stats['playername'].astype(str)\n",
    "nhl_players_metadata['playername'] = nhl_players_metadata['playername'].astype(str)"
   ],
   "id": "17894efff306db96",
   "outputs": [],
   "execution_count": null
  },
  {
   "metadata": {},
   "cell_type": "code",
   "source": "",
   "id": "8c3de8af1faf6cca",
   "outputs": [],
   "execution_count": null
  }
 ],
 "metadata": {
  "kernelspec": {
   "display_name": "Python 3",
   "language": "python",
   "name": "python3"
  },
  "language_info": {
   "codemirror_mode": {
    "name": "ipython",
    "version": 2
   },
   "file_extension": ".py",
   "mimetype": "text/x-python",
   "name": "python",
   "nbconvert_exporter": "python",
   "pygments_lexer": "ipython2",
   "version": "2.7.6"
  }
 },
 "nbformat": 4,
 "nbformat_minor": 5
}
