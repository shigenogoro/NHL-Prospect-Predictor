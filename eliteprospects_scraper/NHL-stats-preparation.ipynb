{
 "cells": [
  {
   "cell_type": "markdown",
   "id": "61eed713b68d6202",
   "metadata": {},
   "source": [
    "# NHL Stats Preparation\n",
    "## Collecting NHL Players' Stats from EliteProspects\n",
    "This step gathers player performance data across leagues and seasons for downstream NHL prediction.\n",
    "\n",
    "- Collect league-wide player stats for a given season from\n",
    "https://eliteprospects.com/league/{league}/stats/{season}?page={n}\n",
    "\n",
    "- Extract metadata, including individual player profile links.\n",
    "\n",
    "- Build a unique player list from seasons 2000–2025 by storing profile links in a set.\n",
    "\n",
    "- Scrape each player’s page to retrieve their first 5 years of NHL stats, filtered by seasons where they played more than 30 games.\n",
    "\n",
    "- Gather pre-NHL stats for each player (junior, college, international, etc.)."
   ]
  },
  {
   "cell_type": "markdown",
   "id": "ff38163b29e8198d",
   "metadata": {},
   "source": [
    "### Import Libraries"
   ]
  },
  {
   "cell_type": "code",
   "id": "1670e1470bfca24c",
   "metadata": {
    "ExecuteTime": {
     "end_time": "2025-07-17T18:11:02.754078Z",
     "start_time": "2025-07-17T18:11:01.959092Z"
    }
   },
   "source": [
    "import eliteprospects_scraper_api as ep\n",
    "import pandas as pd\n",
    "import os\n",
    "import time\n",
    "import random"
   ],
   "outputs": [],
   "execution_count": 1
  },
  {
   "cell_type": "markdown",
   "id": "1a95a8349f6370e8",
   "metadata": {},
   "source": [
    "### Collecting NHL Players' Stats from EliteProspects\n"
   ]
  },
  {
   "cell_type": "code",
   "id": "103ad94c73c9cfb5",
   "metadata": {
    "ExecuteTime": {
     "end_time": "2025-07-17T18:11:03.569188Z",
     "start_time": "2025-07-17T18:11:03.555508Z"
    }
   },
   "source": [
    "if not os.path.exists('./data/nhl/nhl_players_metadata.csv'):\n",
    "    # Collect players from 2000-2025 season\n",
    "    for i in range(0, 25):\n",
    "        season = f'20{str(i).zfill(2)}-20{str(i + 1).zfill(2)}'\n",
    "        print(f'Scraping {season}')\n",
    "        nhl_players = ep.get_season_roster(\"nhl\", season)\n",
    "        nhl_players.to_csv(f'./data/nhl/players/nhl_players_{season}.csv', index=False, encoding='utf-8-sig')\n",
    "        print(f'Finished scraping {season}')\n",
    "else:\n",
    "    print('NHL players metadata already exists. Skipping scraping.')"
   ],
   "outputs": [
    {
     "name": "stdout",
     "output_type": "stream",
     "text": [
      "NHL players metadata already exists. Skipping scraping.\n"
     ]
    }
   ],
   "execution_count": 2
  },
  {
   "cell_type": "code",
   "id": "c42101a4c478a8b2",
   "metadata": {
    "ExecuteTime": {
     "end_time": "2025-07-17T18:11:03.930352Z",
     "start_time": "2025-07-17T18:11:03.911560Z"
    }
   },
   "source": [
    "if not os.path.exists('./data/nhl/nhl_players_metadata.csv'):\n",
    "    # Collect players' metadata from 2000-2025 season\n",
    "    nhl_players_metadata = pd.DataFrame()\n",
    "    for i in range(0, 25):\n",
    "        season = f'20{str(i).zfill(2)}-20{str(i + 1).zfill(2)}'\n",
    "        nhl_players = pd.read_csv(f'./data/nhl/players/nhl_players_{season}.csv')\n",
    "        nhl_players_metadata = pd.concat([nhl_players_metadata, ep.get_players_metadata(nhl_players)]).reset_index(drop=True)\n",
    "        # Remove duplicates\n",
    "        nhl_players_metadata = nhl_players_metadata.drop_duplicates(subset=['playername']).reset_index(drop=True)\n",
    "        print(f'Finished Merging Metadata for {season}')\n",
    "else:\n",
    "    print('NHL players metadata already exists. Skipping merging.')\n",
    "    nhl_players_metadata = pd.read_csv('./data/nhl/nhl_players_metadata.csv')\n"
   ],
   "outputs": [
    {
     "name": "stdout",
     "output_type": "stream",
     "text": [
      "NHL players metadata already exists. Skipping merging.\n"
     ]
    }
   ],
   "execution_count": 3
  },
  {
   "cell_type": "markdown",
   "id": "65ed007417c4be3b",
   "metadata": {},
   "source": [
    "### Collect Stats for Each Player from 2000-2025 CSV file"
   ]
  },
  {
   "cell_type": "code",
   "id": "7478da7bf967764e",
   "metadata": {
    "ExecuteTime": {
     "end_time": "2025-07-17T18:33:30.860488Z",
     "start_time": "2025-07-17T18:33:30.856565Z"
    }
   },
   "source": [
    "# Define output file\n",
    "output_path = './data/nhl/stats/nhl_players_stats.csv'\n",
    "failed_path = './data/nhl/stats/failed_players.csv'"
   ],
   "outputs": [],
   "execution_count": 15
  },
  {
   "cell_type": "code",
   "id": "518cb341e68bf419",
   "metadata": {
    "ExecuteTime": {
     "end_time": "2025-07-17T18:33:41.954903Z",
     "start_time": "2025-07-17T18:33:41.948354Z"
    }
   },
   "source": [
    "def get_players_stats_by_batch(players_metadata, start = 0, end = len(nhl_players_metadata)):\n",
    "    end = min(end, len(players_metadata))\n",
    "    print(f'Collecting stats for players {start} to {end}')\n",
    "\n",
    "    for i in range(start, end):\n",
    "        # Print divider for every 10 players\n",
    "        if i % 10 == 0:\n",
    "            print('----------------------------------------------------------------')\n",
    "\n",
    "        player_metadata = players_metadata.iloc[i]\n",
    "        player_name = player_metadata['playername']\n",
    "        player_url = player_metadata['link']\n",
    "        print(f\"Collecting stats for {player_name} at {player_url}\")\n",
    "\n",
    "        try:\n",
    "            player_stats = ep.get_player_stats(player_metadata)\n",
    "\n",
    "            # Write to CSV file\n",
    "            if os.path.exists(output_path):\n",
    "                player_stats.to_csv(output_path, mode='a', header=False, index=False, encoding='utf-8-sig')\n",
    "            else:\n",
    "                player_stats.to_csv(output_path, index=False, encoding='utf-8-sig')\n",
    "            print(f'Successfully scraped stats for {player_name}')\n",
    "\n",
    "            # Add random sleep to prevent getting blocked\n",
    "            sleep_time = random.uniform(10, 180)\n",
    "            print(f\"Sleep for {sleep_time / 60:.2f} minutes to prevent getting blocked\")\n",
    "            time.sleep(sleep_time)\n",
    "        except Exception as e:\n",
    "            print(f\"Failed to get stats for {player_name}: {e}\")\n",
    "\n",
    "            # Write failed player to CSV file\n",
    "            if os.path.exists(failed_path):\n",
    "                player_metadata.to_csv(failed_path, mode='a', header=False, index=False, encoding='utf-8-sig')\n",
    "            else:\n",
    "                player_metadata.to_csv(failed_path, index=False, encoding='utf-8-sig')\n",
    "\n",
    "            print(f'Failed to scrape stats for {player_name}. Logged to {failed_path}')"
   ],
   "outputs": [],
   "execution_count": 17
  },
  {
   "metadata": {},
   "cell_type": "markdown",
   "source": "### Fetch Players' Stats by Batch",
   "id": "1731e698ecd6c25f"
  },
  {
   "metadata": {},
   "cell_type": "code",
   "outputs": [],
   "execution_count": null,
   "source": "",
   "id": "c3d0b455df9632c2"
  },
  {
   "metadata": {},
   "cell_type": "markdown",
   "source": "### Fetch failed players",
   "id": "ed8e68d1754f8164"
  },
  {
   "metadata": {
    "ExecuteTime": {
     "end_time": "2025-07-17T18:32:33.269715Z",
     "start_time": "2025-07-17T18:32:33.246858Z"
    }
   },
   "cell_type": "code",
   "outputs": [],
   "execution_count": 13,
   "source": [
    "# Get unique players from nhl_players_stats.csv\n",
    "if os.path.exists(output_path):\n",
    "    nhl_players_stats = pd.read_csv(output_path)\n",
    "    unique_players = set(nhl_players_stats['playername'].unique())\n",
    "else:\n",
    "    unique_players = set()"
   ],
   "id": "1cc44f6ef5201a07"
  },
  {
   "metadata": {
    "ExecuteTime": {
     "end_time": "2025-07-17T18:32:34.024057Z",
     "start_time": "2025-07-17T18:32:34.016236Z"
    }
   },
   "cell_type": "code",
   "outputs": [
    {
     "data": {
      "text/plain": [
       "Empty DataFrame\n",
       "Columns: [playername, fw_def, link]\n",
       "Index: []"
      ],
      "text/html": [
       "<div>\n",
       "<style scoped>\n",
       "    .dataframe tbody tr th:only-of-type {\n",
       "        vertical-align: middle;\n",
       "    }\n",
       "\n",
       "    .dataframe tbody tr th {\n",
       "        vertical-align: top;\n",
       "    }\n",
       "\n",
       "    .dataframe thead th {\n",
       "        text-align: right;\n",
       "    }\n",
       "</style>\n",
       "<table border=\"1\" class=\"dataframe\">\n",
       "  <thead>\n",
       "    <tr style=\"text-align: right;\">\n",
       "      <th></th>\n",
       "      <th>playername</th>\n",
       "      <th>fw_def</th>\n",
       "      <th>link</th>\n",
       "    </tr>\n",
       "  </thead>\n",
       "  <tbody>\n",
       "  </tbody>\n",
       "</table>\n",
       "</div>"
      ]
     },
     "execution_count": 14,
     "metadata": {},
     "output_type": "execute_result"
    }
   ],
   "execution_count": 14,
   "source": [
    "# Find players in nhl_players_metadata 0-200 not in unique_players\n",
    "subset = nhl_players_metadata[0:200]\n",
    "players_to_scrape = subset[~subset['playername'].isin(unique_players)].reset_index(drop=True)\n",
    "players_to_scrape"
   ],
   "id": "8658556a6ca7cb14"
  },
  {
   "metadata": {
    "ExecuteTime": {
     "end_time": "2025-07-17T18:30:36.758343Z",
     "start_time": "2025-07-17T18:13:28.510375Z"
    }
   },
   "cell_type": "code",
   "outputs": [
    {
     "name": "stdout",
     "output_type": "stream",
     "text": [
      "Collecting stats for Gary Suter at https://www.eliteprospects.com/player/21396/gary-suter\n",
      "\n",
      "Collecting Regular Season + Postseason stats for Gary Suter at https://www.eliteprospects.com/player/21396/gary-suter\n",
      "Successfully scraped stats for Gary Suter\n",
      "Sleep for 0.88 minutes to prevent getting blocked\n",
      "Collecting stats for Steve Thomas at https://www.eliteprospects.com/player/30687/steve-thomas\n",
      "\n",
      "Collecting Regular Season + Postseason stats for Steve Thomas at https://www.eliteprospects.com/player/30687/steve-thomas\n",
      "Successfully scraped stats for Steve Thomas\n",
      "Sleep for 0.61 minutes to prevent getting blocked\n",
      "Collecting stats for Jiri Slegr at https://www.eliteprospects.com/player/1938/jiri-slegr\n",
      "\n",
      "Collecting Regular Season + Postseason stats for Jiri Slegr at https://www.eliteprospects.com/player/1938/jiri-slegr\n",
      "Successfully scraped stats for Jiri Slegr\n",
      "Sleep for 2.59 minutes to prevent getting blocked\n",
      "Collecting stats for Phil Housley at https://www.eliteprospects.com/player/21377/phil-housley\n",
      "\n",
      "Collecting Regular Season + Postseason stats for Phil Housley at https://www.eliteprospects.com/player/21377/phil-housley\n",
      "Successfully scraped stats for Phil Housley\n",
      "Sleep for 0.19 minutes to prevent getting blocked\n",
      "Collecting stats for Dave Andreychuk at https://www.eliteprospects.com/player/21425/dave-andreychuk\n",
      "\n",
      "Collecting Regular Season + Postseason stats for Dave Andreychuk at https://www.eliteprospects.com/player/21425/dave-andreychuk\n",
      "Successfully scraped stats for Dave Andreychuk\n",
      "Sleep for 2.53 minutes to prevent getting blocked\n",
      "Collecting stats for Magnus Arvedson at https://www.eliteprospects.com/player/705/magnus-arvedson\n",
      "\n",
      "Collecting Regular Season + Postseason stats for Magnus Arvedson at https://www.eliteprospects.com/player/705/magnus-arvedson\n",
      "Successfully scraped stats for Magnus Arvedson\n",
      "Sleep for 1.45 minutes to prevent getting blocked\n",
      "Collecting stats for Trent Klatt at https://www.eliteprospects.com/player/69566/trent-klatt\n",
      "\n",
      "Collecting Regular Season + Postseason stats for Trent Klatt at https://www.eliteprospects.com/player/69566/trent-klatt\n",
      "Successfully scraped stats for Trent Klatt\n",
      "Sleep for 2.90 minutes to prevent getting blocked\n",
      "Collecting stats for Joé Juneau at https://www.eliteprospects.com/player/21390/joe-juneau\n",
      "\n",
      "Collecting Regular Season + Postseason stats for Joé Juneau at https://www.eliteprospects.com/player/21390/joe-juneau\n",
      "Successfully scraped stats for Joé Juneau\n",
      "Sleep for 2.20 minutes to prevent getting blocked\n"
     ]
    }
   ],
   "execution_count": 11,
   "source": [
    "for i in range(len(players_to_scrape)):\n",
    "    player_metadata = players_to_scrape.iloc[i]\n",
    "    player_name = player_metadata['playername']\n",
    "    player_url = player_metadata['link']\n",
    "    print(f\"Collecting stats for {player_name} at {player_url}\")\n",
    "\n",
    "    try:\n",
    "        player_stats = ep.get_player_stats(player_metadata)\n",
    "\n",
    "        # Write to CSV file\n",
    "        if os.path.exists(output_path):\n",
    "            player_stats.to_csv(output_path, mode='a', header=False, index=False, encoding='utf-8-sig')\n",
    "        else:\n",
    "            player_stats.to_csv(output_path, index=False, encoding='utf-8-sig')\n",
    "        print(f'Successfully scraped stats for {player_name}')\n",
    "\n",
    "        # Add random sleep to prevent getting blocked\n",
    "        sleep_time = random.uniform(10, 180)\n",
    "        print(f\"Sleep for {sleep_time / 60:.2f} minutes to prevent getting blocked\")\n",
    "        time.sleep(sleep_time)\n",
    "    except Exception as e:\n",
    "        print(f\"Failed to get stats for {player_name}: {e}\")\n",
    "\n",
    "        # Sleep for 1-3 minutes before trying the next player\n",
    "        print(f\"Sleeping for 1-3 minutes before trying the next player\")\n",
    "        time.sleep(random.uniform(60, 180))"
   ],
   "id": "9b18088ba9607cb0"
  }
 ],
 "metadata": {
  "kernelspec": {
   "display_name": "Python 3 (ipykernel)",
   "language": "python",
   "name": "python3"
  },
  "language_info": {
   "codemirror_mode": {
    "name": "ipython",
    "version": 3
   },
   "file_extension": ".py",
   "mimetype": "text/x-python",
   "name": "python",
   "nbconvert_exporter": "python",
   "pygments_lexer": "ipython3",
   "version": "3.12.6"
  }
 },
 "nbformat": 4,
 "nbformat_minor": 5
}
