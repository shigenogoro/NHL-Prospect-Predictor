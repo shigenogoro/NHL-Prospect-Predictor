{
 "cells": [
  {
   "cell_type": "markdown",
   "id": "61eed713b68d6202",
   "metadata": {},
   "source": [
    "# NHL Stats Preparation\n",
    "## Collecting NHL Players' Stats from EliteProspects\n",
    "This step gathers player performance data across leagues and seasons for downstream NHL prediction.\n",
    "\n",
    "- Collect league-wide player stats for a given season from\n",
    "https://eliteprospects.com/league/{league}/stats/{season}?page={n}\n",
    "\n",
    "- Extract metadata, including individual player profile links.\n",
    "\n",
    "- Build a unique player list from seasons 2000–2025 by storing profile links in a set.\n",
    "\n",
    "- Scrape each player’s page to retrieve their first 5 years of NHL stats, filtered by seasons where they played more than 30 games.\n",
    "\n",
    "- Gather pre-NHL stats for each player (junior, college, international, etc.)."
   ]
  },
  {
   "cell_type": "markdown",
   "id": "ff38163b29e8198d",
   "metadata": {},
   "source": [
    "### Import Libraries"
   ]
  },
  {
   "cell_type": "code",
   "id": "1670e1470bfca24c",
   "metadata": {
    "ExecuteTime": {
     "end_time": "2025-07-18T05:17:53.891972Z",
     "start_time": "2025-07-18T05:17:53.123256Z"
    }
   },
   "source": [
    "import eliteprospects_scraper_api as ep\n",
    "import pandas as pd\n",
    "import os\n",
    "import time\n",
    "import random"
   ],
   "outputs": [],
   "execution_count": 1
  },
  {
   "cell_type": "markdown",
   "id": "1a95a8349f6370e8",
   "metadata": {},
   "source": [
    "### Collecting NHL Players' Stats from EliteProspects\n"
   ]
  },
  {
   "cell_type": "code",
   "id": "103ad94c73c9cfb5",
   "metadata": {
    "ExecuteTime": {
     "end_time": "2025-07-18T05:17:54.004003Z",
     "start_time": "2025-07-18T05:17:53.997029Z"
    }
   },
   "source": [
    "if not os.path.exists('./data/nhl/nhl_players_metadata.csv'):\n",
    "    # Collect players from 2000-2025 season\n",
    "    for i in range(0, 25):\n",
    "        season = f'20{str(i).zfill(2)}-20{str(i + 1).zfill(2)}'\n",
    "        print(f'Scraping {season}')\n",
    "        nhl_players = ep.get_season_roster(\"nhl\", season)\n",
    "        nhl_players.to_csv(f'./data/nhl/players/nhl_players_{season}.csv', index=False, encoding='utf-8-sig')\n",
    "        print(f'Finished scraping {season}')\n",
    "else:\n",
    "    print('NHL players metadata already exists. Skipping scraping.')"
   ],
   "outputs": [
    {
     "name": "stdout",
     "output_type": "stream",
     "text": [
      "NHL players metadata already exists. Skipping scraping.\n"
     ]
    }
   ],
   "execution_count": 2
  },
  {
   "cell_type": "code",
   "id": "c42101a4c478a8b2",
   "metadata": {
    "ExecuteTime": {
     "end_time": "2025-07-18T05:17:54.170539Z",
     "start_time": "2025-07-18T05:17:54.153850Z"
    }
   },
   "source": [
    "if not os.path.exists('./data/nhl/nhl_players_metadata.csv'):\n",
    "    # Collect players' metadata from 2000-2025 season\n",
    "    nhl_players_metadata = pd.DataFrame()\n",
    "    for i in range(0, 25):\n",
    "        season = f'20{str(i).zfill(2)}-20{str(i + 1).zfill(2)}'\n",
    "        nhl_players = pd.read_csv(f'./data/nhl/players/nhl_players_{season}.csv')\n",
    "        nhl_players_metadata = pd.concat([nhl_players_metadata, ep.get_players_metadata(nhl_players)]).reset_index(drop=True)\n",
    "        # Remove duplicates\n",
    "        nhl_players_metadata = nhl_players_metadata.drop_duplicates(subset=['playername']).reset_index(drop=True)\n",
    "        print(f'Finished Merging Metadata for {season}')\n",
    "else:\n",
    "    print('NHL players metadata already exists. Skipping merging.')\n",
    "    nhl_players_metadata = pd.read_csv('./data/nhl/nhl_players_metadata.csv')\n"
   ],
   "outputs": [
    {
     "name": "stdout",
     "output_type": "stream",
     "text": [
      "NHL players metadata already exists. Skipping merging.\n"
     ]
    }
   ],
   "execution_count": 3
  },
  {
   "cell_type": "markdown",
   "id": "65ed007417c4be3b",
   "metadata": {},
   "source": "\"### Collect Stats for Each Player from 2000-2025 CSV file"
  },
  {
   "cell_type": "code",
   "id": "7478da7bf967764e",
   "metadata": {
    "ExecuteTime": {
     "end_time": "2025-07-18T05:17:54.901465Z",
     "start_time": "2025-07-18T05:17:54.897397Z"
    }
   },
   "source": [
    "# Define output file\n",
    "output_path = './data/nhl/stats/nhl_players_stats.csv'"
   ],
   "outputs": [],
   "execution_count": 4
  },
  {
   "cell_type": "code",
   "id": "59c6592eb81f73ce",
   "metadata": {
    "ExecuteTime": {
     "end_time": "2025-07-18T05:17:55.318259Z",
     "start_time": "2025-07-18T05:17:55.311062Z"
    }
   },
   "source": [
    "def get_players_stats_by_batch(players_to_scrape):\n",
    "    curr_len = len(players_to_scrape)\n",
    "    fail_count = 0\n",
    "\n",
    "    for i in range(curr_len):\n",
    "        player_metadata = players_to_scrape.iloc[i]\n",
    "        player_name = player_metadata['playername']\n",
    "        player_url = player_metadata['link']\n",
    "        print(f\"\\nCollecting stats for {player_name} at {player_url}\")\n",
    "\n",
    "        try:\n",
    "            player_stats = ep.get_player_stats(player_metadata)\n",
    "\n",
    "            # Write to CSV file\n",
    "            if os.path.exists(output_path):\n",
    "                player_stats.to_csv(output_path, mode='a', header=False, index=False, encoding='utf-8-sig')\n",
    "            else:\n",
    "                player_stats.to_csv(output_path, index=False, encoding='utf-8-sig')\n",
    "            print(f'Successfully scraped stats for {player_name}')\n",
    "            \n",
    "            # Print Fail Rate\n",
    "            print(f'Failed rate: {fail_count / (i + 1):.2f}')\n",
    "\n",
    "            # Add random sleep to prevent getting blocked\n",
    "            if i < curr_len - 1:\n",
    "                sleep_time = random.uniform(10, 180)\n",
    "                print(f\"Sleep for {sleep_time / 60:.2f} minutes to prevent getting blocked\")\n",
    "                time.sleep(sleep_time) \n",
    "        except Exception as e:\n",
    "            print(f\"Failed to get stats for {player_name}: {e}\")\n",
    "\n",
    "            fail_count += 1\n",
    "\n",
    "            if i < curr_len - 1:\n",
    "                # Sleep for 15-60 seconds before trying the next player\n",
    "                sleep_time = random.uniform(15, 60)\n",
    "                print(f\"Sleeping for {sleep_time / 60:.2f} seconds before trying the next player\")\n",
    "                time.sleep(sleep_time)"
   ],
   "outputs": [],
   "execution_count": 5
  },
  {
   "cell_type": "markdown",
   "id": "1731e698ecd6c25f",
   "metadata": {},
   "source": [
    "### Fetch Players' Stats by Batch"
   ]
  },
  {
   "metadata": {},
   "cell_type": "code",
   "outputs": [],
   "execution_count": null,
   "source": [
    "# Scrape players from 340-350\n",
    "curr_batch_metadata = nhl_players_metadata[340:350]\n",
    "get_players_stats_by_batch(curr_batch_metadata)"
   ],
   "id": "bc6f53685b5311f0"
  },
  {
   "cell_type": "code",
   "id": "c3d0b455df9632c2",
   "metadata": {
    "ExecuteTime": {
     "end_time": "2025-07-18T04:48:22.696638Z",
     "start_time": "2025-07-18T04:41:17.428354Z"
    }
   },
   "source": [
    "# Scrape players from 350-400\n",
    "curr_batch_metadata = nhl_players_metadata[350:400]\n",
    "get_players_stats_by_batch(curr_batch_metadata)"
   ],
   "outputs": [
    {
     "name": "stdout",
     "output_type": "stream",
     "text": [
      "\n",
      "Collecting stats for Hans Jonsson at https://www.eliteprospects.com/player/715/hans-jonsson\n",
      "Collecting Regular Season + Postseason stats for Hans Jonsson at https://www.eliteprospects.com/player/715/hans-jonsson\n",
      "Successfully scraped stats for Hans Jonsson\n",
      "Failed rate: 0.00\n",
      "Sleep for 2.24 minutes to prevent getting blocked\n",
      "\n",
      "Collecting stats for Dan Boyle at https://www.eliteprospects.com/player/5369/dan-boyle\n",
      "Collecting Regular Season + Postseason stats for Dan Boyle at https://www.eliteprospects.com/player/5369/dan-boyle\n",
      "Successfully scraped stats for Dan Boyle\n",
      "Failed rate: 0.00\n",
      "Sleep for 1.89 minutes to prevent getting blocked\n",
      "\n",
      "Collecting stats for Dmitri Kalinin at https://www.eliteprospects.com/player/8673/dmitri-kalinin\n",
      "Collecting Regular Season + Postseason stats for Dmitri Kalinin at https://www.eliteprospects.com/player/8673/dmitri-kalinin\n",
      "Successfully scraped stats for Dmitri Kalinin\n",
      "Failed rate: 0.00\n",
      "Sleep for 0.63 minutes to prevent getting blocked\n",
      "\n",
      "Collecting stats for Wayne Primeau at https://www.eliteprospects.com/player/8575/wayne-primeau\n",
      "Collecting Regular Season + Postseason stats for Wayne Primeau at https://www.eliteprospects.com/player/8575/wayne-primeau\n",
      "Successfully scraped stats for Wayne Primeau\n",
      "Failed rate: 0.00\n",
      "Sleep for 0.95 minutes to prevent getting blocked\n",
      "\n",
      "Collecting stats for Scott Mellanby at https://www.eliteprospects.com/player/8570/scott-mellanby\n",
      "Collecting Regular Season + Postseason stats for Scott Mellanby at https://www.eliteprospects.com/player/8570/scott-mellanby\n",
      "Successfully scraped stats for Scott Mellanby\n",
      "Failed rate: 0.00\n"
     ]
    }
   ],
   "execution_count": 9
  },
  {
   "metadata": {},
   "cell_type": "code",
   "outputs": [],
   "execution_count": null,
   "source": [
    "# Scrape players from 400-450\n",
    "curr_batch_metadata = nhl_players_metadata[400:450]\n",
    "get_players_stats_by_batch(curr_batch_metadata)"
   ],
   "id": "fbbbe6e624205247"
  },
  {
   "metadata": {},
   "cell_type": "code",
   "outputs": [],
   "execution_count": null,
   "source": [
    "# Scrape players from 450-500\n",
    "curr_batch_metadata = nhl_players_metadata[450:500]\n",
    "get_players_stats_by_batch(curr_batch_metadata)"
   ],
   "id": "5e6ef84c4a366a0e"
  },
  {
   "metadata": {},
   "cell_type": "code",
   "outputs": [],
   "execution_count": null,
   "source": [
    "# Scrape players from 500-600\n",
    "curr_batch_metadata = nhl_players_metadata[500:600]\n",
    "get_players_stats_by_batch(curr_batch_metadata)"
   ],
   "id": "e6eb0fea1608d04d"
  },
  {
   "cell_type": "markdown",
   "id": "18421cd7f418d205",
   "metadata": {},
   "source": [
    "### Fetch Players' Stats for Players Not Scraped"
   ]
  },
  {
   "cell_type": "code",
   "id": "1cc44f6ef5201a07",
   "metadata": {
    "ExecuteTime": {
     "end_time": "2025-07-18T05:36:31.064556Z",
     "start_time": "2025-07-18T05:36:31.034122Z"
    }
   },
   "source": [
    "# Get unique players from nhl_players_stats.csv\n",
    "if os.path.exists(output_path):\n",
    "    nhl_players_stats = pd.read_csv(output_path)\n",
    "    unique_players = set(nhl_players_stats['playername'].unique())\n",
    "else:\n",
    "    unique_players = set()"
   ],
   "outputs": [],
   "execution_count": 13
  },
  {
   "cell_type": "code",
   "id": "8658556a6ca7cb14",
   "metadata": {
    "ExecuteTime": {
     "end_time": "2025-07-18T05:36:31.851704Z",
     "start_time": "2025-07-18T05:36:31.842823Z"
    }
   },
   "source": [
    "# Find players in nhl_players_metadata 0-600 not in unique_players\n",
    "subset = nhl_players_metadata[0:340]\n",
    "players_to_scrape = subset[~subset['playername'].isin(unique_players)].reset_index(drop=True)\n",
    "players_to_scrape"
   ],
   "outputs": [
    {
     "data": {
      "text/plain": [
       "Empty DataFrame\n",
       "Columns: [playername, fw_def, link]\n",
       "Index: []"
      ],
      "text/html": [
       "<div>\n",
       "<style scoped>\n",
       "    .dataframe tbody tr th:only-of-type {\n",
       "        vertical-align: middle;\n",
       "    }\n",
       "\n",
       "    .dataframe tbody tr th {\n",
       "        vertical-align: top;\n",
       "    }\n",
       "\n",
       "    .dataframe thead th {\n",
       "        text-align: right;\n",
       "    }\n",
       "</style>\n",
       "<table border=\"1\" class=\"dataframe\">\n",
       "  <thead>\n",
       "    <tr style=\"text-align: right;\">\n",
       "      <th></th>\n",
       "      <th>playername</th>\n",
       "      <th>fw_def</th>\n",
       "      <th>link</th>\n",
       "    </tr>\n",
       "  </thead>\n",
       "  <tbody>\n",
       "  </tbody>\n",
       "</table>\n",
       "</div>"
      ]
     },
     "execution_count": 14,
     "metadata": {},
     "output_type": "execute_result"
    }
   ],
   "execution_count": 14
  },
  {
   "cell_type": "code",
   "id": "9b18088ba9607cb0",
   "metadata": {
    "ExecuteTime": {
     "end_time": "2025-07-18T05:30:42.708993Z",
     "start_time": "2025-07-18T05:23:18.084242Z"
    }
   },
   "source": [
    "curr_len = len(players_to_scrape)\n",
    "\n",
    "for i in range(curr_len):\n",
    "    player_metadata = players_to_scrape.iloc[i]\n",
    "    player_name = player_metadata['playername']\n",
    "    player_url = player_metadata['link']\n",
    "    print(f\"\\nCollecting stats for {player_name} at {player_url}\")\n",
    "\n",
    "    try:\n",
    "        player_stats = ep.get_player_stats(player_metadata)\n",
    "\n",
    "        # Write to CSV file\n",
    "        if os.path.exists(output_path):\n",
    "            player_stats.to_csv(output_path, mode='a', header=False, index=False, encoding='utf-8-sig')\n",
    "        else:\n",
    "            player_stats.to_csv(output_path, index=False, encoding='utf-8-sig')\n",
    "        print(f'Successfully scraped stats for {player_name}')\n",
    "\n",
    "        # Add random sleep to prevent getting blocked\n",
    "        if i < curr_len - 1:\n",
    "            sleep_time = random.uniform(10, 180)\n",
    "            print(f\"Sleep for {sleep_time / 60:.2f} minutes to prevent getting blocked\")\n",
    "            time.sleep(sleep_time)\n",
    "    except Exception as e:\n",
    "        print(f\"Failed to get stats for {player_name}: {e}\")\n",
    "\n",
    "\n",
    "        if i < curr_len - 1:\n",
    "            # Sleep for 15-60 seconds before trying the next player\n",
    "            sleep_time = random.uniform(15, 60)\n",
    "            print(f\"Sleeping for {sleep_time / 60:.2f} seconds before trying the next player\")\n",
    "            time.sleep(sleep_time)"
   ],
   "outputs": [
    {
     "name": "stdout",
     "output_type": "stream",
     "text": [
      "Collecting stats for Larry Murphy at https://www.eliteprospects.com/player/21498/larry-murphy\n",
      "Collecting Regular Season + Postseason stats for Larry Murphy at https://www.eliteprospects.com/player/21498/larry-murphy\n",
      "Successfully scraped stats for Larry Murphy\n",
      "\n",
      "Sleep for 2.24 minutes to prevent getting blocked\n",
      "Collecting stats for Tie Domi at https://www.eliteprospects.com/player/9138/tie-domi\n",
      "Collecting Regular Season + Postseason stats for Tie Domi at https://www.eliteprospects.com/player/9138/tie-domi\n",
      "Successfully scraped stats for Tie Domi\n",
      "\n",
      "Sleep for 0.97 minutes to prevent getting blocked\n",
      "Collecting stats for Oleg Kvasha at https://www.eliteprospects.com/player/8587/oleg-kvasha\n",
      "Collecting Regular Season + Postseason stats for Oleg Kvasha at https://www.eliteprospects.com/player/8587/oleg-kvasha\n",
      "Successfully scraped stats for Oleg Kvasha\n",
      "\n",
      "Sleep for 1.12 minutes to prevent getting blocked\n",
      "Collecting stats for Chris Simon at https://www.eliteprospects.com/player/8882/chris-simon\n",
      "Collecting Regular Season + Postseason stats for Chris Simon at https://www.eliteprospects.com/player/8882/chris-simon\n",
      "Successfully scraped stats for Chris Simon\n",
      "\n",
      "Sleep for 1.52 minutes to prevent getting blocked\n",
      "Collecting stats for Nils Ekman at https://www.eliteprospects.com/player/75/nils-ekman\n",
      "Collecting Regular Season + Postseason stats for Nils Ekman at https://www.eliteprospects.com/player/75/nils-ekman\n",
      "Successfully scraped stats for Nils Ekman\n",
      "\n"
     ]
    }
   ],
   "execution_count": 12
  },
  {
   "cell_type": "code",
   "execution_count": null,
   "id": "7b3a3f4db401f286",
   "metadata": {},
   "outputs": [],
   "source": []
  }
 ],
 "metadata": {
  "kernelspec": {
   "display_name": "Python 3 (ipykernel)",
   "language": "python",
   "name": "python3"
  },
  "language_info": {
   "codemirror_mode": {
    "name": "ipython",
    "version": 3
   },
   "file_extension": ".py",
   "mimetype": "text/x-python",
   "name": "python",
   "nbconvert_exporter": "python",
   "pygments_lexer": "ipython3",
   "version": "3.12.6"
  }
 },
 "nbformat": 4,
 "nbformat_minor": 5
}
