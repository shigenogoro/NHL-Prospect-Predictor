{
 "cells": [
  {
   "cell_type": "markdown",
   "id": "61eed713b68d6202",
   "metadata": {},
   "source": [
    "# NHL Stats Preparation\n",
    "## Collecting NHL Players' Stats from EliteProspects\n",
    "This step gathers player performance data across leagues and seasons for downstream NHL prediction.\n",
    "\n",
    "- Collect league-wide player stats for a given season from\n",
    "https://eliteprospects.com/league/{league}/stats/{season}?page={n}\n",
    "\n",
    "- Extract metadata, including individual player profile links.\n",
    "\n",
    "- Build a unique player list from seasons 2000–2025 by storing profile links in a set.\n",
    "\n",
    "- Scrape each player’s page to retrieve their first 5 years of NHL stats, filtered by seasons where they played more than 30 games.\n",
    "\n",
    "- Gather pre-NHL stats for each player (junior, college, international, etc.)."
   ]
  },
  {
   "cell_type": "markdown",
   "id": "ff38163b29e8198d",
   "metadata": {},
   "source": [
    "### Import Libraries"
   ]
  },
  {
   "cell_type": "code",
   "id": "1670e1470bfca24c",
   "metadata": {
    "ExecuteTime": {
     "end_time": "2025-07-16T19:42:13.854031Z",
     "start_time": "2025-07-16T19:42:12.945627Z"
    }
   },
   "source": [
    "import eliteprospects_scraper_api as ep\n",
    "import pandas as pd\n",
    "import os\n",
    "import time\n",
    "import random"
   ],
   "outputs": [],
   "execution_count": 1
  },
  {
   "cell_type": "markdown",
   "id": "1a95a8349f6370e8",
   "metadata": {},
   "source": [
    "### Collecting NHL Players' Stats from EliteProspects\n"
   ]
  },
  {
   "cell_type": "code",
   "id": "103ad94c73c9cfb5",
   "metadata": {
    "ExecuteTime": {
     "end_time": "2025-07-16T19:42:14.693391Z",
     "start_time": "2025-07-16T19:42:14.687394Z"
    }
   },
   "source": [
    "if not os.path.exists('./data/nhl/nhl_players_metadata.csv'):\n",
    "    # Collect players from 2000-2025 season\n",
    "    for i in range(0, 25):\n",
    "        season = f'20{str(i).zfill(2)}-20{str(i + 1).zfill(2)}'\n",
    "        print(f'Scraping {season}')\n",
    "        nhl_players = ep.get_season_roster(\"nhl\", season)\n",
    "        nhl_players.to_csv(f'./data/nhl/players/nhl_players_{season}.csv', index=False, encoding='utf-8-sig')\n",
    "        print(f'Finished scraping {season}')\n",
    "else:\n",
    "    print('NHL players metadata already exists. Skipping scraping.')"
   ],
   "outputs": [
    {
     "name": "stdout",
     "output_type": "stream",
     "text": [
      "NHL players metadata already exists. Skipping scraping.\n"
     ]
    }
   ],
   "execution_count": 2
  },
  {
   "cell_type": "code",
   "id": "c42101a4c478a8b2",
   "metadata": {
    "ExecuteTime": {
     "end_time": "2025-07-16T19:42:16.181538Z",
     "start_time": "2025-07-16T19:42:16.164777Z"
    }
   },
   "source": [
    "if not os.path.exists('./data/nhl/nhl_players_metadata.csv'):\n",
    "    # Collect players' metadata from 2000-2025 season\n",
    "    nhl_players_metadata = pd.DataFrame()\n",
    "    for i in range(0, 25):\n",
    "        season = f'20{str(i).zfill(2)}-20{str(i + 1).zfill(2)}'\n",
    "        nhl_players = pd.read_csv(f'./data/nhl/players/nhl_players_{season}.csv')\n",
    "        nhl_players_metadata = pd.concat([nhl_players_metadata, ep.get_players_metadata(nhl_players)]).reset_index(drop=True)\n",
    "        # Remove duplicates\n",
    "        nhl_players_metadata = nhl_players_metadata.drop_duplicates(subset=['playername']).reset_index(drop=True)\n",
    "        print(f'Finished Merging Metadata for {season}')\n",
    "else:\n",
    "    print('NHL players metadata already exists. Skipping merging.')\n",
    "    nhl_players_metadata = pd.read_csv('./data/nhl/nhl_players_metadata.csv')\n"
   ],
   "outputs": [
    {
     "name": "stdout",
     "output_type": "stream",
     "text": [
      "NHL players metadata already exists. Skipping merging.\n"
     ]
    }
   ],
   "execution_count": 3
  },
  {
   "cell_type": "code",
   "id": "17f07bfdc6935dad",
   "metadata": {
    "ExecuteTime": {
     "end_time": "2025-07-16T19:42:17.998898Z",
     "start_time": "2025-07-16T19:42:17.985143Z"
    }
   },
   "source": [
    "nhl_players_metadata"
   ],
   "outputs": [
    {
     "data": {
      "text/plain": [
       "              playername fw_def  \\\n",
       "0           Jaromír Jágr     FW   \n",
       "1              Joe Sakic     FW   \n",
       "2           Patrik Elias     FW   \n",
       "3         Alexei Kovalev     FW   \n",
       "4          Jason Allison     FW   \n",
       "...                  ...    ...   \n",
       "3923   Nikita Grebyonkin     FW   \n",
       "3924        Noah Östlund     FW   \n",
       "3925      Matt Stienburg     FW   \n",
       "3926  Nikita Prishchepov     FW   \n",
       "3927         Jere Innala     FW   \n",
       "\n",
       "                                                   link  \n",
       "0     https://www.eliteprospects.com/player/8627/jar...  \n",
       "1     https://www.eliteprospects.com/player/8862/joe...  \n",
       "2     https://www.eliteprospects.com/player/8698/pat...  \n",
       "3     https://www.eliteprospects.com/player/8670/ale...  \n",
       "4     https://www.eliteprospects.com/player/9064/jas...  \n",
       "...                                                 ...  \n",
       "3923  https://www.eliteprospects.com/player/652832/n...  \n",
       "3924  https://www.eliteprospects.com/player/535699/n...  \n",
       "3925  https://www.eliteprospects.com/player/267112/m...  \n",
       "3926  https://www.eliteprospects.com/player/691679/n...  \n",
       "3927  https://www.eliteprospects.com/player/277079/j...  \n",
       "\n",
       "[3928 rows x 3 columns]"
      ],
      "text/html": [
       "<div>\n",
       "<style scoped>\n",
       "    .dataframe tbody tr th:only-of-type {\n",
       "        vertical-align: middle;\n",
       "    }\n",
       "\n",
       "    .dataframe tbody tr th {\n",
       "        vertical-align: top;\n",
       "    }\n",
       "\n",
       "    .dataframe thead th {\n",
       "        text-align: right;\n",
       "    }\n",
       "</style>\n",
       "<table border=\"1\" class=\"dataframe\">\n",
       "  <thead>\n",
       "    <tr style=\"text-align: right;\">\n",
       "      <th></th>\n",
       "      <th>playername</th>\n",
       "      <th>fw_def</th>\n",
       "      <th>link</th>\n",
       "    </tr>\n",
       "  </thead>\n",
       "  <tbody>\n",
       "    <tr>\n",
       "      <th>0</th>\n",
       "      <td>Jaromír Jágr</td>\n",
       "      <td>FW</td>\n",
       "      <td>https://www.eliteprospects.com/player/8627/jar...</td>\n",
       "    </tr>\n",
       "    <tr>\n",
       "      <th>1</th>\n",
       "      <td>Joe Sakic</td>\n",
       "      <td>FW</td>\n",
       "      <td>https://www.eliteprospects.com/player/8862/joe...</td>\n",
       "    </tr>\n",
       "    <tr>\n",
       "      <th>2</th>\n",
       "      <td>Patrik Elias</td>\n",
       "      <td>FW</td>\n",
       "      <td>https://www.eliteprospects.com/player/8698/pat...</td>\n",
       "    </tr>\n",
       "    <tr>\n",
       "      <th>3</th>\n",
       "      <td>Alexei Kovalev</td>\n",
       "      <td>FW</td>\n",
       "      <td>https://www.eliteprospects.com/player/8670/ale...</td>\n",
       "    </tr>\n",
       "    <tr>\n",
       "      <th>4</th>\n",
       "      <td>Jason Allison</td>\n",
       "      <td>FW</td>\n",
       "      <td>https://www.eliteprospects.com/player/9064/jas...</td>\n",
       "    </tr>\n",
       "    <tr>\n",
       "      <th>...</th>\n",
       "      <td>...</td>\n",
       "      <td>...</td>\n",
       "      <td>...</td>\n",
       "    </tr>\n",
       "    <tr>\n",
       "      <th>3923</th>\n",
       "      <td>Nikita Grebyonkin</td>\n",
       "      <td>FW</td>\n",
       "      <td>https://www.eliteprospects.com/player/652832/n...</td>\n",
       "    </tr>\n",
       "    <tr>\n",
       "      <th>3924</th>\n",
       "      <td>Noah Östlund</td>\n",
       "      <td>FW</td>\n",
       "      <td>https://www.eliteprospects.com/player/535699/n...</td>\n",
       "    </tr>\n",
       "    <tr>\n",
       "      <th>3925</th>\n",
       "      <td>Matt Stienburg</td>\n",
       "      <td>FW</td>\n",
       "      <td>https://www.eliteprospects.com/player/267112/m...</td>\n",
       "    </tr>\n",
       "    <tr>\n",
       "      <th>3926</th>\n",
       "      <td>Nikita Prishchepov</td>\n",
       "      <td>FW</td>\n",
       "      <td>https://www.eliteprospects.com/player/691679/n...</td>\n",
       "    </tr>\n",
       "    <tr>\n",
       "      <th>3927</th>\n",
       "      <td>Jere Innala</td>\n",
       "      <td>FW</td>\n",
       "      <td>https://www.eliteprospects.com/player/277079/j...</td>\n",
       "    </tr>\n",
       "  </tbody>\n",
       "</table>\n",
       "<p>3928 rows × 3 columns</p>\n",
       "</div>"
      ]
     },
     "execution_count": 4,
     "metadata": {},
     "output_type": "execute_result"
    }
   ],
   "execution_count": 4
  },
  {
   "cell_type": "markdown",
   "id": "65ed007417c4be3b",
   "metadata": {},
   "source": [
    "### Collect Stats for Each Player from 2000-2025 CSV file"
   ]
  },
  {
   "cell_type": "code",
   "id": "7478da7bf967764e",
   "metadata": {
    "ExecuteTime": {
     "end_time": "2025-07-16T19:42:19.935163Z",
     "start_time": "2025-07-16T19:42:19.931888Z"
    }
   },
   "source": [
    "# Define output file\n",
    "output_path = './data/nhl/stats/nhl_players_stats.csv'\n",
    "failed_path = './data/nhl/stats/failed_players.csv'"
   ],
   "outputs": [],
   "execution_count": 5
  },
  {
   "cell_type": "code",
   "id": "faa564250b2208ca",
   "metadata": {
    "ExecuteTime": {
     "end_time": "2025-07-16T19:42:21.535377Z",
     "start_time": "2025-07-16T19:42:21.528887Z"
    }
   },
   "source": [
    "# Define function to get player stats with retries and start, end\n",
    "# Use ep.get_single_player_stats()\n",
    "\n",
    "def get_player_stats_with_retries(start = 0, end = len(nhl_players_metadata), retries = 3):\n",
    "    if end > len(nhl_players_metadata):\n",
    "        end = len(nhl_players_metadata)\n",
    "    print(f'Collecting stats for players {start} to {end}')\n",
    "\n",
    "    # Delete files if it's the first player\n",
    "    if start == 0:\n",
    "        if os.path.exists(output_path):\n",
    "            os.remove(output_path)\n",
    "            print(f'Deleted {output_path} to start fresh')\n",
    "        if os.path.exists(failed_path):\n",
    "            os.remove(failed_path)\n",
    "            print(f'Deleted {failed_path} to start fresh')\n",
    "\n",
    "    for i in range(start, end):\n",
    "        # Print divider for every 10 players\n",
    "        if i % 10 == 0:\n",
    "            print('----------------------------------------------------------------')\n",
    "\n",
    "        # Get player metadata\n",
    "        player_metadata = nhl_players_metadata.iloc[i]\n",
    "        player_name = player_metadata['playername']\n",
    "        player_url = player_metadata['link']\n",
    "\n",
    "        for attempt in range(retries):\n",
    "            try:\n",
    "                print(f\"Collecting stats for {player_name} at {player_url} (Attempt {attempt + 1})\")\n",
    "                player_stats = ep.get_single_player_stats(player_metadata)\n",
    "\n",
    "                # Write player_stats to CSV\n",
    "                if os.path.exists(output_path):\n",
    "                    player_stats.to_csv(output_path, mode='a', header=False, index=False, encoding='utf-8-sig')\n",
    "                else:\n",
    "                    player_stats.to_csv(output_path, index=False, encoding='utf-8-sig')\n",
    "                print(f'Successfully scraped stats for {player_name}')\n",
    "                break\n",
    "            except Exception as e:\n",
    "                print(f\"Attempt {attempt + 1} failed for {player_metadata['playername']}: {e}\")\n",
    "                if attempt < retries - 1:\n",
    "                    time.sleep(random.uniform(1, 3))  # Wait before retrying\n",
    "                else:\n",
    "                    # Log failed players to a separate CSV file\n",
    "                    if os.path.exists(failed_path):\n",
    "                        player_metadata.to_csv(failed_path, mode='a', header=False, index=False, encoding='utf-8-sig')\n",
    "                    else:\n",
    "                        player_metadata.to_csv(failed_path, index=False, encoding='utf-8-sig')\n",
    "                    print(f'Failed to scrape stats for {player_name} after {retries} attempts')\n",
    "\n",
    "        # Sleep for 1-10 seconds before scraping the next player\n",
    "        time.sleep(random.uniform(1, 10))\n"
   ],
   "outputs": [],
   "execution_count": 6
  },
  {
   "cell_type": "code",
   "id": "a8fbe6a0f40b8be7",
   "metadata": {
    "ExecuteTime": {
     "end_time": "2025-07-16T19:57:37.781181400Z",
     "start_time": "2025-07-16T19:42:24.706831Z"
    }
   },
   "source": [
    "# Process the first 100 players in batches of 10 for testing purposes\n",
    "for batch_start in range(0, 100, 10):\n",
    "    get_player_stats_with_retries(batch_start, batch_start + 10)\n",
    "    print(f'Finished scraping stats for players {batch_start} to {batch_start + 10}')\n",
    "    time_sleep = random.uniform(300, 600)\n",
    "    time_sleep_in_minutes = time_sleep / 60\n",
    "    print(f\"Sleeping for {time_sleep_in_minutes:.2f} minutes before next batch...\")\n",
    "    time.sleep(time_sleep)"
   ],
   "outputs": [
    {
     "name": "stdout",
     "output_type": "stream",
     "text": [
      "Collecting stats for players 0 to 10\n",
      "Deleted ./data/nhl/stats/nhl_players_stats.csv to start fresh\n",
      "----------------------------------------------------------------\n",
      "Collecting stats for Jaromír Jágr at https://www.eliteprospects.com/player/8627/jaromir-jagr (Attempt 1)\n",
      "Collecting regular season stats from https://www.eliteprospects.com/player/8627/jaromir-jagr\n",
      "Collecting postseason stats from https://www.eliteprospects.com/player/8627/jaromir-jagr\n",
      "Successfully scraped stats for Jaromír Jágr\n",
      "Collecting stats for Joe Sakic at https://www.eliteprospects.com/player/8862/joe-sakic (Attempt 1)\n",
      "Collecting regular season stats from https://www.eliteprospects.com/player/8862/joe-sakic\n",
      "Collecting postseason stats from https://www.eliteprospects.com/player/8862/joe-sakic\n",
      "Successfully scraped stats for Joe Sakic\n",
      "Collecting stats for Patrik Elias at https://www.eliteprospects.com/player/8698/patrik-elias (Attempt 1)\n",
      "Collecting regular season stats from https://www.eliteprospects.com/player/8698/patrik-elias\n",
      "Collecting postseason stats from https://www.eliteprospects.com/player/8698/patrik-elias\n",
      "Successfully scraped stats for Patrik Elias\n",
      "Collecting stats for Alexei Kovalev at https://www.eliteprospects.com/player/8670/alexei-kovalev (Attempt 1)\n",
      "Collecting regular season stats from https://www.eliteprospects.com/player/8670/alexei-kovalev\n",
      "Collecting postseason stats from https://www.eliteprospects.com/player/8670/alexei-kovalev\n",
      "Successfully scraped stats for Alexei Kovalev\n",
      "Collecting stats for Jason Allison at https://www.eliteprospects.com/player/9064/jason-allison (Attempt 1)\n",
      "Collecting regular season stats from https://www.eliteprospects.com/player/9064/jason-allison\n",
      "Collecting postseason stats from https://www.eliteprospects.com/player/9064/jason-allison\n",
      "Successfully scraped stats for Jason Allison\n",
      "Collecting stats for Martin Straka at https://www.eliteprospects.com/player/8689/martin-straka (Attempt 1)\n",
      "Collecting regular season stats from https://www.eliteprospects.com/player/8689/martin-straka\n",
      "Collecting postseason stats from https://www.eliteprospects.com/player/8689/martin-straka\n",
      "Successfully scraped stats for Martin Straka\n",
      "Collecting stats for Pavel Bure at https://www.eliteprospects.com/player/16140/pavel-bure (Attempt 1)\n",
      "Collecting regular season stats from https://www.eliteprospects.com/player/16140/pavel-bure\n",
      "Collecting postseason stats from https://www.eliteprospects.com/player/16140/pavel-bure\n",
      "Successfully scraped stats for Pavel Bure\n",
      "Collecting stats for Doug Weight at https://www.eliteprospects.com/player/8733/doug-weight (Attempt 1)\n",
      "Collecting regular season stats from https://www.eliteprospects.com/player/8733/doug-weight\n",
      "Collecting postseason stats from https://www.eliteprospects.com/player/8733/doug-weight\n",
      "Successfully scraped stats for Doug Weight\n",
      "Collecting stats for Zigmund Pálffy at https://www.eliteprospects.com/player/12627/zigmund-palffy (Attempt 1)\n",
      "Collecting regular season stats from https://www.eliteprospects.com/player/12627/zigmund-palffy\n",
      "Collecting postseason stats from https://www.eliteprospects.com/player/12627/zigmund-palffy\n",
      "Successfully scraped stats for Zigmund Pálffy\n",
      "Collecting stats for Peter Forsberg at https://www.eliteprospects.com/player/710/peter-forsberg (Attempt 1)\n",
      "Collecting regular season stats from https://www.eliteprospects.com/player/710/peter-forsberg\n",
      "Collecting postseason stats from https://www.eliteprospects.com/player/710/peter-forsberg\n",
      "Successfully scraped stats for Peter Forsberg\n",
      "Finished scraping stats for players 0 to 10\n"
     ]
    }
   ],
   "execution_count": null
  },
  {
   "metadata": {},
   "cell_type": "code",
   "outputs": [],
   "execution_count": null,
   "source": [
    "def get_player_stats_with_batch_size(start, end, batch_size=10):\n",
    "    for batch_start in range(start, end, batch_size):\n",
    "        get_player_stats_with_retries(batch_start, batch_start + batch_size)\n",
    "        print(f'Finished scraping stats for players {batch_start} to {batch_start + batch_size}')\n",
    "        time_sleep = random.uniform(300, 600)\n",
    "        time_sleep_in_minutes = time_sleep / 60\n",
    "        print(f\"Sleeping for {time_sleep_in_minutes:.2f} minutes before next batch...\")\n",
    "        time.sleep(time_sleep)\n"
   ],
   "id": "8f2362bf4a0cc62"
  },
  {
   "metadata": {},
   "cell_type": "code",
   "outputs": [],
   "execution_count": null,
   "source": [
    "# Scrape in batches of 100-500 players\n",
    "get_player_stats_with_batch_size(100, 300, 10)"
   ],
   "id": "903b9420367b5f9f"
  },
  {
   "metadata": {},
   "cell_type": "code",
   "outputs": [],
   "execution_count": null,
   "source": "",
   "id": "97429e5811be6f5a"
  }
 ],
 "metadata": {
  "kernelspec": {
   "display_name": "Python 3 (ipykernel)",
   "language": "python",
   "name": "python3"
  },
  "language_info": {
   "codemirror_mode": {
    "name": "ipython",
    "version": 3
   },
   "file_extension": ".py",
   "mimetype": "text/x-python",
   "name": "python",
   "nbconvert_exporter": "python",
   "pygments_lexer": "ipython3",
   "version": "3.12.6"
  }
 },
 "nbformat": 4,
 "nbformat_minor": 5
}
