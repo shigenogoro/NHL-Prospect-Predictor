{
 "cells": [
  {
   "cell_type": "code",
   "id": "initial_id",
   "metadata": {
    "collapsed": true,
    "ExecuteTime": {
     "end_time": "2025-07-04T15:54:24.171055Z",
     "start_time": "2025-07-04T15:54:23.477749Z"
    }
   },
   "source": "import eliteprospects_scraper_api as ep",
   "outputs": [],
   "execution_count": 1
  },
  {
   "metadata": {
    "ExecuteTime": {
     "end_time": "2025-07-04T15:54:25.162729Z",
     "start_time": "2025-07-04T15:54:24.811639Z"
    }
   },
   "cell_type": "code",
   "source": "num_pages = ep.getNumberOfPages('https://www.eliteprospects.com/league/ncaa/stats/2024-2025')",
   "id": "e4050fcb49128306",
   "outputs": [
    {
     "name": "stdout",
     "output_type": "stream",
     "text": [
      "total number of players found = 1629\n",
      "total number of pages = 17\n"
     ]
    }
   ],
   "execution_count": 2
  },
  {
   "metadata": {
    "ExecuteTime": {
     "end_time": "2025-07-04T15:55:40.807495Z",
     "start_time": "2025-07-04T15:54:26.616858Z"
    }
   },
   "cell_type": "code",
   "source": "ncaa_players_2425 = ep.getSeasonRoster(\"ncaa\", \"2024-2025\")",
   "id": "fb4a4c587241fe7c",
   "outputs": [
    {
     "name": "stdout",
     "output_type": "stream",
     "text": [
      "total number of players found = 1629\n",
      "total number of pages = 17\n",
      "Collecting data from https://www.eliteprospects.com/league/ncaa/stats/2024-2025/?page=1\n",
      "Collecting data from https://www.eliteprospects.com/league/ncaa/stats/2024-2025/?page=2\n",
      "Collecting data from https://www.eliteprospects.com/league/ncaa/stats/2024-2025/?page=3\n",
      "Collecting data from https://www.eliteprospects.com/league/ncaa/stats/2024-2025/?page=4\n",
      "Collecting data from https://www.eliteprospects.com/league/ncaa/stats/2024-2025/?page=5\n",
      "Collecting data from https://www.eliteprospects.com/league/ncaa/stats/2024-2025/?page=6\n",
      "Collecting data from https://www.eliteprospects.com/league/ncaa/stats/2024-2025/?page=7\n",
      "Collecting data from https://www.eliteprospects.com/league/ncaa/stats/2024-2025/?page=8\n",
      "Collecting data from https://www.eliteprospects.com/league/ncaa/stats/2024-2025/?page=9\n",
      "Collecting data from https://www.eliteprospects.com/league/ncaa/stats/2024-2025/?page=10\n",
      "Collecting data from https://www.eliteprospects.com/league/ncaa/stats/2024-2025/?page=11\n",
      "Collecting data from https://www.eliteprospects.com/league/ncaa/stats/2024-2025/?page=12\n",
      "Collecting data from https://www.eliteprospects.com/league/ncaa/stats/2024-2025/?page=13\n",
      "Collecting data from https://www.eliteprospects.com/league/ncaa/stats/2024-2025/?page=14\n",
      "Collecting data from https://www.eliteprospects.com/league/ncaa/stats/2024-2025/?page=15\n",
      "Collecting data from https://www.eliteprospects.com/league/ncaa/stats/2024-2025/?page=16\n",
      "Collecting data from https://www.eliteprospects.com/league/ncaa/stats/2024-2025/?page=17\n"
     ]
    }
   ],
   "execution_count": 3
  },
  {
   "metadata": {
    "ExecuteTime": {
     "end_time": "2025-07-04T15:55:45.365476Z",
     "start_time": "2025-07-04T15:55:45.356631Z"
    }
   },
   "cell_type": "code",
   "source": "umass_2425 = ncaa_players_2425[ncaa_players_2425['team'] == 'UMass']",
   "id": "a4cc9383f4a5045b",
   "outputs": [],
   "execution_count": 4
  },
  {
   "metadata": {
    "ExecuteTime": {
     "end_time": "2025-07-04T15:56:51.851267Z",
     "start_time": "2025-07-04T15:56:51.831220Z"
    }
   },
   "cell_type": "code",
   "source": "ncaa_players_2425.to_csv('ncaa_players_2425.csv', index=False)",
   "id": "3ef1f5f73fb690e1",
   "outputs": [],
   "execution_count": 8
  }
 ],
 "metadata": {
  "kernelspec": {
   "display_name": "Python 3",
   "language": "python",
   "name": "python3"
  },
  "language_info": {
   "codemirror_mode": {
    "name": "ipython",
    "version": 2
   },
   "file_extension": ".py",
   "mimetype": "text/x-python",
   "name": "python",
   "nbconvert_exporter": "python",
   "pygments_lexer": "ipython2",
   "version": "2.7.6"
  }
 },
 "nbformat": 4,
 "nbformat_minor": 5
}
