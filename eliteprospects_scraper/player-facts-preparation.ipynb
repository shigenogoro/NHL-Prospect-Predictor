{
 "cells": [
  {
   "cell_type": "markdown",
   "id": "fba5e1cd4bfea1c1",
   "metadata": {},
   "source": [
    "# Player Facts Preparation\n",
    "## Collecting NHL Players' Facts from EliteProspects\n",
    "This step gathers player facts data for downstream NHL prediction.\n",
    "\n",
    "- Collect league-wide player stats for a given season from\n",
    "https://eliteprospects.com/league/{league}/stats/{season}?page={n}\n",
    "\n",
    "- Extract metadata, including individual player profile links.\n",
    "\n",
    "- Build a unique player list from seasons 2000–2025 by storing profile links in a set.\n",
    "\n",
    "- Scrape each player’s page to retrieve their first 5 years of NHL stats, filtered by seasons where they played more than 30 games.\n",
    "\n",
    "- Gather pre-NHL stats for each player (junior, college, international, etc.)."
   ]
  },
  {
   "metadata": {},
   "cell_type": "markdown",
   "source": "## Import Libraries",
   "id": "dc27cbf96ae7fb75"
  },
  {
   "metadata": {
    "ExecuteTime": {
     "end_time": "2025-07-25T23:11:58.906552Z",
     "start_time": "2025-07-25T23:11:58.026754Z"
    }
   },
   "cell_type": "code",
   "source": [
    "import eliteprospects_scraper_api as ep\n",
    "import pandas as pd\n",
    "import os\n",
    "import time\n",
    "import random"
   ],
   "id": "faf29af969eeaaef",
   "outputs": [],
   "execution_count": 1
  },
  {
   "metadata": {},
   "cell_type": "markdown",
   "source": "### Collecting NHL Players' Metadata from EliteProspects",
   "id": "a9d0baa4fdda02ad"
  },
  {
   "metadata": {
    "ExecuteTime": {
     "end_time": "2025-07-25T23:11:59.032998Z",
     "start_time": "2025-07-25T23:11:59.025454Z"
    }
   },
   "cell_type": "code",
   "source": [
    "if not os.path.exists('./data/nhl/nhl_players_metadata.csv'):\n",
    "    # Collect players from 2000-2025 season\n",
    "    for i in range(0, 25):\n",
    "        season = f'20{str(i).zfill(2)}-20{str(i + 1).zfill(2)}'\n",
    "        print(f'Scraping {season}')\n",
    "        nhl_players = ep.get_season_roster(\"nhl\", season)\n",
    "        nhl_players.to_csv(f'./data/nhl/players/nhl_players_{season}.csv', index=False, encoding='utf-8-sig')\n",
    "        print(f'Finished scraping {season}')\n",
    "else:\n",
    "    print('NHL players metadata already exists. Skipping scraping.')"
   ],
   "id": "14c1e05a4501f95c",
   "outputs": [
    {
     "name": "stdout",
     "output_type": "stream",
     "text": [
      "NHL players metadata already exists. Skipping scraping.\n"
     ]
    }
   ],
   "execution_count": 2
  },
  {
   "metadata": {
    "ExecuteTime": {
     "end_time": "2025-07-25T23:11:59.429077Z",
     "start_time": "2025-07-25T23:11:59.411953Z"
    }
   },
   "cell_type": "code",
   "source": [
    "if not os.path.exists('./data/nhl/nhl_players_metadata.csv'):\n",
    "    # Collect players' metadata from 2000-2025 season\n",
    "    nhl_players_metadata = pd.DataFrame()\n",
    "    for i in range(0, 25):\n",
    "        season = f'20{str(i).zfill(2)}-20{str(i + 1).zfill(2)}'\n",
    "        nhl_players = pd.read_csv(f'./data/nhl/players/nhl_players_{season}.csv')\n",
    "        nhl_players_metadata = pd.concat([nhl_players_metadata, ep.get_players_metadata(nhl_players)]).reset_index(drop=True)\n",
    "        # Remove duplicates\n",
    "        nhl_players_metadata = nhl_players_metadata.drop_duplicates(subset=['playername']).reset_index(drop=True)\n",
    "        print(f'Finished Merging Metadata for {season}')\n",
    "else:\n",
    "    print('NHL players metadata already exists. Skipping merging.')\n",
    "    nhl_players_metadata = pd.read_csv('./data/nhl/nhl_players_metadata.csv')\n"
   ],
   "id": "70869f74f41ee23",
   "outputs": [
    {
     "name": "stdout",
     "output_type": "stream",
     "text": [
      "NHL players metadata already exists. Skipping merging.\n"
     ]
    }
   ],
   "execution_count": 3
  },
  {
   "metadata": {},
   "cell_type": "markdown",
   "source": "### Testing API",
   "id": "3891b37280a6b07"
  },
  {
   "metadata": {
    "ExecuteTime": {
     "end_time": "2025-07-25T23:12:00.329571Z",
     "start_time": "2025-07-25T23:12:00.317928Z"
    }
   },
   "cell_type": "code",
   "source": [
    "cale_makar_metadata = nhl_players_metadata.iloc[3188]\n",
    "cale_makar_metadata"
   ],
   "id": "bb5ce334d113e723",
   "outputs": [
    {
     "data": {
      "text/plain": [
       "playername                                           Cale Makar\n",
       "fw_def                                                      DEF\n",
       "link          https://www.eliteprospects.com/player/199655/c...\n",
       "Name: 3188, dtype: object"
      ]
     },
     "execution_count": 4,
     "metadata": {},
     "output_type": "execute_result"
    }
   ],
   "execution_count": 4
  },
  {
   "metadata": {
    "ExecuteTime": {
     "end_time": "2025-07-25T23:12:42.857376Z",
     "start_time": "2025-07-25T23:12:00.994226Z"
    }
   },
   "cell_type": "code",
   "source": "cale_makar_facts = ep.get_player_facts(cale_makar_metadata)",
   "id": "990ffeba7b5678f0",
   "outputs": [
    {
     "name": "stdout",
     "output_type": "stream",
     "text": [
      "Collecting facts for Cale Makar at https://www.eliteprospects.com/player/199655/cale-makar\n",
      "Player type: PP Specialist\n",
      "Player type: Speedster\n",
      "Player type: Two-Way Defenseman\n"
     ]
    }
   ],
   "execution_count": 5
  },
  {
   "metadata": {
    "ExecuteTime": {
     "end_time": "2025-07-25T23:12:46.721073Z",
     "start_time": "2025-07-25T23:12:46.708272Z"
    }
   },
   "cell_type": "code",
   "source": "cale_makar_facts",
   "id": "5475ad51677ba24a",
   "outputs": [
    {
     "data": {
      "text/plain": [
       "  Player Name  Nation Position  Height (cm)  Weight (kg) Shoots  \\\n",
       "0  Cale Makar  Canada        D          180           85      R   \n",
       "\n",
       "                                      Player type  \\\n",
       "0  [PP Specialist, Speedster, Two-Way Defenseman]   \n",
       "\n",
       "                    NHL Rights         Draft  \\\n",
       "0  Colorado Avalanche / Signed  (1, 4, 2017)   \n",
       "\n",
       "                                          Highlights  \\\n",
       "0  [1-time WJAC-19 Gold Medal, 1-time U20 WJC Gol...   \n",
       "\n",
       "                                         Description  \n",
       "0  Many have called Cale Makar one of the purest ...  "
      ],
      "text/html": [
       "<div>\n",
       "<style scoped>\n",
       "    .dataframe tbody tr th:only-of-type {\n",
       "        vertical-align: middle;\n",
       "    }\n",
       "\n",
       "    .dataframe tbody tr th {\n",
       "        vertical-align: top;\n",
       "    }\n",
       "\n",
       "    .dataframe thead th {\n",
       "        text-align: right;\n",
       "    }\n",
       "</style>\n",
       "<table border=\"1\" class=\"dataframe\">\n",
       "  <thead>\n",
       "    <tr style=\"text-align: right;\">\n",
       "      <th></th>\n",
       "      <th>Player Name</th>\n",
       "      <th>Nation</th>\n",
       "      <th>Position</th>\n",
       "      <th>Height (cm)</th>\n",
       "      <th>Weight (kg)</th>\n",
       "      <th>Shoots</th>\n",
       "      <th>Player type</th>\n",
       "      <th>NHL Rights</th>\n",
       "      <th>Draft</th>\n",
       "      <th>Highlights</th>\n",
       "      <th>Description</th>\n",
       "    </tr>\n",
       "  </thead>\n",
       "  <tbody>\n",
       "    <tr>\n",
       "      <th>0</th>\n",
       "      <td>Cale Makar</td>\n",
       "      <td>Canada</td>\n",
       "      <td>D</td>\n",
       "      <td>180</td>\n",
       "      <td>85</td>\n",
       "      <td>R</td>\n",
       "      <td>[PP Specialist, Speedster, Two-Way Defenseman]</td>\n",
       "      <td>Colorado Avalanche / Signed</td>\n",
       "      <td>(1, 4, 2017)</td>\n",
       "      <td>[1-time WJAC-19 Gold Medal, 1-time U20 WJC Gol...</td>\n",
       "      <td>Many have called Cale Makar one of the purest ...</td>\n",
       "    </tr>\n",
       "  </tbody>\n",
       "</table>\n",
       "</div>"
      ]
     },
     "execution_count": 6,
     "metadata": {},
     "output_type": "execute_result"
    }
   ],
   "execution_count": 6
  },
  {
   "metadata": {},
   "cell_type": "markdown",
   "source": "### Collecting NHL Players' Facts from EliteProspects",
   "id": "1d09ec88b668f3ee"
  },
  {
   "metadata": {},
   "cell_type": "code",
   "source": [
    "# Define output file\n",
    "output_path = './data/nhl/stats/nhl_players_facts.csv'"
   ],
   "id": "24125d27dfb97a1e",
   "outputs": [],
   "execution_count": null
  },
  {
   "metadata": {},
   "cell_type": "code",
   "source": [
    "def get_players_stats_by_batch(players_to_scrape):\n",
    "    curr_len = len(players_to_scrape)\n",
    "    fail_count = 0\n",
    "\n",
    "    for i in range(curr_len):\n",
    "        player_metadata = players_to_scrape.iloc[i]\n",
    "        player_name = player_metadata['playername']\n",
    "        player_url = player_metadata['link']\n",
    "        print(f\"\\n [{i + 1}] Collecting facts for {player_name} at {player_url}\")\n",
    "\n",
    "        try:\n",
    "            player_stats = ep.get_player_facts(player_metadata)\n",
    "\n",
    "            # Write to CSV file\n",
    "            if os.path.exists(output_path):\n",
    "                player_stats.to_csv(output_path, mode='a', header=False, index=False, encoding='utf-8-sig')\n",
    "            else:\n",
    "                player_stats.to_csv(output_path, index=False, encoding='utf-8-sig')\n",
    "            print(f'Successfully scraped facts for {player_name}')\n",
    "\n",
    "            # Print Fail Rate\n",
    "            print(f'Failed rate: {fail_count / (i + 1):.2f}')\n",
    "\n",
    "            # Add random sleep to prevent getting blocked\n",
    "            if i < curr_len - 1:\n",
    "                sleep_time = random.uniform(10, 120)\n",
    "                print(f\"Sleep for {sleep_time / 60:.2f} minutes to prevent getting blocked\")\n",
    "                time.sleep(sleep_time)\n",
    "        except Exception as e:\n",
    "            print(f\"Failed to get facts for {player_name}: {e}\")\n",
    "\n",
    "            fail_count += 1\n",
    "\n",
    "            if i < curr_len - 1:\n",
    "                # Sleep for 15-60 seconds before trying the next player\n",
    "                sleep_time = random.uniform(15, 60)\n",
    "                print(f\"Sleeping for {sleep_time / 60:.2f} seconds before trying the next player\")\n",
    "                time.sleep(sleep_time)"
   ],
   "id": "51c259ecbe50e67c",
   "outputs": [],
   "execution_count": null
  },
  {
   "metadata": {},
   "cell_type": "markdown",
   "source": "### Fetch Player Facts in Batches",
   "id": "48bafac42814197"
  },
  {
   "metadata": {},
   "cell_type": "code",
   "source": "",
   "id": "71d3ce8bec7ea2de",
   "outputs": [],
   "execution_count": null
  }
 ],
 "metadata": {
  "kernelspec": {
   "display_name": "Python 3",
   "language": "python",
   "name": "python3"
  },
  "language_info": {
   "codemirror_mode": {
    "name": "ipython",
    "version": 2
   },
   "file_extension": ".py",
   "mimetype": "text/x-python",
   "name": "python",
   "nbconvert_exporter": "python",
   "pygments_lexer": "ipython2",
   "version": "2.7.6"
  }
 },
 "nbformat": 4,
 "nbformat_minor": 5
}
